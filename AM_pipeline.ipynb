{
  "nbformat": 4,
  "nbformat_minor": 0,
  "metadata": {
    "colab": {
      "name": "AM_pipeline.ipynb",
      "provenance": [],
      "collapsed_sections": [],
      "authorship_tag": "ABX9TyNkBYQe2hkWpYRdXfLSQeZO",
      "include_colab_link": true
    },
    "kernelspec": {
      "name": "python3",
      "display_name": "Python 3"
    },
    "language_info": {
      "name": "python"
    },
    "accelerator": "GPU",
    "widgets": {
      "application/vnd.jupyter.widget-state+json": {
        "4426629690504111a138c4de7ca07773": {
          "model_module": "@jupyter-widgets/controls",
          "model_name": "HBoxModel",
          "model_module_version": "1.5.0",
          "state": {
            "_view_name": "HBoxView",
            "_dom_classes": [],
            "_model_name": "HBoxModel",
            "_view_module": "@jupyter-widgets/controls",
            "_model_module_version": "1.5.0",
            "_view_count": null,
            "_view_module_version": "1.5.0",
            "box_style": "",
            "layout": "IPY_MODEL_022a5df4186748b2b9ece6226cca821c",
            "_model_module": "@jupyter-widgets/controls",
            "children": [
              "IPY_MODEL_3ad3f42dc3d24e299a4f2c349dba43fe",
              "IPY_MODEL_fdc23676b23746759312f6b13027f649",
              "IPY_MODEL_1138cb48e3864f229a4ce6d570146c9c"
            ]
          }
        },
        "022a5df4186748b2b9ece6226cca821c": {
          "model_module": "@jupyter-widgets/base",
          "model_name": "LayoutModel",
          "model_module_version": "1.2.0",
          "state": {
            "_view_name": "LayoutView",
            "grid_template_rows": null,
            "right": null,
            "justify_content": null,
            "_view_module": "@jupyter-widgets/base",
            "overflow": null,
            "_model_module_version": "1.2.0",
            "_view_count": null,
            "flex_flow": null,
            "width": null,
            "min_width": null,
            "border": null,
            "align_items": null,
            "bottom": null,
            "_model_module": "@jupyter-widgets/base",
            "top": null,
            "grid_column": null,
            "overflow_y": null,
            "overflow_x": null,
            "grid_auto_flow": null,
            "grid_area": null,
            "grid_template_columns": null,
            "flex": null,
            "_model_name": "LayoutModel",
            "justify_items": null,
            "grid_row": null,
            "max_height": null,
            "align_content": null,
            "visibility": null,
            "align_self": null,
            "height": null,
            "min_height": null,
            "padding": null,
            "grid_auto_rows": null,
            "grid_gap": null,
            "max_width": null,
            "order": null,
            "_view_module_version": "1.2.0",
            "grid_template_areas": null,
            "object_position": null,
            "object_fit": null,
            "grid_auto_columns": null,
            "margin": null,
            "display": null,
            "left": null
          }
        },
        "3ad3f42dc3d24e299a4f2c349dba43fe": {
          "model_module": "@jupyter-widgets/controls",
          "model_name": "HTMLModel",
          "model_module_version": "1.5.0",
          "state": {
            "_view_name": "HTMLView",
            "style": "IPY_MODEL_bf2b4be5f086425eb698629cab78a91b",
            "_dom_classes": [],
            "description": "",
            "_model_name": "HTMLModel",
            "placeholder": "​",
            "_view_module": "@jupyter-widgets/controls",
            "_model_module_version": "1.5.0",
            "value": "Downloading: 100%",
            "_view_count": null,
            "_view_module_version": "1.5.0",
            "description_tooltip": null,
            "_model_module": "@jupyter-widgets/controls",
            "layout": "IPY_MODEL_07974571ec6d4904a18767b48512bf3e"
          }
        },
        "fdc23676b23746759312f6b13027f649": {
          "model_module": "@jupyter-widgets/controls",
          "model_name": "FloatProgressModel",
          "model_module_version": "1.5.0",
          "state": {
            "_view_name": "ProgressView",
            "style": "IPY_MODEL_bcdc937ccda24f5bb94ea544d00f4e10",
            "_dom_classes": [],
            "description": "",
            "_model_name": "FloatProgressModel",
            "bar_style": "success",
            "max": 570,
            "_view_module": "@jupyter-widgets/controls",
            "_model_module_version": "1.5.0",
            "value": 570,
            "_view_count": null,
            "_view_module_version": "1.5.0",
            "orientation": "horizontal",
            "min": 0,
            "description_tooltip": null,
            "_model_module": "@jupyter-widgets/controls",
            "layout": "IPY_MODEL_ba4ae8ced1c645d6b7eb097eaee0c3ae"
          }
        },
        "1138cb48e3864f229a4ce6d570146c9c": {
          "model_module": "@jupyter-widgets/controls",
          "model_name": "HTMLModel",
          "model_module_version": "1.5.0",
          "state": {
            "_view_name": "HTMLView",
            "style": "IPY_MODEL_005d23d548514517aa3fb16052a50cde",
            "_dom_classes": [],
            "description": "",
            "_model_name": "HTMLModel",
            "placeholder": "​",
            "_view_module": "@jupyter-widgets/controls",
            "_model_module_version": "1.5.0",
            "value": " 570/570 [00:00&lt;00:00, 13.2kB/s]",
            "_view_count": null,
            "_view_module_version": "1.5.0",
            "description_tooltip": null,
            "_model_module": "@jupyter-widgets/controls",
            "layout": "IPY_MODEL_df9956ee1c1e441b9c9b469de50fedc9"
          }
        },
        "bf2b4be5f086425eb698629cab78a91b": {
          "model_module": "@jupyter-widgets/controls",
          "model_name": "DescriptionStyleModel",
          "model_module_version": "1.5.0",
          "state": {
            "_view_name": "StyleView",
            "_model_name": "DescriptionStyleModel",
            "description_width": "",
            "_view_module": "@jupyter-widgets/base",
            "_model_module_version": "1.5.0",
            "_view_count": null,
            "_view_module_version": "1.2.0",
            "_model_module": "@jupyter-widgets/controls"
          }
        },
        "07974571ec6d4904a18767b48512bf3e": {
          "model_module": "@jupyter-widgets/base",
          "model_name": "LayoutModel",
          "model_module_version": "1.2.0",
          "state": {
            "_view_name": "LayoutView",
            "grid_template_rows": null,
            "right": null,
            "justify_content": null,
            "_view_module": "@jupyter-widgets/base",
            "overflow": null,
            "_model_module_version": "1.2.0",
            "_view_count": null,
            "flex_flow": null,
            "width": null,
            "min_width": null,
            "border": null,
            "align_items": null,
            "bottom": null,
            "_model_module": "@jupyter-widgets/base",
            "top": null,
            "grid_column": null,
            "overflow_y": null,
            "overflow_x": null,
            "grid_auto_flow": null,
            "grid_area": null,
            "grid_template_columns": null,
            "flex": null,
            "_model_name": "LayoutModel",
            "justify_items": null,
            "grid_row": null,
            "max_height": null,
            "align_content": null,
            "visibility": null,
            "align_self": null,
            "height": null,
            "min_height": null,
            "padding": null,
            "grid_auto_rows": null,
            "grid_gap": null,
            "max_width": null,
            "order": null,
            "_view_module_version": "1.2.0",
            "grid_template_areas": null,
            "object_position": null,
            "object_fit": null,
            "grid_auto_columns": null,
            "margin": null,
            "display": null,
            "left": null
          }
        },
        "bcdc937ccda24f5bb94ea544d00f4e10": {
          "model_module": "@jupyter-widgets/controls",
          "model_name": "ProgressStyleModel",
          "model_module_version": "1.5.0",
          "state": {
            "_view_name": "StyleView",
            "_model_name": "ProgressStyleModel",
            "description_width": "",
            "_view_module": "@jupyter-widgets/base",
            "_model_module_version": "1.5.0",
            "_view_count": null,
            "_view_module_version": "1.2.0",
            "bar_color": null,
            "_model_module": "@jupyter-widgets/controls"
          }
        },
        "ba4ae8ced1c645d6b7eb097eaee0c3ae": {
          "model_module": "@jupyter-widgets/base",
          "model_name": "LayoutModel",
          "model_module_version": "1.2.0",
          "state": {
            "_view_name": "LayoutView",
            "grid_template_rows": null,
            "right": null,
            "justify_content": null,
            "_view_module": "@jupyter-widgets/base",
            "overflow": null,
            "_model_module_version": "1.2.0",
            "_view_count": null,
            "flex_flow": null,
            "width": null,
            "min_width": null,
            "border": null,
            "align_items": null,
            "bottom": null,
            "_model_module": "@jupyter-widgets/base",
            "top": null,
            "grid_column": null,
            "overflow_y": null,
            "overflow_x": null,
            "grid_auto_flow": null,
            "grid_area": null,
            "grid_template_columns": null,
            "flex": null,
            "_model_name": "LayoutModel",
            "justify_items": null,
            "grid_row": null,
            "max_height": null,
            "align_content": null,
            "visibility": null,
            "align_self": null,
            "height": null,
            "min_height": null,
            "padding": null,
            "grid_auto_rows": null,
            "grid_gap": null,
            "max_width": null,
            "order": null,
            "_view_module_version": "1.2.0",
            "grid_template_areas": null,
            "object_position": null,
            "object_fit": null,
            "grid_auto_columns": null,
            "margin": null,
            "display": null,
            "left": null
          }
        },
        "005d23d548514517aa3fb16052a50cde": {
          "model_module": "@jupyter-widgets/controls",
          "model_name": "DescriptionStyleModel",
          "model_module_version": "1.5.0",
          "state": {
            "_view_name": "StyleView",
            "_model_name": "DescriptionStyleModel",
            "description_width": "",
            "_view_module": "@jupyter-widgets/base",
            "_model_module_version": "1.5.0",
            "_view_count": null,
            "_view_module_version": "1.2.0",
            "_model_module": "@jupyter-widgets/controls"
          }
        },
        "df9956ee1c1e441b9c9b469de50fedc9": {
          "model_module": "@jupyter-widgets/base",
          "model_name": "LayoutModel",
          "model_module_version": "1.2.0",
          "state": {
            "_view_name": "LayoutView",
            "grid_template_rows": null,
            "right": null,
            "justify_content": null,
            "_view_module": "@jupyter-widgets/base",
            "overflow": null,
            "_model_module_version": "1.2.0",
            "_view_count": null,
            "flex_flow": null,
            "width": null,
            "min_width": null,
            "border": null,
            "align_items": null,
            "bottom": null,
            "_model_module": "@jupyter-widgets/base",
            "top": null,
            "grid_column": null,
            "overflow_y": null,
            "overflow_x": null,
            "grid_auto_flow": null,
            "grid_area": null,
            "grid_template_columns": null,
            "flex": null,
            "_model_name": "LayoutModel",
            "justify_items": null,
            "grid_row": null,
            "max_height": null,
            "align_content": null,
            "visibility": null,
            "align_self": null,
            "height": null,
            "min_height": null,
            "padding": null,
            "grid_auto_rows": null,
            "grid_gap": null,
            "max_width": null,
            "order": null,
            "_view_module_version": "1.2.0",
            "grid_template_areas": null,
            "object_position": null,
            "object_fit": null,
            "grid_auto_columns": null,
            "margin": null,
            "display": null,
            "left": null
          }
        },
        "7b72edd16fff4d03bebc72b1ce8a404b": {
          "model_module": "@jupyter-widgets/controls",
          "model_name": "HBoxModel",
          "model_module_version": "1.5.0",
          "state": {
            "_view_name": "HBoxView",
            "_dom_classes": [],
            "_model_name": "HBoxModel",
            "_view_module": "@jupyter-widgets/controls",
            "_model_module_version": "1.5.0",
            "_view_count": null,
            "_view_module_version": "1.5.0",
            "box_style": "",
            "layout": "IPY_MODEL_3e49bcafb69146ac81dab2b0cf3b8cc3",
            "_model_module": "@jupyter-widgets/controls",
            "children": [
              "IPY_MODEL_359975400d634a9380aebbc9b63a3e41",
              "IPY_MODEL_e14227ae7f0b4f4b8faf869b3e6e41de",
              "IPY_MODEL_b987d4487adc413baf75783a044d95e0"
            ]
          }
        },
        "3e49bcafb69146ac81dab2b0cf3b8cc3": {
          "model_module": "@jupyter-widgets/base",
          "model_name": "LayoutModel",
          "model_module_version": "1.2.0",
          "state": {
            "_view_name": "LayoutView",
            "grid_template_rows": null,
            "right": null,
            "justify_content": null,
            "_view_module": "@jupyter-widgets/base",
            "overflow": null,
            "_model_module_version": "1.2.0",
            "_view_count": null,
            "flex_flow": null,
            "width": null,
            "min_width": null,
            "border": null,
            "align_items": null,
            "bottom": null,
            "_model_module": "@jupyter-widgets/base",
            "top": null,
            "grid_column": null,
            "overflow_y": null,
            "overflow_x": null,
            "grid_auto_flow": null,
            "grid_area": null,
            "grid_template_columns": null,
            "flex": null,
            "_model_name": "LayoutModel",
            "justify_items": null,
            "grid_row": null,
            "max_height": null,
            "align_content": null,
            "visibility": null,
            "align_self": null,
            "height": null,
            "min_height": null,
            "padding": null,
            "grid_auto_rows": null,
            "grid_gap": null,
            "max_width": null,
            "order": null,
            "_view_module_version": "1.2.0",
            "grid_template_areas": null,
            "object_position": null,
            "object_fit": null,
            "grid_auto_columns": null,
            "margin": null,
            "display": null,
            "left": null
          }
        },
        "359975400d634a9380aebbc9b63a3e41": {
          "model_module": "@jupyter-widgets/controls",
          "model_name": "HTMLModel",
          "model_module_version": "1.5.0",
          "state": {
            "_view_name": "HTMLView",
            "style": "IPY_MODEL_33775a0027804516a8716440c6e07cd1",
            "_dom_classes": [],
            "description": "",
            "_model_name": "HTMLModel",
            "placeholder": "​",
            "_view_module": "@jupyter-widgets/controls",
            "_model_module_version": "1.5.0",
            "value": "Downloading: 100%",
            "_view_count": null,
            "_view_module_version": "1.5.0",
            "description_tooltip": null,
            "_model_module": "@jupyter-widgets/controls",
            "layout": "IPY_MODEL_4dd4c2d69dac46dbb138401e2e70c70e"
          }
        },
        "e14227ae7f0b4f4b8faf869b3e6e41de": {
          "model_module": "@jupyter-widgets/controls",
          "model_name": "FloatProgressModel",
          "model_module_version": "1.5.0",
          "state": {
            "_view_name": "ProgressView",
            "style": "IPY_MODEL_b4dcc75635374f8389eb42a7e7d89de7",
            "_dom_classes": [],
            "description": "",
            "_model_name": "FloatProgressModel",
            "bar_style": "success",
            "max": 526681800,
            "_view_module": "@jupyter-widgets/controls",
            "_model_module_version": "1.5.0",
            "value": 526681800,
            "_view_count": null,
            "_view_module_version": "1.5.0",
            "orientation": "horizontal",
            "min": 0,
            "description_tooltip": null,
            "_model_module": "@jupyter-widgets/controls",
            "layout": "IPY_MODEL_c424b802faf2469ca00a8a830a86e355"
          }
        },
        "b987d4487adc413baf75783a044d95e0": {
          "model_module": "@jupyter-widgets/controls",
          "model_name": "HTMLModel",
          "model_module_version": "1.5.0",
          "state": {
            "_view_name": "HTMLView",
            "style": "IPY_MODEL_17627c9290ec4ed88872c418bdc69992",
            "_dom_classes": [],
            "description": "",
            "_model_name": "HTMLModel",
            "placeholder": "​",
            "_view_module": "@jupyter-widgets/controls",
            "_model_module_version": "1.5.0",
            "value": " 527M/527M [00:14&lt;00:00, 43.2MB/s]",
            "_view_count": null,
            "_view_module_version": "1.5.0",
            "description_tooltip": null,
            "_model_module": "@jupyter-widgets/controls",
            "layout": "IPY_MODEL_2e2f20d2691e405b99bc10a44bae37d9"
          }
        },
        "33775a0027804516a8716440c6e07cd1": {
          "model_module": "@jupyter-widgets/controls",
          "model_name": "DescriptionStyleModel",
          "model_module_version": "1.5.0",
          "state": {
            "_view_name": "StyleView",
            "_model_name": "DescriptionStyleModel",
            "description_width": "",
            "_view_module": "@jupyter-widgets/base",
            "_model_module_version": "1.5.0",
            "_view_count": null,
            "_view_module_version": "1.2.0",
            "_model_module": "@jupyter-widgets/controls"
          }
        },
        "4dd4c2d69dac46dbb138401e2e70c70e": {
          "model_module": "@jupyter-widgets/base",
          "model_name": "LayoutModel",
          "model_module_version": "1.2.0",
          "state": {
            "_view_name": "LayoutView",
            "grid_template_rows": null,
            "right": null,
            "justify_content": null,
            "_view_module": "@jupyter-widgets/base",
            "overflow": null,
            "_model_module_version": "1.2.0",
            "_view_count": null,
            "flex_flow": null,
            "width": null,
            "min_width": null,
            "border": null,
            "align_items": null,
            "bottom": null,
            "_model_module": "@jupyter-widgets/base",
            "top": null,
            "grid_column": null,
            "overflow_y": null,
            "overflow_x": null,
            "grid_auto_flow": null,
            "grid_area": null,
            "grid_template_columns": null,
            "flex": null,
            "_model_name": "LayoutModel",
            "justify_items": null,
            "grid_row": null,
            "max_height": null,
            "align_content": null,
            "visibility": null,
            "align_self": null,
            "height": null,
            "min_height": null,
            "padding": null,
            "grid_auto_rows": null,
            "grid_gap": null,
            "max_width": null,
            "order": null,
            "_view_module_version": "1.2.0",
            "grid_template_areas": null,
            "object_position": null,
            "object_fit": null,
            "grid_auto_columns": null,
            "margin": null,
            "display": null,
            "left": null
          }
        },
        "b4dcc75635374f8389eb42a7e7d89de7": {
          "model_module": "@jupyter-widgets/controls",
          "model_name": "ProgressStyleModel",
          "model_module_version": "1.5.0",
          "state": {
            "_view_name": "StyleView",
            "_model_name": "ProgressStyleModel",
            "description_width": "",
            "_view_module": "@jupyter-widgets/base",
            "_model_module_version": "1.5.0",
            "_view_count": null,
            "_view_module_version": "1.2.0",
            "bar_color": null,
            "_model_module": "@jupyter-widgets/controls"
          }
        },
        "c424b802faf2469ca00a8a830a86e355": {
          "model_module": "@jupyter-widgets/base",
          "model_name": "LayoutModel",
          "model_module_version": "1.2.0",
          "state": {
            "_view_name": "LayoutView",
            "grid_template_rows": null,
            "right": null,
            "justify_content": null,
            "_view_module": "@jupyter-widgets/base",
            "overflow": null,
            "_model_module_version": "1.2.0",
            "_view_count": null,
            "flex_flow": null,
            "width": null,
            "min_width": null,
            "border": null,
            "align_items": null,
            "bottom": null,
            "_model_module": "@jupyter-widgets/base",
            "top": null,
            "grid_column": null,
            "overflow_y": null,
            "overflow_x": null,
            "grid_auto_flow": null,
            "grid_area": null,
            "grid_template_columns": null,
            "flex": null,
            "_model_name": "LayoutModel",
            "justify_items": null,
            "grid_row": null,
            "max_height": null,
            "align_content": null,
            "visibility": null,
            "align_self": null,
            "height": null,
            "min_height": null,
            "padding": null,
            "grid_auto_rows": null,
            "grid_gap": null,
            "max_width": null,
            "order": null,
            "_view_module_version": "1.2.0",
            "grid_template_areas": null,
            "object_position": null,
            "object_fit": null,
            "grid_auto_columns": null,
            "margin": null,
            "display": null,
            "left": null
          }
        },
        "17627c9290ec4ed88872c418bdc69992": {
          "model_module": "@jupyter-widgets/controls",
          "model_name": "DescriptionStyleModel",
          "model_module_version": "1.5.0",
          "state": {
            "_view_name": "StyleView",
            "_model_name": "DescriptionStyleModel",
            "description_width": "",
            "_view_module": "@jupyter-widgets/base",
            "_model_module_version": "1.5.0",
            "_view_count": null,
            "_view_module_version": "1.2.0",
            "_model_module": "@jupyter-widgets/controls"
          }
        },
        "2e2f20d2691e405b99bc10a44bae37d9": {
          "model_module": "@jupyter-widgets/base",
          "model_name": "LayoutModel",
          "model_module_version": "1.2.0",
          "state": {
            "_view_name": "LayoutView",
            "grid_template_rows": null,
            "right": null,
            "justify_content": null,
            "_view_module": "@jupyter-widgets/base",
            "overflow": null,
            "_model_module_version": "1.2.0",
            "_view_count": null,
            "flex_flow": null,
            "width": null,
            "min_width": null,
            "border": null,
            "align_items": null,
            "bottom": null,
            "_model_module": "@jupyter-widgets/base",
            "top": null,
            "grid_column": null,
            "overflow_y": null,
            "overflow_x": null,
            "grid_auto_flow": null,
            "grid_area": null,
            "grid_template_columns": null,
            "flex": null,
            "_model_name": "LayoutModel",
            "justify_items": null,
            "grid_row": null,
            "max_height": null,
            "align_content": null,
            "visibility": null,
            "align_self": null,
            "height": null,
            "min_height": null,
            "padding": null,
            "grid_auto_rows": null,
            "grid_gap": null,
            "max_width": null,
            "order": null,
            "_view_module_version": "1.2.0",
            "grid_template_areas": null,
            "object_position": null,
            "object_fit": null,
            "grid_auto_columns": null,
            "margin": null,
            "display": null,
            "left": null
          }
        },
        "e1cb23abd53c4964a1af79a29d4d0fd3": {
          "model_module": "@jupyter-widgets/controls",
          "model_name": "HBoxModel",
          "model_module_version": "1.5.0",
          "state": {
            "_view_name": "HBoxView",
            "_dom_classes": [],
            "_model_name": "HBoxModel",
            "_view_module": "@jupyter-widgets/controls",
            "_model_module_version": "1.5.0",
            "_view_count": null,
            "_view_module_version": "1.5.0",
            "box_style": "",
            "layout": "IPY_MODEL_0245b144ee3d444895a817fb5cf93185",
            "_model_module": "@jupyter-widgets/controls",
            "children": [
              "IPY_MODEL_d3d4a871a8134f16a075b1d843e6667f",
              "IPY_MODEL_e4f27aa2aebb48b4a71530e429ef53fb",
              "IPY_MODEL_c88c671a2a944e2ea717bf77df9952b7"
            ]
          }
        },
        "0245b144ee3d444895a817fb5cf93185": {
          "model_module": "@jupyter-widgets/base",
          "model_name": "LayoutModel",
          "model_module_version": "1.2.0",
          "state": {
            "_view_name": "LayoutView",
            "grid_template_rows": null,
            "right": null,
            "justify_content": null,
            "_view_module": "@jupyter-widgets/base",
            "overflow": null,
            "_model_module_version": "1.2.0",
            "_view_count": null,
            "flex_flow": null,
            "width": null,
            "min_width": null,
            "border": null,
            "align_items": null,
            "bottom": null,
            "_model_module": "@jupyter-widgets/base",
            "top": null,
            "grid_column": null,
            "overflow_y": null,
            "overflow_x": null,
            "grid_auto_flow": null,
            "grid_area": null,
            "grid_template_columns": null,
            "flex": null,
            "_model_name": "LayoutModel",
            "justify_items": null,
            "grid_row": null,
            "max_height": null,
            "align_content": null,
            "visibility": null,
            "align_self": null,
            "height": null,
            "min_height": null,
            "padding": null,
            "grid_auto_rows": null,
            "grid_gap": null,
            "max_width": null,
            "order": null,
            "_view_module_version": "1.2.0",
            "grid_template_areas": null,
            "object_position": null,
            "object_fit": null,
            "grid_auto_columns": null,
            "margin": null,
            "display": null,
            "left": null
          }
        },
        "d3d4a871a8134f16a075b1d843e6667f": {
          "model_module": "@jupyter-widgets/controls",
          "model_name": "HTMLModel",
          "model_module_version": "1.5.0",
          "state": {
            "_view_name": "HTMLView",
            "style": "IPY_MODEL_608dc0f5933b4520b95b751a8ccbb89b",
            "_dom_classes": [],
            "description": "",
            "_model_name": "HTMLModel",
            "placeholder": "​",
            "_view_module": "@jupyter-widgets/controls",
            "_model_module_version": "1.5.0",
            "value": "Downloading: 100%",
            "_view_count": null,
            "_view_module_version": "1.5.0",
            "description_tooltip": null,
            "_model_module": "@jupyter-widgets/controls",
            "layout": "IPY_MODEL_f7ef18f0c2f34a19a9712217946ebf76"
          }
        },
        "e4f27aa2aebb48b4a71530e429ef53fb": {
          "model_module": "@jupyter-widgets/controls",
          "model_name": "FloatProgressModel",
          "model_module_version": "1.5.0",
          "state": {
            "_view_name": "ProgressView",
            "style": "IPY_MODEL_e63d8b4c39224c71b9ddb9303145baef",
            "_dom_classes": [],
            "description": "",
            "_model_name": "FloatProgressModel",
            "bar_style": "success",
            "max": 213450,
            "_view_module": "@jupyter-widgets/controls",
            "_model_module_version": "1.5.0",
            "value": 213450,
            "_view_count": null,
            "_view_module_version": "1.5.0",
            "orientation": "horizontal",
            "min": 0,
            "description_tooltip": null,
            "_model_module": "@jupyter-widgets/controls",
            "layout": "IPY_MODEL_849a7a3ee498448fba998679db81589b"
          }
        },
        "c88c671a2a944e2ea717bf77df9952b7": {
          "model_module": "@jupyter-widgets/controls",
          "model_name": "HTMLModel",
          "model_module_version": "1.5.0",
          "state": {
            "_view_name": "HTMLView",
            "style": "IPY_MODEL_215a7d91d70d4205a075e4cbdee35009",
            "_dom_classes": [],
            "description": "",
            "_model_name": "HTMLModel",
            "placeholder": "​",
            "_view_module": "@jupyter-widgets/controls",
            "_model_module_version": "1.5.0",
            "value": " 213k/213k [00:00&lt;00:00, 3.07MB/s]",
            "_view_count": null,
            "_view_module_version": "1.5.0",
            "description_tooltip": null,
            "_model_module": "@jupyter-widgets/controls",
            "layout": "IPY_MODEL_d604f46938a943ca934e75067892f7db"
          }
        },
        "608dc0f5933b4520b95b751a8ccbb89b": {
          "model_module": "@jupyter-widgets/controls",
          "model_name": "DescriptionStyleModel",
          "model_module_version": "1.5.0",
          "state": {
            "_view_name": "StyleView",
            "_model_name": "DescriptionStyleModel",
            "description_width": "",
            "_view_module": "@jupyter-widgets/base",
            "_model_module_version": "1.5.0",
            "_view_count": null,
            "_view_module_version": "1.2.0",
            "_model_module": "@jupyter-widgets/controls"
          }
        },
        "f7ef18f0c2f34a19a9712217946ebf76": {
          "model_module": "@jupyter-widgets/base",
          "model_name": "LayoutModel",
          "model_module_version": "1.2.0",
          "state": {
            "_view_name": "LayoutView",
            "grid_template_rows": null,
            "right": null,
            "justify_content": null,
            "_view_module": "@jupyter-widgets/base",
            "overflow": null,
            "_model_module_version": "1.2.0",
            "_view_count": null,
            "flex_flow": null,
            "width": null,
            "min_width": null,
            "border": null,
            "align_items": null,
            "bottom": null,
            "_model_module": "@jupyter-widgets/base",
            "top": null,
            "grid_column": null,
            "overflow_y": null,
            "overflow_x": null,
            "grid_auto_flow": null,
            "grid_area": null,
            "grid_template_columns": null,
            "flex": null,
            "_model_name": "LayoutModel",
            "justify_items": null,
            "grid_row": null,
            "max_height": null,
            "align_content": null,
            "visibility": null,
            "align_self": null,
            "height": null,
            "min_height": null,
            "padding": null,
            "grid_auto_rows": null,
            "grid_gap": null,
            "max_width": null,
            "order": null,
            "_view_module_version": "1.2.0",
            "grid_template_areas": null,
            "object_position": null,
            "object_fit": null,
            "grid_auto_columns": null,
            "margin": null,
            "display": null,
            "left": null
          }
        },
        "e63d8b4c39224c71b9ddb9303145baef": {
          "model_module": "@jupyter-widgets/controls",
          "model_name": "ProgressStyleModel",
          "model_module_version": "1.5.0",
          "state": {
            "_view_name": "StyleView",
            "_model_name": "ProgressStyleModel",
            "description_width": "",
            "_view_module": "@jupyter-widgets/base",
            "_model_module_version": "1.5.0",
            "_view_count": null,
            "_view_module_version": "1.2.0",
            "bar_color": null,
            "_model_module": "@jupyter-widgets/controls"
          }
        },
        "849a7a3ee498448fba998679db81589b": {
          "model_module": "@jupyter-widgets/base",
          "model_name": "LayoutModel",
          "model_module_version": "1.2.0",
          "state": {
            "_view_name": "LayoutView",
            "grid_template_rows": null,
            "right": null,
            "justify_content": null,
            "_view_module": "@jupyter-widgets/base",
            "overflow": null,
            "_model_module_version": "1.2.0",
            "_view_count": null,
            "flex_flow": null,
            "width": null,
            "min_width": null,
            "border": null,
            "align_items": null,
            "bottom": null,
            "_model_module": "@jupyter-widgets/base",
            "top": null,
            "grid_column": null,
            "overflow_y": null,
            "overflow_x": null,
            "grid_auto_flow": null,
            "grid_area": null,
            "grid_template_columns": null,
            "flex": null,
            "_model_name": "LayoutModel",
            "justify_items": null,
            "grid_row": null,
            "max_height": null,
            "align_content": null,
            "visibility": null,
            "align_self": null,
            "height": null,
            "min_height": null,
            "padding": null,
            "grid_auto_rows": null,
            "grid_gap": null,
            "max_width": null,
            "order": null,
            "_view_module_version": "1.2.0",
            "grid_template_areas": null,
            "object_position": null,
            "object_fit": null,
            "grid_auto_columns": null,
            "margin": null,
            "display": null,
            "left": null
          }
        },
        "215a7d91d70d4205a075e4cbdee35009": {
          "model_module": "@jupyter-widgets/controls",
          "model_name": "DescriptionStyleModel",
          "model_module_version": "1.5.0",
          "state": {
            "_view_name": "StyleView",
            "_model_name": "DescriptionStyleModel",
            "description_width": "",
            "_view_module": "@jupyter-widgets/base",
            "_model_module_version": "1.5.0",
            "_view_count": null,
            "_view_module_version": "1.2.0",
            "_model_module": "@jupyter-widgets/controls"
          }
        },
        "d604f46938a943ca934e75067892f7db": {
          "model_module": "@jupyter-widgets/base",
          "model_name": "LayoutModel",
          "model_module_version": "1.2.0",
          "state": {
            "_view_name": "LayoutView",
            "grid_template_rows": null,
            "right": null,
            "justify_content": null,
            "_view_module": "@jupyter-widgets/base",
            "overflow": null,
            "_model_module_version": "1.2.0",
            "_view_count": null,
            "flex_flow": null,
            "width": null,
            "min_width": null,
            "border": null,
            "align_items": null,
            "bottom": null,
            "_model_module": "@jupyter-widgets/base",
            "top": null,
            "grid_column": null,
            "overflow_y": null,
            "overflow_x": null,
            "grid_auto_flow": null,
            "grid_area": null,
            "grid_template_columns": null,
            "flex": null,
            "_model_name": "LayoutModel",
            "justify_items": null,
            "grid_row": null,
            "max_height": null,
            "align_content": null,
            "visibility": null,
            "align_self": null,
            "height": null,
            "min_height": null,
            "padding": null,
            "grid_auto_rows": null,
            "grid_gap": null,
            "max_width": null,
            "order": null,
            "_view_module_version": "1.2.0",
            "grid_template_areas": null,
            "object_position": null,
            "object_fit": null,
            "grid_auto_columns": null,
            "margin": null,
            "display": null,
            "left": null
          }
        },
        "715df695d2da4d589183ce150e2dddd3": {
          "model_module": "@jupyter-widgets/controls",
          "model_name": "HBoxModel",
          "model_module_version": "1.5.0",
          "state": {
            "_view_name": "HBoxView",
            "_dom_classes": [],
            "_model_name": "HBoxModel",
            "_view_module": "@jupyter-widgets/controls",
            "_model_module_version": "1.5.0",
            "_view_count": null,
            "_view_module_version": "1.5.0",
            "box_style": "",
            "layout": "IPY_MODEL_4f84c1b8b2bd4361a6029438a272ad78",
            "_model_module": "@jupyter-widgets/controls",
            "children": [
              "IPY_MODEL_2ed0e60439f74f0a85eb4a629371f013",
              "IPY_MODEL_afab7d806bd74fcdb58984de8ec633a7",
              "IPY_MODEL_16cc63aeee6046aea3445d7f06fd3da7"
            ]
          }
        },
        "4f84c1b8b2bd4361a6029438a272ad78": {
          "model_module": "@jupyter-widgets/base",
          "model_name": "LayoutModel",
          "model_module_version": "1.2.0",
          "state": {
            "_view_name": "LayoutView",
            "grid_template_rows": null,
            "right": null,
            "justify_content": null,
            "_view_module": "@jupyter-widgets/base",
            "overflow": null,
            "_model_module_version": "1.2.0",
            "_view_count": null,
            "flex_flow": null,
            "width": null,
            "min_width": null,
            "border": null,
            "align_items": null,
            "bottom": null,
            "_model_module": "@jupyter-widgets/base",
            "top": null,
            "grid_column": null,
            "overflow_y": null,
            "overflow_x": null,
            "grid_auto_flow": null,
            "grid_area": null,
            "grid_template_columns": null,
            "flex": null,
            "_model_name": "LayoutModel",
            "justify_items": null,
            "grid_row": null,
            "max_height": null,
            "align_content": null,
            "visibility": null,
            "align_self": null,
            "height": null,
            "min_height": null,
            "padding": null,
            "grid_auto_rows": null,
            "grid_gap": null,
            "max_width": null,
            "order": null,
            "_view_module_version": "1.2.0",
            "grid_template_areas": null,
            "object_position": null,
            "object_fit": null,
            "grid_auto_columns": null,
            "margin": null,
            "display": null,
            "left": null
          }
        },
        "2ed0e60439f74f0a85eb4a629371f013": {
          "model_module": "@jupyter-widgets/controls",
          "model_name": "HTMLModel",
          "model_module_version": "1.5.0",
          "state": {
            "_view_name": "HTMLView",
            "style": "IPY_MODEL_ff451b20c6a8462fb3f212cfa9873d89",
            "_dom_classes": [],
            "description": "",
            "_model_name": "HTMLModel",
            "placeholder": "​",
            "_view_module": "@jupyter-widgets/controls",
            "_model_module_version": "1.5.0",
            "value": "Downloading: 100%",
            "_view_count": null,
            "_view_module_version": "1.5.0",
            "description_tooltip": null,
            "_model_module": "@jupyter-widgets/controls",
            "layout": "IPY_MODEL_13f8edde3e094956871da06cac291b73"
          }
        },
        "afab7d806bd74fcdb58984de8ec633a7": {
          "model_module": "@jupyter-widgets/controls",
          "model_name": "FloatProgressModel",
          "model_module_version": "1.5.0",
          "state": {
            "_view_name": "ProgressView",
            "style": "IPY_MODEL_60603885b75f4c069f0f40a831d4cead",
            "_dom_classes": [],
            "description": "",
            "_model_name": "FloatProgressModel",
            "bar_style": "success",
            "max": 29,
            "_view_module": "@jupyter-widgets/controls",
            "_model_module_version": "1.5.0",
            "value": 29,
            "_view_count": null,
            "_view_module_version": "1.5.0",
            "orientation": "horizontal",
            "min": 0,
            "description_tooltip": null,
            "_model_module": "@jupyter-widgets/controls",
            "layout": "IPY_MODEL_70bad375335f447f86dd7f6a27684cc9"
          }
        },
        "16cc63aeee6046aea3445d7f06fd3da7": {
          "model_module": "@jupyter-widgets/controls",
          "model_name": "HTMLModel",
          "model_module_version": "1.5.0",
          "state": {
            "_view_name": "HTMLView",
            "style": "IPY_MODEL_65eee30ffd9a4a038a3780ea0e29f5d6",
            "_dom_classes": [],
            "description": "",
            "_model_name": "HTMLModel",
            "placeholder": "​",
            "_view_module": "@jupyter-widgets/controls",
            "_model_module_version": "1.5.0",
            "value": " 29.0/29.0 [00:00&lt;00:00, 836B/s]",
            "_view_count": null,
            "_view_module_version": "1.5.0",
            "description_tooltip": null,
            "_model_module": "@jupyter-widgets/controls",
            "layout": "IPY_MODEL_6e2c52c24d5e4457850a5d7daef6e91e"
          }
        },
        "ff451b20c6a8462fb3f212cfa9873d89": {
          "model_module": "@jupyter-widgets/controls",
          "model_name": "DescriptionStyleModel",
          "model_module_version": "1.5.0",
          "state": {
            "_view_name": "StyleView",
            "_model_name": "DescriptionStyleModel",
            "description_width": "",
            "_view_module": "@jupyter-widgets/base",
            "_model_module_version": "1.5.0",
            "_view_count": null,
            "_view_module_version": "1.2.0",
            "_model_module": "@jupyter-widgets/controls"
          }
        },
        "13f8edde3e094956871da06cac291b73": {
          "model_module": "@jupyter-widgets/base",
          "model_name": "LayoutModel",
          "model_module_version": "1.2.0",
          "state": {
            "_view_name": "LayoutView",
            "grid_template_rows": null,
            "right": null,
            "justify_content": null,
            "_view_module": "@jupyter-widgets/base",
            "overflow": null,
            "_model_module_version": "1.2.0",
            "_view_count": null,
            "flex_flow": null,
            "width": null,
            "min_width": null,
            "border": null,
            "align_items": null,
            "bottom": null,
            "_model_module": "@jupyter-widgets/base",
            "top": null,
            "grid_column": null,
            "overflow_y": null,
            "overflow_x": null,
            "grid_auto_flow": null,
            "grid_area": null,
            "grid_template_columns": null,
            "flex": null,
            "_model_name": "LayoutModel",
            "justify_items": null,
            "grid_row": null,
            "max_height": null,
            "align_content": null,
            "visibility": null,
            "align_self": null,
            "height": null,
            "min_height": null,
            "padding": null,
            "grid_auto_rows": null,
            "grid_gap": null,
            "max_width": null,
            "order": null,
            "_view_module_version": "1.2.0",
            "grid_template_areas": null,
            "object_position": null,
            "object_fit": null,
            "grid_auto_columns": null,
            "margin": null,
            "display": null,
            "left": null
          }
        },
        "60603885b75f4c069f0f40a831d4cead": {
          "model_module": "@jupyter-widgets/controls",
          "model_name": "ProgressStyleModel",
          "model_module_version": "1.5.0",
          "state": {
            "_view_name": "StyleView",
            "_model_name": "ProgressStyleModel",
            "description_width": "",
            "_view_module": "@jupyter-widgets/base",
            "_model_module_version": "1.5.0",
            "_view_count": null,
            "_view_module_version": "1.2.0",
            "bar_color": null,
            "_model_module": "@jupyter-widgets/controls"
          }
        },
        "70bad375335f447f86dd7f6a27684cc9": {
          "model_module": "@jupyter-widgets/base",
          "model_name": "LayoutModel",
          "model_module_version": "1.2.0",
          "state": {
            "_view_name": "LayoutView",
            "grid_template_rows": null,
            "right": null,
            "justify_content": null,
            "_view_module": "@jupyter-widgets/base",
            "overflow": null,
            "_model_module_version": "1.2.0",
            "_view_count": null,
            "flex_flow": null,
            "width": null,
            "min_width": null,
            "border": null,
            "align_items": null,
            "bottom": null,
            "_model_module": "@jupyter-widgets/base",
            "top": null,
            "grid_column": null,
            "overflow_y": null,
            "overflow_x": null,
            "grid_auto_flow": null,
            "grid_area": null,
            "grid_template_columns": null,
            "flex": null,
            "_model_name": "LayoutModel",
            "justify_items": null,
            "grid_row": null,
            "max_height": null,
            "align_content": null,
            "visibility": null,
            "align_self": null,
            "height": null,
            "min_height": null,
            "padding": null,
            "grid_auto_rows": null,
            "grid_gap": null,
            "max_width": null,
            "order": null,
            "_view_module_version": "1.2.0",
            "grid_template_areas": null,
            "object_position": null,
            "object_fit": null,
            "grid_auto_columns": null,
            "margin": null,
            "display": null,
            "left": null
          }
        },
        "65eee30ffd9a4a038a3780ea0e29f5d6": {
          "model_module": "@jupyter-widgets/controls",
          "model_name": "DescriptionStyleModel",
          "model_module_version": "1.5.0",
          "state": {
            "_view_name": "StyleView",
            "_model_name": "DescriptionStyleModel",
            "description_width": "",
            "_view_module": "@jupyter-widgets/base",
            "_model_module_version": "1.5.0",
            "_view_count": null,
            "_view_module_version": "1.2.0",
            "_model_module": "@jupyter-widgets/controls"
          }
        },
        "6e2c52c24d5e4457850a5d7daef6e91e": {
          "model_module": "@jupyter-widgets/base",
          "model_name": "LayoutModel",
          "model_module_version": "1.2.0",
          "state": {
            "_view_name": "LayoutView",
            "grid_template_rows": null,
            "right": null,
            "justify_content": null,
            "_view_module": "@jupyter-widgets/base",
            "overflow": null,
            "_model_module_version": "1.2.0",
            "_view_count": null,
            "flex_flow": null,
            "width": null,
            "min_width": null,
            "border": null,
            "align_items": null,
            "bottom": null,
            "_model_module": "@jupyter-widgets/base",
            "top": null,
            "grid_column": null,
            "overflow_y": null,
            "overflow_x": null,
            "grid_auto_flow": null,
            "grid_area": null,
            "grid_template_columns": null,
            "flex": null,
            "_model_name": "LayoutModel",
            "justify_items": null,
            "grid_row": null,
            "max_height": null,
            "align_content": null,
            "visibility": null,
            "align_self": null,
            "height": null,
            "min_height": null,
            "padding": null,
            "grid_auto_rows": null,
            "grid_gap": null,
            "max_width": null,
            "order": null,
            "_view_module_version": "1.2.0",
            "grid_template_areas": null,
            "object_position": null,
            "object_fit": null,
            "grid_auto_columns": null,
            "margin": null,
            "display": null,
            "left": null
          }
        },
        "893cd4e57c274a89b2d933d693ccbece": {
          "model_module": "@jupyter-widgets/controls",
          "model_name": "HBoxModel",
          "model_module_version": "1.5.0",
          "state": {
            "_view_name": "HBoxView",
            "_dom_classes": [],
            "_model_name": "HBoxModel",
            "_view_module": "@jupyter-widgets/controls",
            "_model_module_version": "1.5.0",
            "_view_count": null,
            "_view_module_version": "1.5.0",
            "box_style": "",
            "layout": "IPY_MODEL_11e056ca5a5b422695f2eb2f62573790",
            "_model_module": "@jupyter-widgets/controls",
            "children": [
              "IPY_MODEL_1b072beeadd041a88ac0962bc898da9d",
              "IPY_MODEL_970827e24b38442d8d3be73f778fd3a0",
              "IPY_MODEL_ea4989a00a454f3d8776286f33244f36"
            ]
          }
        },
        "11e056ca5a5b422695f2eb2f62573790": {
          "model_module": "@jupyter-widgets/base",
          "model_name": "LayoutModel",
          "model_module_version": "1.2.0",
          "state": {
            "_view_name": "LayoutView",
            "grid_template_rows": null,
            "right": null,
            "justify_content": null,
            "_view_module": "@jupyter-widgets/base",
            "overflow": null,
            "_model_module_version": "1.2.0",
            "_view_count": null,
            "flex_flow": null,
            "width": null,
            "min_width": null,
            "border": null,
            "align_items": null,
            "bottom": null,
            "_model_module": "@jupyter-widgets/base",
            "top": null,
            "grid_column": null,
            "overflow_y": null,
            "overflow_x": null,
            "grid_auto_flow": null,
            "grid_area": null,
            "grid_template_columns": null,
            "flex": null,
            "_model_name": "LayoutModel",
            "justify_items": null,
            "grid_row": null,
            "max_height": null,
            "align_content": null,
            "visibility": null,
            "align_self": null,
            "height": null,
            "min_height": null,
            "padding": null,
            "grid_auto_rows": null,
            "grid_gap": null,
            "max_width": null,
            "order": null,
            "_view_module_version": "1.2.0",
            "grid_template_areas": null,
            "object_position": null,
            "object_fit": null,
            "grid_auto_columns": null,
            "margin": null,
            "display": null,
            "left": null
          }
        },
        "1b072beeadd041a88ac0962bc898da9d": {
          "model_module": "@jupyter-widgets/controls",
          "model_name": "HTMLModel",
          "model_module_version": "1.5.0",
          "state": {
            "_view_name": "HTMLView",
            "style": "IPY_MODEL_37377ff07a6f44ae822ab8d3ae68a032",
            "_dom_classes": [],
            "description": "",
            "_model_name": "HTMLModel",
            "placeholder": "​",
            "_view_module": "@jupyter-widgets/controls",
            "_model_module_version": "1.5.0",
            "value": "Downloading: 100%",
            "_view_count": null,
            "_view_module_version": "1.5.0",
            "description_tooltip": null,
            "_model_module": "@jupyter-widgets/controls",
            "layout": "IPY_MODEL_f57d2f94bc9b42b5a53a86219a186822"
          }
        },
        "970827e24b38442d8d3be73f778fd3a0": {
          "model_module": "@jupyter-widgets/controls",
          "model_name": "FloatProgressModel",
          "model_module_version": "1.5.0",
          "state": {
            "_view_name": "ProgressView",
            "style": "IPY_MODEL_54ea274eb65549449784013d93003ec1",
            "_dom_classes": [],
            "description": "",
            "_model_name": "FloatProgressModel",
            "bar_style": "success",
            "max": 435797,
            "_view_module": "@jupyter-widgets/controls",
            "_model_module_version": "1.5.0",
            "value": 435797,
            "_view_count": null,
            "_view_module_version": "1.5.0",
            "orientation": "horizontal",
            "min": 0,
            "description_tooltip": null,
            "_model_module": "@jupyter-widgets/controls",
            "layout": "IPY_MODEL_1c3bc430b41d424abf5eb58eff0b7214"
          }
        },
        "ea4989a00a454f3d8776286f33244f36": {
          "model_module": "@jupyter-widgets/controls",
          "model_name": "HTMLModel",
          "model_module_version": "1.5.0",
          "state": {
            "_view_name": "HTMLView",
            "style": "IPY_MODEL_3f591c0e84ea424ebb6600f186aa8a93",
            "_dom_classes": [],
            "description": "",
            "_model_name": "HTMLModel",
            "placeholder": "​",
            "_view_module": "@jupyter-widgets/controls",
            "_model_module_version": "1.5.0",
            "value": " 436k/436k [00:00&lt;00:00, 5.45MB/s]",
            "_view_count": null,
            "_view_module_version": "1.5.0",
            "description_tooltip": null,
            "_model_module": "@jupyter-widgets/controls",
            "layout": "IPY_MODEL_5fbca5c27efd41599a91e9bb93c9408b"
          }
        },
        "37377ff07a6f44ae822ab8d3ae68a032": {
          "model_module": "@jupyter-widgets/controls",
          "model_name": "DescriptionStyleModel",
          "model_module_version": "1.5.0",
          "state": {
            "_view_name": "StyleView",
            "_model_name": "DescriptionStyleModel",
            "description_width": "",
            "_view_module": "@jupyter-widgets/base",
            "_model_module_version": "1.5.0",
            "_view_count": null,
            "_view_module_version": "1.2.0",
            "_model_module": "@jupyter-widgets/controls"
          }
        },
        "f57d2f94bc9b42b5a53a86219a186822": {
          "model_module": "@jupyter-widgets/base",
          "model_name": "LayoutModel",
          "model_module_version": "1.2.0",
          "state": {
            "_view_name": "LayoutView",
            "grid_template_rows": null,
            "right": null,
            "justify_content": null,
            "_view_module": "@jupyter-widgets/base",
            "overflow": null,
            "_model_module_version": "1.2.0",
            "_view_count": null,
            "flex_flow": null,
            "width": null,
            "min_width": null,
            "border": null,
            "align_items": null,
            "bottom": null,
            "_model_module": "@jupyter-widgets/base",
            "top": null,
            "grid_column": null,
            "overflow_y": null,
            "overflow_x": null,
            "grid_auto_flow": null,
            "grid_area": null,
            "grid_template_columns": null,
            "flex": null,
            "_model_name": "LayoutModel",
            "justify_items": null,
            "grid_row": null,
            "max_height": null,
            "align_content": null,
            "visibility": null,
            "align_self": null,
            "height": null,
            "min_height": null,
            "padding": null,
            "grid_auto_rows": null,
            "grid_gap": null,
            "max_width": null,
            "order": null,
            "_view_module_version": "1.2.0",
            "grid_template_areas": null,
            "object_position": null,
            "object_fit": null,
            "grid_auto_columns": null,
            "margin": null,
            "display": null,
            "left": null
          }
        },
        "54ea274eb65549449784013d93003ec1": {
          "model_module": "@jupyter-widgets/controls",
          "model_name": "ProgressStyleModel",
          "model_module_version": "1.5.0",
          "state": {
            "_view_name": "StyleView",
            "_model_name": "ProgressStyleModel",
            "description_width": "",
            "_view_module": "@jupyter-widgets/base",
            "_model_module_version": "1.5.0",
            "_view_count": null,
            "_view_module_version": "1.2.0",
            "bar_color": null,
            "_model_module": "@jupyter-widgets/controls"
          }
        },
        "1c3bc430b41d424abf5eb58eff0b7214": {
          "model_module": "@jupyter-widgets/base",
          "model_name": "LayoutModel",
          "model_module_version": "1.2.0",
          "state": {
            "_view_name": "LayoutView",
            "grid_template_rows": null,
            "right": null,
            "justify_content": null,
            "_view_module": "@jupyter-widgets/base",
            "overflow": null,
            "_model_module_version": "1.2.0",
            "_view_count": null,
            "flex_flow": null,
            "width": null,
            "min_width": null,
            "border": null,
            "align_items": null,
            "bottom": null,
            "_model_module": "@jupyter-widgets/base",
            "top": null,
            "grid_column": null,
            "overflow_y": null,
            "overflow_x": null,
            "grid_auto_flow": null,
            "grid_area": null,
            "grid_template_columns": null,
            "flex": null,
            "_model_name": "LayoutModel",
            "justify_items": null,
            "grid_row": null,
            "max_height": null,
            "align_content": null,
            "visibility": null,
            "align_self": null,
            "height": null,
            "min_height": null,
            "padding": null,
            "grid_auto_rows": null,
            "grid_gap": null,
            "max_width": null,
            "order": null,
            "_view_module_version": "1.2.0",
            "grid_template_areas": null,
            "object_position": null,
            "object_fit": null,
            "grid_auto_columns": null,
            "margin": null,
            "display": null,
            "left": null
          }
        },
        "3f591c0e84ea424ebb6600f186aa8a93": {
          "model_module": "@jupyter-widgets/controls",
          "model_name": "DescriptionStyleModel",
          "model_module_version": "1.5.0",
          "state": {
            "_view_name": "StyleView",
            "_model_name": "DescriptionStyleModel",
            "description_width": "",
            "_view_module": "@jupyter-widgets/base",
            "_model_module_version": "1.5.0",
            "_view_count": null,
            "_view_module_version": "1.2.0",
            "_model_module": "@jupyter-widgets/controls"
          }
        },
        "5fbca5c27efd41599a91e9bb93c9408b": {
          "model_module": "@jupyter-widgets/base",
          "model_name": "LayoutModel",
          "model_module_version": "1.2.0",
          "state": {
            "_view_name": "LayoutView",
            "grid_template_rows": null,
            "right": null,
            "justify_content": null,
            "_view_module": "@jupyter-widgets/base",
            "overflow": null,
            "_model_module_version": "1.2.0",
            "_view_count": null,
            "flex_flow": null,
            "width": null,
            "min_width": null,
            "border": null,
            "align_items": null,
            "bottom": null,
            "_model_module": "@jupyter-widgets/base",
            "top": null,
            "grid_column": null,
            "overflow_y": null,
            "overflow_x": null,
            "grid_auto_flow": null,
            "grid_area": null,
            "grid_template_columns": null,
            "flex": null,
            "_model_name": "LayoutModel",
            "justify_items": null,
            "grid_row": null,
            "max_height": null,
            "align_content": null,
            "visibility": null,
            "align_self": null,
            "height": null,
            "min_height": null,
            "padding": null,
            "grid_auto_rows": null,
            "grid_gap": null,
            "max_width": null,
            "order": null,
            "_view_module_version": "1.2.0",
            "grid_template_areas": null,
            "object_position": null,
            "object_fit": null,
            "grid_auto_columns": null,
            "margin": null,
            "display": null,
            "left": null
          }
        }
      }
    }
  },
  "cells": [
    {
      "cell_type": "markdown",
      "metadata": {
        "id": "view-in-github",
        "colab_type": "text"
      },
      "source": [
        "<a href=\"https://colab.research.google.com/github/lucacerab/DSEthesis-transformers/blob/main/AM_pipeline.ipynb\" target=\"_parent\"><img src=\"https://colab.research.google.com/assets/colab-badge.svg\" alt=\"Open In Colab\"/></a>"
      ]
    },
    {
      "cell_type": "markdown",
      "metadata": {
        "id": "MeHRDzgoXQIc"
      },
      "source": [
        "# Applying the argumentation mining pipeline on the essays dataset"
      ]
    },
    {
      "cell_type": "code",
      "metadata": {
        "colab": {
          "base_uri": "https://localhost:8080/"
        },
        "id": "1uTcBQlEh8iz",
        "outputId": "11f0b53f-b3ef-408b-accd-cf7f87d42fce"
      },
      "source": [
        "from google.colab import drive\n",
        "drive.mount('/content/drive/')"
      ],
      "execution_count": null,
      "outputs": [
        {
          "output_type": "stream",
          "name": "stdout",
          "text": [
            "Mounted at /content/drive/\n"
          ]
        }
      ]
    },
    {
      "cell_type": "code",
      "metadata": {
        "id": "mDi04DISh9wD"
      },
      "source": [
        "%%capture\n",
        "!pip install transformers"
      ],
      "execution_count": null,
      "outputs": []
    },
    {
      "cell_type": "code",
      "metadata": {
        "colab": {
          "base_uri": "https://localhost:8080/",
          "height": 193,
          "referenced_widgets": [
            "4426629690504111a138c4de7ca07773",
            "022a5df4186748b2b9ece6226cca821c",
            "3ad3f42dc3d24e299a4f2c349dba43fe",
            "fdc23676b23746759312f6b13027f649",
            "1138cb48e3864f229a4ce6d570146c9c",
            "bf2b4be5f086425eb698629cab78a91b",
            "07974571ec6d4904a18767b48512bf3e",
            "bcdc937ccda24f5bb94ea544d00f4e10",
            "ba4ae8ced1c645d6b7eb097eaee0c3ae",
            "005d23d548514517aa3fb16052a50cde",
            "df9956ee1c1e441b9c9b469de50fedc9",
            "7b72edd16fff4d03bebc72b1ce8a404b",
            "3e49bcafb69146ac81dab2b0cf3b8cc3",
            "359975400d634a9380aebbc9b63a3e41",
            "e14227ae7f0b4f4b8faf869b3e6e41de",
            "b987d4487adc413baf75783a044d95e0",
            "33775a0027804516a8716440c6e07cd1",
            "4dd4c2d69dac46dbb138401e2e70c70e",
            "b4dcc75635374f8389eb42a7e7d89de7",
            "c424b802faf2469ca00a8a830a86e355",
            "17627c9290ec4ed88872c418bdc69992",
            "2e2f20d2691e405b99bc10a44bae37d9"
          ]
        },
        "id": "Ijsy0mS7h-79",
        "outputId": "d146bba5-649d-4797-8396-9b91fa5f762b"
      },
      "source": [
        "from transformers import TFAutoModel\n",
        "\n",
        "bert = TFAutoModel.from_pretrained('bert-base-cased')"
      ],
      "execution_count": null,
      "outputs": [
        {
          "output_type": "display_data",
          "data": {
            "application/vnd.jupyter.widget-view+json": {
              "model_id": "4426629690504111a138c4de7ca07773",
              "version_minor": 0,
              "version_major": 2
            },
            "text/plain": [
              "Downloading:   0%|          | 0.00/570 [00:00<?, ?B/s]"
            ]
          },
          "metadata": {}
        },
        {
          "output_type": "display_data",
          "data": {
            "application/vnd.jupyter.widget-view+json": {
              "model_id": "7b72edd16fff4d03bebc72b1ce8a404b",
              "version_minor": 0,
              "version_major": 2
            },
            "text/plain": [
              "Downloading:   0%|          | 0.00/527M [00:00<?, ?B/s]"
            ]
          },
          "metadata": {}
        },
        {
          "output_type": "stream",
          "name": "stderr",
          "text": [
            "Some layers from the model checkpoint at bert-base-cased were not used when initializing TFBertModel: ['mlm___cls', 'nsp___cls']\n",
            "- This IS expected if you are initializing TFBertModel from the checkpoint of a model trained on another task or with another architecture (e.g. initializing a BertForSequenceClassification model from a BertForPreTraining model).\n",
            "- This IS NOT expected if you are initializing TFBertModel from the checkpoint of a model that you expect to be exactly identical (initializing a BertForSequenceClassification model from a BertForSequenceClassification model).\n",
            "All the layers of TFBertModel were initialized from the model checkpoint at bert-base-cased.\n",
            "If your task is similar to the task the model of the checkpoint was trained on, you can already use TFBertModel for predictions without further training.\n"
          ]
        }
      ]
    },
    {
      "cell_type": "code",
      "metadata": {
        "id": "5-s2U9N_iAYa"
      },
      "source": [
        "from tensorflow import keras\n",
        "\n",
        "model0 = keras.models.load_model('/content/drive/MyDrive/Colab Notebooks/tesi/AM/binary/UKP_binary/UKP_binary_final/UKP_binary_finetuned/UKPentire_binary.h5')"
      ],
      "execution_count": null,
      "outputs": []
    },
    {
      "cell_type": "code",
      "metadata": {
        "colab": {
          "base_uri": "https://localhost:8080/",
          "height": 424
        },
        "id": "0PRO2aEghK_O",
        "outputId": "015e0ecf-44f2-48d4-b85b-90677c1b867f"
      },
      "source": [
        "import pandas as pd\n",
        "\n",
        "df = pd.read_csv('/content/drive/MyDrive/essays.csv')\n",
        "df"
      ],
      "execution_count": null,
      "outputs": [
        {
          "output_type": "execute_result",
          "data": {
            "text/html": [
              "<div>\n",
              "<style scoped>\n",
              "    .dataframe tbody tr th:only-of-type {\n",
              "        vertical-align: middle;\n",
              "    }\n",
              "\n",
              "    .dataframe tbody tr th {\n",
              "        vertical-align: top;\n",
              "    }\n",
              "\n",
              "    .dataframe thead th {\n",
              "        text-align: right;\n",
              "    }\n",
              "</style>\n",
              "<table border=\"1\" class=\"dataframe\">\n",
              "  <thead>\n",
              "    <tr style=\"text-align: right;\">\n",
              "      <th></th>\n",
              "      <th>essay</th>\n",
              "      <th>sentence</th>\n",
              "      <th>topic</th>\n",
              "      <th>label0</th>\n",
              "      <th>label1</th>\n",
              "    </tr>\n",
              "  </thead>\n",
              "  <tbody>\n",
              "    <tr>\n",
              "      <th>0</th>\n",
              "      <td>essay01</td>\n",
              "      <td>It is always said that competition can effecti...</td>\n",
              "      <td>Should students be taught to compete or to coo...</td>\n",
              "      <td>Argument</td>\n",
              "      <td>Claim</td>\n",
              "    </tr>\n",
              "    <tr>\n",
              "      <th>1</th>\n",
              "      <td>essay01</td>\n",
              "      <td>From this point of view, I firmly believe that...</td>\n",
              "      <td>Should students be taught to compete or to coo...</td>\n",
              "      <td>Argument</td>\n",
              "      <td>MajorClaim</td>\n",
              "    </tr>\n",
              "    <tr>\n",
              "      <th>2</th>\n",
              "      <td>essay01</td>\n",
              "      <td>In order to survive in the competition, compan...</td>\n",
              "      <td>Should students be taught to compete or to coo...</td>\n",
              "      <td>Argument</td>\n",
              "      <td>Premise</td>\n",
              "    </tr>\n",
              "    <tr>\n",
              "      <th>3</th>\n",
              "      <td>essay01</td>\n",
              "      <td>First of all, through cooperation, children ca...</td>\n",
              "      <td>Should students be taught to compete or to coo...</td>\n",
              "      <td>Argument</td>\n",
              "      <td>Claim</td>\n",
              "    </tr>\n",
              "    <tr>\n",
              "      <th>4</th>\n",
              "      <td>essay01</td>\n",
              "      <td>What we acquired from team work is not only ho...</td>\n",
              "      <td>Should students be taught to compete or to coo...</td>\n",
              "      <td>Argument</td>\n",
              "      <td>Premise</td>\n",
              "    </tr>\n",
              "    <tr>\n",
              "      <th>...</th>\n",
              "      <td>...</td>\n",
              "      <td>...</td>\n",
              "      <td>...</td>\n",
              "      <td>...</td>\n",
              "      <td>...</td>\n",
              "    </tr>\n",
              "    <tr>\n",
              "      <th>1668</th>\n",
              "      <td>essay90</td>\n",
              "      <td>As companies and factories move to the country...</td>\n",
              "      <td>Solve traffic and housing problems by moving c...</td>\n",
              "      <td>Argument</td>\n",
              "      <td>Premise</td>\n",
              "    </tr>\n",
              "    <tr>\n",
              "      <th>1669</th>\n",
              "      <td>essay90</td>\n",
              "      <td>This can be best illustrated with the example ...</td>\n",
              "      <td>Solve traffic and housing problems by moving c...</td>\n",
              "      <td>Argument</td>\n",
              "      <td>Premise</td>\n",
              "    </tr>\n",
              "    <tr>\n",
              "      <th>1670</th>\n",
              "      <td>essay90</td>\n",
              "      <td>Solve traffic and housing problems by moving c...</td>\n",
              "      <td>Solve traffic and housing problems by moving c...</td>\n",
              "      <td>NoArgument</td>\n",
              "      <td>NoArgument</td>\n",
              "    </tr>\n",
              "    <tr>\n",
              "      <th>1671</th>\n",
              "      <td>essay90</td>\n",
              "      <td>With the booming development of some cosmopoli...</td>\n",
              "      <td>Solve traffic and housing problems by moving c...</td>\n",
              "      <td>NoArgument</td>\n",
              "      <td>NoArgument</td>\n",
              "    </tr>\n",
              "    <tr>\n",
              "      <th>1672</th>\n",
              "      <td>essay90</td>\n",
              "      <td>In such cases, some people think an effective ...</td>\n",
              "      <td>Solve traffic and housing problems by moving c...</td>\n",
              "      <td>NoArgument</td>\n",
              "      <td>NoArgument</td>\n",
              "    </tr>\n",
              "  </tbody>\n",
              "</table>\n",
              "<p>1673 rows × 5 columns</p>\n",
              "</div>"
            ],
            "text/plain": [
              "        essay  ...      label1\n",
              "0     essay01  ...       Claim\n",
              "1     essay01  ...  MajorClaim\n",
              "2     essay01  ...     Premise\n",
              "3     essay01  ...       Claim\n",
              "4     essay01  ...     Premise\n",
              "...       ...  ...         ...\n",
              "1668  essay90  ...     Premise\n",
              "1669  essay90  ...     Premise\n",
              "1670  essay90  ...  NoArgument\n",
              "1671  essay90  ...  NoArgument\n",
              "1672  essay90  ...  NoArgument\n",
              "\n",
              "[1673 rows x 5 columns]"
            ]
          },
          "metadata": {},
          "execution_count": 5
        }
      ]
    },
    {
      "cell_type": "code",
      "metadata": {
        "colab": {
          "base_uri": "https://localhost:8080/"
        },
        "id": "vYemtkUepDmM",
        "outputId": "7c613360-9eb6-4417-9c99-10c3cae04cce"
      },
      "source": [
        "df.groupby('label1')['essay'].count()"
      ],
      "execution_count": null,
      "outputs": [
        {
          "output_type": "execute_result",
          "data": {
            "text/plain": [
              "label1\n",
              "Claim         419\n",
              "MajorClaim     88\n",
              "NoArgument    333\n",
              "Premise       833\n",
              "Name: essay, dtype: int64"
            ]
          },
          "metadata": {},
          "execution_count": 11
        }
      ]
    },
    {
      "cell_type": "code",
      "metadata": {
        "id": "1Pu4tawTx3Zp"
      },
      "source": [
        "# merge claims and major claims \n",
        "df.loc[df.label1 == 'MajorClaim', 'label1'] = 'Claim'"
      ],
      "execution_count": null,
      "outputs": []
    },
    {
      "cell_type": "code",
      "metadata": {
        "colab": {
          "base_uri": "https://localhost:8080/"
        },
        "id": "n0GfS-Z_yAsQ",
        "outputId": "b05d0b79-9420-4e03-8b0f-73072a7c9741"
      },
      "source": [
        "df.groupby('label1')['essay'].count()"
      ],
      "execution_count": null,
      "outputs": [
        {
          "output_type": "execute_result",
          "data": {
            "text/plain": [
              "label1\n",
              "Claim         507\n",
              "NoArgument    333\n",
              "Premise       833\n",
              "Name: essay, dtype: int64"
            ]
          },
          "metadata": {},
          "execution_count": 13
        }
      ]
    },
    {
      "cell_type": "code",
      "metadata": {
        "id": "-kn8nn6dhYHw"
      },
      "source": [
        "'''df['new_label0'] = [0 if ele == 'NoArgument' else 1 for ele in df['label0']]\n",
        "essays = df[['topic', 'sentence', 'new_label0', 'label1']].copy()\n",
        "essays.rename(columns={'new_label0':'label0'}, inplace=True)'''"
      ],
      "execution_count": null,
      "outputs": []
    },
    {
      "cell_type": "code",
      "metadata": {
        "colab": {
          "base_uri": "https://localhost:8080/",
          "height": 206
        },
        "id": "oEYRpviLhZUb",
        "outputId": "3dcc9704-6196-4477-a9cd-d8633d2ba0b3"
      },
      "source": [
        "df = df.sample(frac=1, random_state=123).reset_index(drop=True)\n",
        "df.head()"
      ],
      "execution_count": null,
      "outputs": [
        {
          "output_type": "execute_result",
          "data": {
            "text/html": [
              "<div>\n",
              "<style scoped>\n",
              "    .dataframe tbody tr th:only-of-type {\n",
              "        vertical-align: middle;\n",
              "    }\n",
              "\n",
              "    .dataframe tbody tr th {\n",
              "        vertical-align: top;\n",
              "    }\n",
              "\n",
              "    .dataframe thead th {\n",
              "        text-align: right;\n",
              "    }\n",
              "</style>\n",
              "<table border=\"1\" class=\"dataframe\">\n",
              "  <thead>\n",
              "    <tr style=\"text-align: right;\">\n",
              "      <th></th>\n",
              "      <th>essay</th>\n",
              "      <th>sentence</th>\n",
              "      <th>topic</th>\n",
              "      <th>label0</th>\n",
              "      <th>label1</th>\n",
              "    </tr>\n",
              "  </thead>\n",
              "  <tbody>\n",
              "    <tr>\n",
              "      <th>0</th>\n",
              "      <td>essay66</td>\n",
              "      <td>Thus, every country has been promoting technol...</td>\n",
              "      <td>Technology keeps traditional skills and ways o...</td>\n",
              "      <td>NoArgument</td>\n",
              "      <td>NoArgument</td>\n",
              "    </tr>\n",
              "    <tr>\n",
              "      <th>1</th>\n",
              "      <td>essay18</td>\n",
              "      <td>Initially, if we look into the fact, women hav...</td>\n",
              "      <td>Gender Equality at university admission</td>\n",
              "      <td>Argument</td>\n",
              "      <td>Premise</td>\n",
              "    </tr>\n",
              "    <tr>\n",
              "      <th>2</th>\n",
              "      <td>essay62</td>\n",
              "      <td>Women like Margaret Thatcher, Indira Gandhi, M...</td>\n",
              "      <td>should universities accept equal number of mal...</td>\n",
              "      <td>Argument</td>\n",
              "      <td>Premise</td>\n",
              "    </tr>\n",
              "    <tr>\n",
              "      <th>3</th>\n",
              "      <td>essay09</td>\n",
              "      <td>Cannabis is classified as a schedule one drug,...</td>\n",
              "      <td>The Truth About Cannabis</td>\n",
              "      <td>NoArgument</td>\n",
              "      <td>NoArgument</td>\n",
              "    </tr>\n",
              "    <tr>\n",
              "      <th>4</th>\n",
              "      <td>essay39</td>\n",
              "      <td>Finally, a great deal of sophisticated technol...</td>\n",
              "      <td>Why should human beings travel to outer space?</td>\n",
              "      <td>Argument</td>\n",
              "      <td>Claim</td>\n",
              "    </tr>\n",
              "  </tbody>\n",
              "</table>\n",
              "</div>"
            ],
            "text/plain": [
              "     essay  ...      label1\n",
              "0  essay66  ...  NoArgument\n",
              "1  essay18  ...     Premise\n",
              "2  essay62  ...     Premise\n",
              "3  essay09  ...  NoArgument\n",
              "4  essay39  ...       Claim\n",
              "\n",
              "[5 rows x 5 columns]"
            ]
          },
          "metadata": {},
          "execution_count": 14
        }
      ]
    },
    {
      "cell_type": "code",
      "metadata": {
        "colab": {
          "base_uri": "https://localhost:8080/",
          "height": 113,
          "referenced_widgets": [
            "e1cb23abd53c4964a1af79a29d4d0fd3",
            "0245b144ee3d444895a817fb5cf93185",
            "d3d4a871a8134f16a075b1d843e6667f",
            "e4f27aa2aebb48b4a71530e429ef53fb",
            "c88c671a2a944e2ea717bf77df9952b7",
            "608dc0f5933b4520b95b751a8ccbb89b",
            "f7ef18f0c2f34a19a9712217946ebf76",
            "e63d8b4c39224c71b9ddb9303145baef",
            "849a7a3ee498448fba998679db81589b",
            "215a7d91d70d4205a075e4cbdee35009",
            "d604f46938a943ca934e75067892f7db",
            "715df695d2da4d589183ce150e2dddd3",
            "4f84c1b8b2bd4361a6029438a272ad78",
            "2ed0e60439f74f0a85eb4a629371f013",
            "afab7d806bd74fcdb58984de8ec633a7",
            "16cc63aeee6046aea3445d7f06fd3da7",
            "ff451b20c6a8462fb3f212cfa9873d89",
            "13f8edde3e094956871da06cac291b73",
            "60603885b75f4c069f0f40a831d4cead",
            "70bad375335f447f86dd7f6a27684cc9",
            "65eee30ffd9a4a038a3780ea0e29f5d6",
            "6e2c52c24d5e4457850a5d7daef6e91e",
            "893cd4e57c274a89b2d933d693ccbece",
            "11e056ca5a5b422695f2eb2f62573790",
            "1b072beeadd041a88ac0962bc898da9d",
            "970827e24b38442d8d3be73f778fd3a0",
            "ea4989a00a454f3d8776286f33244f36",
            "37377ff07a6f44ae822ab8d3ae68a032",
            "f57d2f94bc9b42b5a53a86219a186822",
            "54ea274eb65549449784013d93003ec1",
            "1c3bc430b41d424abf5eb58eff0b7214",
            "3f591c0e84ea424ebb6600f186aa8a93",
            "5fbca5c27efd41599a91e9bb93c9408b"
          ]
        },
        "id": "-XFSFyt_havR",
        "outputId": "5f2daf7d-4217-4323-b53f-acd7eb1d78de"
      },
      "source": [
        "from transformers import BertTokenizer\n",
        "\n",
        "tokenizer = BertTokenizer.from_pretrained(\"bert-base-cased\")"
      ],
      "execution_count": null,
      "outputs": [
        {
          "output_type": "display_data",
          "data": {
            "application/vnd.jupyter.widget-view+json": {
              "model_id": "e1cb23abd53c4964a1af79a29d4d0fd3",
              "version_minor": 0,
              "version_major": 2
            },
            "text/plain": [
              "Downloading:   0%|          | 0.00/213k [00:00<?, ?B/s]"
            ]
          },
          "metadata": {}
        },
        {
          "output_type": "display_data",
          "data": {
            "application/vnd.jupyter.widget-view+json": {
              "model_id": "715df695d2da4d589183ce150e2dddd3",
              "version_minor": 0,
              "version_major": 2
            },
            "text/plain": [
              "Downloading:   0%|          | 0.00/29.0 [00:00<?, ?B/s]"
            ]
          },
          "metadata": {}
        },
        {
          "output_type": "display_data",
          "data": {
            "application/vnd.jupyter.widget-view+json": {
              "model_id": "893cd4e57c274a89b2d933d693ccbece",
              "version_minor": 0,
              "version_major": 2
            },
            "text/plain": [
              "Downloading:   0%|          | 0.00/436k [00:00<?, ?B/s]"
            ]
          },
          "metadata": {}
        }
      ]
    },
    {
      "cell_type": "code",
      "metadata": {
        "id": "j5Ra-eHGhcJD"
      },
      "source": [
        "import numpy as np\n",
        "\n",
        "def bert_encode(df, max_len):\n",
        "  num_samples = len(df)\n",
        "\n",
        "  X_ids = np.zeros((num_samples, max_len))\n",
        "  X_mask = np.zeros((num_samples, max_len))\n",
        "  X_type_ids = np.zeros((num_samples, max_len))\n",
        "  \n",
        "\n",
        "  for i, row in df.iterrows():\n",
        "      encoded = tokenizer.encode_plus(row['topic'], row['sentence'], max_length=max_len,\n",
        "                                      truncation=True, padding='max_length', add_special_tokens=True)    \n",
        "      X_ids[i, :] = encoded['input_ids']\n",
        "      X_mask[i, :] = encoded['attention_mask'] \n",
        "      X_type_ids[i, :] = encoded['token_type_ids'] \n",
        "  return X_ids, X_mask, X_type_ids"
      ],
      "execution_count": null,
      "outputs": []
    },
    {
      "cell_type": "code",
      "metadata": {
        "id": "JALf0PQJhdTZ"
      },
      "source": [
        "max_len = 128"
      ],
      "execution_count": null,
      "outputs": []
    },
    {
      "cell_type": "code",
      "metadata": {
        "id": "qNBaitSDhfEw"
      },
      "source": [
        "essays_input_ids, essays_attention_masks, essays_token_type_ids = bert_encode(df, max_len)"
      ],
      "execution_count": null,
      "outputs": []
    },
    {
      "cell_type": "code",
      "metadata": {
        "colab": {
          "base_uri": "https://localhost:8080/",
          "height": 128
        },
        "id": "6O0yq_G2hgM4",
        "outputId": "bcf432bb-2cfd-4f64-ad32-94b8a8fb7051"
      },
      "source": [
        "tokenizer.decode(essays_input_ids[0])"
      ],
      "execution_count": null,
      "outputs": [
        {
          "output_type": "execute_result",
          "data": {
            "application/vnd.google.colaboratory.intrinsic+json": {
              "type": "string"
            },
            "text/plain": [
              "'[CLS] Technology keeps traditional skills and ways of life alive or not? [SEP] Thus, every country has been promoting technological advances in the recent years, regardless of any potential problems it may bring about. [SEP] [PAD] [PAD] [PAD] [PAD] [PAD] [PAD] [PAD] [PAD] [PAD] [PAD] [PAD] [PAD] [PAD] [PAD] [PAD] [PAD] [PAD] [PAD] [PAD] [PAD] [PAD] [PAD] [PAD] [PAD] [PAD] [PAD] [PAD] [PAD] [PAD] [PAD] [PAD] [PAD] [PAD] [PAD] [PAD] [PAD] [PAD] [PAD] [PAD] [PAD] [PAD] [PAD] [PAD] [PAD] [PAD] [PAD] [PAD] [PAD] [PAD] [PAD] [PAD] [PAD] [PAD] [PAD] [PAD] [PAD] [PAD] [PAD] [PAD] [PAD] [PAD] [PAD] [PAD] [PAD] [PAD] [PAD] [PAD] [PAD] [PAD] [PAD] [PAD] [PAD] [PAD] [PAD] [PAD] [PAD] [PAD] [PAD] [PAD] [PAD] [PAD] [PAD] [PAD] [PAD] [PAD] [PAD] [PAD] [PAD] [PAD]'"
            ]
          },
          "metadata": {},
          "execution_count": 19
        }
      ]
    },
    {
      "cell_type": "code",
      "metadata": {
        "id": "jdFBlxJ9hhSI"
      },
      "source": [
        "results0 = model0.predict([essays_input_ids, essays_attention_masks, essays_token_type_ids])"
      ],
      "execution_count": null,
      "outputs": []
    },
    {
      "cell_type": "code",
      "metadata": {
        "id": "yv7jZit9hicJ"
      },
      "source": [
        "preds0 = np.round(results0).astype(int)"
      ],
      "execution_count": null,
      "outputs": []
    },
    {
      "cell_type": "code",
      "metadata": {
        "colab": {
          "base_uri": "https://localhost:8080/",
          "height": 206
        },
        "id": "-S5mPT_6hjwT",
        "outputId": "5129b9c0-e9f4-4723-b22b-c4cf4cfa6a01"
      },
      "source": [
        "df['preds0'] = preds0\n",
        "df.head()"
      ],
      "execution_count": null,
      "outputs": [
        {
          "output_type": "execute_result",
          "data": {
            "text/html": [
              "<div>\n",
              "<style scoped>\n",
              "    .dataframe tbody tr th:only-of-type {\n",
              "        vertical-align: middle;\n",
              "    }\n",
              "\n",
              "    .dataframe tbody tr th {\n",
              "        vertical-align: top;\n",
              "    }\n",
              "\n",
              "    .dataframe thead th {\n",
              "        text-align: right;\n",
              "    }\n",
              "</style>\n",
              "<table border=\"1\" class=\"dataframe\">\n",
              "  <thead>\n",
              "    <tr style=\"text-align: right;\">\n",
              "      <th></th>\n",
              "      <th>essay</th>\n",
              "      <th>sentence</th>\n",
              "      <th>topic</th>\n",
              "      <th>label0</th>\n",
              "      <th>label1</th>\n",
              "      <th>preds0</th>\n",
              "    </tr>\n",
              "  </thead>\n",
              "  <tbody>\n",
              "    <tr>\n",
              "      <th>0</th>\n",
              "      <td>essay66</td>\n",
              "      <td>Thus, every country has been promoting technol...</td>\n",
              "      <td>Technology keeps traditional skills and ways o...</td>\n",
              "      <td>NoArgument</td>\n",
              "      <td>NoArgument</td>\n",
              "      <td>0</td>\n",
              "    </tr>\n",
              "    <tr>\n",
              "      <th>1</th>\n",
              "      <td>essay18</td>\n",
              "      <td>Initially, if we look into the fact, women hav...</td>\n",
              "      <td>Gender Equality at university admission</td>\n",
              "      <td>Argument</td>\n",
              "      <td>Premise</td>\n",
              "      <td>1</td>\n",
              "    </tr>\n",
              "    <tr>\n",
              "      <th>2</th>\n",
              "      <td>essay62</td>\n",
              "      <td>Women like Margaret Thatcher, Indira Gandhi, M...</td>\n",
              "      <td>should universities accept equal number of mal...</td>\n",
              "      <td>Argument</td>\n",
              "      <td>Premise</td>\n",
              "      <td>0</td>\n",
              "    </tr>\n",
              "    <tr>\n",
              "      <th>3</th>\n",
              "      <td>essay09</td>\n",
              "      <td>Cannabis is classified as a schedule one drug,...</td>\n",
              "      <td>The Truth About Cannabis</td>\n",
              "      <td>NoArgument</td>\n",
              "      <td>NoArgument</td>\n",
              "      <td>1</td>\n",
              "    </tr>\n",
              "    <tr>\n",
              "      <th>4</th>\n",
              "      <td>essay39</td>\n",
              "      <td>Finally, a great deal of sophisticated technol...</td>\n",
              "      <td>Why should human beings travel to outer space?</td>\n",
              "      <td>Argument</td>\n",
              "      <td>Claim</td>\n",
              "      <td>1</td>\n",
              "    </tr>\n",
              "  </tbody>\n",
              "</table>\n",
              "</div>"
            ],
            "text/plain": [
              "     essay  ... preds0\n",
              "0  essay66  ...      0\n",
              "1  essay18  ...      1\n",
              "2  essay62  ...      0\n",
              "3  essay09  ...      1\n",
              "4  essay39  ...      1\n",
              "\n",
              "[5 rows x 6 columns]"
            ]
          },
          "metadata": {},
          "execution_count": 22
        }
      ]
    },
    {
      "cell_type": "code",
      "metadata": {
        "id": "qOtCvjNy0YLH"
      },
      "source": [
        "df['new_preds0'] = ['NoArgument' if ele == 0 else 'Argument' for ele in df['preds0']]"
      ],
      "execution_count": null,
      "outputs": []
    },
    {
      "cell_type": "code",
      "metadata": {
        "colab": {
          "base_uri": "https://localhost:8080/",
          "height": 424
        },
        "id": "l_Mhgtu663jr",
        "outputId": "231e3552-b3a0-49c3-ed17-519b53353d1b"
      },
      "source": [
        "df = df.drop('preds0', axis=1).reset_index(drop=True).rename(columns={'new_preds0': 'preds0'})\n",
        "df"
      ],
      "execution_count": null,
      "outputs": [
        {
          "output_type": "execute_result",
          "data": {
            "text/html": [
              "<div>\n",
              "<style scoped>\n",
              "    .dataframe tbody tr th:only-of-type {\n",
              "        vertical-align: middle;\n",
              "    }\n",
              "\n",
              "    .dataframe tbody tr th {\n",
              "        vertical-align: top;\n",
              "    }\n",
              "\n",
              "    .dataframe thead th {\n",
              "        text-align: right;\n",
              "    }\n",
              "</style>\n",
              "<table border=\"1\" class=\"dataframe\">\n",
              "  <thead>\n",
              "    <tr style=\"text-align: right;\">\n",
              "      <th></th>\n",
              "      <th>essay</th>\n",
              "      <th>sentence</th>\n",
              "      <th>topic</th>\n",
              "      <th>label0</th>\n",
              "      <th>label1</th>\n",
              "      <th>preds0</th>\n",
              "    </tr>\n",
              "  </thead>\n",
              "  <tbody>\n",
              "    <tr>\n",
              "      <th>0</th>\n",
              "      <td>essay66</td>\n",
              "      <td>Thus, every country has been promoting technol...</td>\n",
              "      <td>Technology keeps traditional skills and ways o...</td>\n",
              "      <td>NoArgument</td>\n",
              "      <td>NoArgument</td>\n",
              "      <td>NoArgument</td>\n",
              "    </tr>\n",
              "    <tr>\n",
              "      <th>1</th>\n",
              "      <td>essay18</td>\n",
              "      <td>Initially, if we look into the fact, women hav...</td>\n",
              "      <td>Gender Equality at university admission</td>\n",
              "      <td>Argument</td>\n",
              "      <td>Premise</td>\n",
              "      <td>Argument</td>\n",
              "    </tr>\n",
              "    <tr>\n",
              "      <th>2</th>\n",
              "      <td>essay62</td>\n",
              "      <td>Women like Margaret Thatcher, Indira Gandhi, M...</td>\n",
              "      <td>should universities accept equal number of mal...</td>\n",
              "      <td>Argument</td>\n",
              "      <td>Premise</td>\n",
              "      <td>NoArgument</td>\n",
              "    </tr>\n",
              "    <tr>\n",
              "      <th>3</th>\n",
              "      <td>essay09</td>\n",
              "      <td>Cannabis is classified as a schedule one drug,...</td>\n",
              "      <td>The Truth About Cannabis</td>\n",
              "      <td>NoArgument</td>\n",
              "      <td>NoArgument</td>\n",
              "      <td>Argument</td>\n",
              "    </tr>\n",
              "    <tr>\n",
              "      <th>4</th>\n",
              "      <td>essay39</td>\n",
              "      <td>Finally, a great deal of sophisticated technol...</td>\n",
              "      <td>Why should human beings travel to outer space?</td>\n",
              "      <td>Argument</td>\n",
              "      <td>Claim</td>\n",
              "      <td>Argument</td>\n",
              "    </tr>\n",
              "    <tr>\n",
              "      <th>...</th>\n",
              "      <td>...</td>\n",
              "      <td>...</td>\n",
              "      <td>...</td>\n",
              "      <td>...</td>\n",
              "      <td>...</td>\n",
              "      <td>...</td>\n",
              "    </tr>\n",
              "    <tr>\n",
              "      <th>1668</th>\n",
              "      <td>essay60</td>\n",
              "      <td>A break gives students more benefits than harms.</td>\n",
              "      <td>is a break good or bad after high school for s...</td>\n",
              "      <td>Argument</td>\n",
              "      <td>Claim</td>\n",
              "      <td>Argument</td>\n",
              "    </tr>\n",
              "    <tr>\n",
              "      <th>1669</th>\n",
              "      <td>essay73</td>\n",
              "      <td>Nevertheless, the importance of written word c...</td>\n",
              "      <td>Is image more powerful than the written word?</td>\n",
              "      <td>Argument</td>\n",
              "      <td>Premise</td>\n",
              "      <td>Argument</td>\n",
              "    </tr>\n",
              "    <tr>\n",
              "      <th>1670</th>\n",
              "      <td>essay77</td>\n",
              "      <td>In order to protect animals, from my perspecti...</td>\n",
              "      <td>zoos should be banned</td>\n",
              "      <td>Argument</td>\n",
              "      <td>Claim</td>\n",
              "      <td>Argument</td>\n",
              "    </tr>\n",
              "    <tr>\n",
              "      <th>1671</th>\n",
              "      <td>essay75</td>\n",
              "      <td>This is simply because knowledge and wisdom is...</td>\n",
              "      <td>Do arts and music improve the quality of life?</td>\n",
              "      <td>Argument</td>\n",
              "      <td>Premise</td>\n",
              "      <td>Argument</td>\n",
              "    </tr>\n",
              "    <tr>\n",
              "      <th>1672</th>\n",
              "      <td>essay84</td>\n",
              "      <td>This is because the money instead of being use...</td>\n",
              "      <td>Giving mobile phones to the unemployed</td>\n",
              "      <td>Argument</td>\n",
              "      <td>Premise</td>\n",
              "      <td>Argument</td>\n",
              "    </tr>\n",
              "  </tbody>\n",
              "</table>\n",
              "<p>1673 rows × 6 columns</p>\n",
              "</div>"
            ],
            "text/plain": [
              "        essay  ...      preds0\n",
              "0     essay66  ...  NoArgument\n",
              "1     essay18  ...    Argument\n",
              "2     essay62  ...  NoArgument\n",
              "3     essay09  ...    Argument\n",
              "4     essay39  ...    Argument\n",
              "...       ...  ...         ...\n",
              "1668  essay60  ...    Argument\n",
              "1669  essay73  ...    Argument\n",
              "1670  essay77  ...    Argument\n",
              "1671  essay75  ...    Argument\n",
              "1672  essay84  ...    Argument\n",
              "\n",
              "[1673 rows x 6 columns]"
            ]
          },
          "metadata": {},
          "execution_count": 24
        }
      ]
    },
    {
      "cell_type": "code",
      "metadata": {
        "colab": {
          "base_uri": "https://localhost:8080/"
        },
        "id": "D2rLXPEwxs72",
        "outputId": "5d0bb276-2374-4602-af76-690bf9c2cc0a"
      },
      "source": [
        "from sklearn.metrics import classification_report\n",
        "\n",
        "#target_names = ['NoArg', 'Arg']\n",
        "print(classification_report(df.label0, df.preds0))"
      ],
      "execution_count": null,
      "outputs": [
        {
          "output_type": "stream",
          "name": "stdout",
          "text": [
            "              precision    recall  f1-score   support\n",
            "\n",
            "    Argument       0.88      0.67      0.76      1340\n",
            "  NoArgument       0.33      0.65      0.43       333\n",
            "\n",
            "    accuracy                           0.66      1673\n",
            "   macro avg       0.60      0.66      0.60      1673\n",
            "weighted avg       0.77      0.66      0.69      1673\n",
            "\n"
          ]
        }
      ]
    },
    {
      "cell_type": "code",
      "metadata": {
        "id": "4_o-c8xIhm6K"
      },
      "source": [
        "import matplotlib.pyplot as plt\n",
        "from sklearn.metrics import confusion_matrix\n",
        "\n",
        "def plot_confusion_matrix(y_true, y_pred, classes,\n",
        "                          normalize=False,\n",
        "                          title=None,\n",
        "                          cmap=plt.cm.Blues):\n",
        "    \"\"\"\n",
        "    This function prints and plots the confusion matrix.\n",
        "    Normalization can be applied by setting `normalize=True`.\n",
        "    \"\"\"\n",
        "    if not title:\n",
        "        if normalize:\n",
        "            title = 'Normalized confusion matrix'\n",
        "        else:\n",
        "            title = 'Confusion matrix, without normalization'\n",
        "\n",
        "    # Compute confusion matrix\n",
        "    cm = confusion_matrix(y_true, y_pred)\n",
        "    \n",
        "    if normalize:\n",
        "        cm = cm.astype('float') / cm.sum(axis=1)[:, np.newaxis]\n",
        "\n",
        "    fig, ax = plt.subplots()\n",
        "\n",
        "    # Set size\n",
        "    fig.set_size_inches(12.5, 7.5)\n",
        "    im = ax.imshow(cm, interpolation='nearest', cmap=cmap)\n",
        "    ax.figure.colorbar(im, ax=ax)\n",
        "    ax.grid(False)\n",
        "\n",
        "    # We want to show all ticks...\n",
        "    ax.set(xticks=np.arange(cm.shape[1]),\n",
        "           yticks=np.arange(cm.shape[0]),\n",
        "           # ... and label them with the respective list entries\n",
        "           xticklabels=classes, yticklabels=classes,\n",
        "           title=title,\n",
        "           ylabel='True label',\n",
        "           xlabel='Predicted label')\n",
        "\n",
        "    # Rotate the tick labels and set their alignment.\n",
        "    plt.setp(ax.get_xticklabels(), rotation=45, ha=\"right\",\n",
        "             rotation_mode=\"anchor\")\n",
        "\n",
        "    # Loop over data dimensions and create text annotations.\n",
        "    fmt = '.2f' if normalize else 'd'\n",
        "    thresh = cm.max() / 2.\n",
        "    for i in range(cm.shape[0]):\n",
        "        for j in range(cm.shape[1]):\n",
        "            ax.text(j, i, format(cm[i, j], fmt),\n",
        "                    ha=\"center\", va=\"center\",\n",
        "                    color=\"white\" if cm[i, j] > thresh else \"black\")\n",
        "    fig.tight_layout()\n",
        "    return ax"
      ],
      "execution_count": null,
      "outputs": []
    },
    {
      "cell_type": "code",
      "metadata": {
        "colab": {
          "base_uri": "https://localhost:8080/",
          "height": 549
        },
        "id": "ZzcgjiWrhoHa",
        "outputId": "7a007202-5b24-404f-b9ac-2fe5b03a49dd"
      },
      "source": [
        "classes = ['Argument', 'NoArgument']\n",
        "plot_confusion_matrix(df.label0, df.preds0, classes=classes, normalize=False, title='BERT base cased')\n",
        "plt.show()"
      ],
      "execution_count": null,
      "outputs": [
        {
          "output_type": "display_data",
          "data": {
            "image/png": "[encoded data removed]",
            "text/plain": [
              "<Figure size 900x540 with 2 Axes>"
            ]
          },
          "metadata": {
            "needs_background": "light"
          }
        }
      ]
    },
    {
      "cell_type": "code",
      "metadata": {
        "colab": {
          "base_uri": "https://localhost:8080/",
          "height": 424
        },
        "id": "PU4wVgQHkoXj",
        "outputId": "3617b5c1-ec70-4595-a304-37bc150c1f76"
      },
      "source": [
        "df"
      ],
      "execution_count": null,
      "outputs": [
        {
          "output_type": "execute_result",
          "data": {
            "text/html": [
              "<div>\n",
              "<style scoped>\n",
              "    .dataframe tbody tr th:only-of-type {\n",
              "        vertical-align: middle;\n",
              "    }\n",
              "\n",
              "    .dataframe tbody tr th {\n",
              "        vertical-align: top;\n",
              "    }\n",
              "\n",
              "    .dataframe thead th {\n",
              "        text-align: right;\n",
              "    }\n",
              "</style>\n",
              "<table border=\"1\" class=\"dataframe\">\n",
              "  <thead>\n",
              "    <tr style=\"text-align: right;\">\n",
              "      <th></th>\n",
              "      <th>essay</th>\n",
              "      <th>sentence</th>\n",
              "      <th>topic</th>\n",
              "      <th>label0</th>\n",
              "      <th>label1</th>\n",
              "      <th>preds0</th>\n",
              "    </tr>\n",
              "  </thead>\n",
              "  <tbody>\n",
              "    <tr>\n",
              "      <th>0</th>\n",
              "      <td>essay66</td>\n",
              "      <td>Thus, every country has been promoting technol...</td>\n",
              "      <td>Technology keeps traditional skills and ways o...</td>\n",
              "      <td>NoArgument</td>\n",
              "      <td>NoArgument</td>\n",
              "      <td>NoArgument</td>\n",
              "    </tr>\n",
              "    <tr>\n",
              "      <th>1</th>\n",
              "      <td>essay18</td>\n",
              "      <td>Initially, if we look into the fact, women hav...</td>\n",
              "      <td>Gender Equality at university admission</td>\n",
              "      <td>Argument</td>\n",
              "      <td>Premise</td>\n",
              "      <td>Argument</td>\n",
              "    </tr>\n",
              "    <tr>\n",
              "      <th>2</th>\n",
              "      <td>essay62</td>\n",
              "      <td>Women like Margaret Thatcher, Indira Gandhi, M...</td>\n",
              "      <td>should universities accept equal number of mal...</td>\n",
              "      <td>Argument</td>\n",
              "      <td>Premise</td>\n",
              "      <td>NoArgument</td>\n",
              "    </tr>\n",
              "    <tr>\n",
              "      <th>3</th>\n",
              "      <td>essay09</td>\n",
              "      <td>Cannabis is classified as a schedule one drug,...</td>\n",
              "      <td>The Truth About Cannabis</td>\n",
              "      <td>NoArgument</td>\n",
              "      <td>NoArgument</td>\n",
              "      <td>Argument</td>\n",
              "    </tr>\n",
              "    <tr>\n",
              "      <th>4</th>\n",
              "      <td>essay39</td>\n",
              "      <td>Finally, a great deal of sophisticated technol...</td>\n",
              "      <td>Why should human beings travel to outer space?</td>\n",
              "      <td>Argument</td>\n",
              "      <td>Claim</td>\n",
              "      <td>Argument</td>\n",
              "    </tr>\n",
              "    <tr>\n",
              "      <th>...</th>\n",
              "      <td>...</td>\n",
              "      <td>...</td>\n",
              "      <td>...</td>\n",
              "      <td>...</td>\n",
              "      <td>...</td>\n",
              "      <td>...</td>\n",
              "    </tr>\n",
              "    <tr>\n",
              "      <th>1668</th>\n",
              "      <td>essay60</td>\n",
              "      <td>A break gives students more benefits than harms.</td>\n",
              "      <td>is a break good or bad after high school for s...</td>\n",
              "      <td>Argument</td>\n",
              "      <td>Claim</td>\n",
              "      <td>Argument</td>\n",
              "    </tr>\n",
              "    <tr>\n",
              "      <th>1669</th>\n",
              "      <td>essay73</td>\n",
              "      <td>Nevertheless, the importance of written word c...</td>\n",
              "      <td>Is image more powerful than the written word?</td>\n",
              "      <td>Argument</td>\n",
              "      <td>Premise</td>\n",
              "      <td>Argument</td>\n",
              "    </tr>\n",
              "    <tr>\n",
              "      <th>1670</th>\n",
              "      <td>essay77</td>\n",
              "      <td>In order to protect animals, from my perspecti...</td>\n",
              "      <td>zoos should be banned</td>\n",
              "      <td>Argument</td>\n",
              "      <td>Claim</td>\n",
              "      <td>Argument</td>\n",
              "    </tr>\n",
              "    <tr>\n",
              "      <th>1671</th>\n",
              "      <td>essay75</td>\n",
              "      <td>This is simply because knowledge and wisdom is...</td>\n",
              "      <td>Do arts and music improve the quality of life?</td>\n",
              "      <td>Argument</td>\n",
              "      <td>Premise</td>\n",
              "      <td>Argument</td>\n",
              "    </tr>\n",
              "    <tr>\n",
              "      <th>1672</th>\n",
              "      <td>essay84</td>\n",
              "      <td>This is because the money instead of being use...</td>\n",
              "      <td>Giving mobile phones to the unemployed</td>\n",
              "      <td>Argument</td>\n",
              "      <td>Premise</td>\n",
              "      <td>Argument</td>\n",
              "    </tr>\n",
              "  </tbody>\n",
              "</table>\n",
              "<p>1673 rows × 6 columns</p>\n",
              "</div>"
            ],
            "text/plain": [
              "        essay  ...      preds0\n",
              "0     essay66  ...  NoArgument\n",
              "1     essay18  ...    Argument\n",
              "2     essay62  ...  NoArgument\n",
              "3     essay09  ...    Argument\n",
              "4     essay39  ...    Argument\n",
              "...       ...  ...         ...\n",
              "1668  essay60  ...    Argument\n",
              "1669  essay73  ...    Argument\n",
              "1670  essay77  ...    Argument\n",
              "1671  essay75  ...    Argument\n",
              "1672  essay84  ...    Argument\n",
              "\n",
              "[1673 rows x 6 columns]"
            ]
          },
          "metadata": {},
          "execution_count": 28
        }
      ]
    },
    {
      "cell_type": "code",
      "metadata": {
        "id": "oBTo2BPkksbI"
      },
      "source": [
        "args = df[df['preds0'] == 'Argument'].reset_index(drop=True)"
      ],
      "execution_count": null,
      "outputs": []
    },
    {
      "cell_type": "code",
      "metadata": {
        "colab": {
          "base_uri": "https://localhost:8080/",
          "height": 424
        },
        "id": "neUZHYI3k9lk",
        "outputId": "58ce7f5b-5479-4fb8-db75-0ea8abb45b5c"
      },
      "source": [
        "args = args[['essay', 'sentence', 'topic']].copy()\n",
        "args"
      ],
      "execution_count": null,
      "outputs": [
        {
          "output_type": "execute_result",
          "data": {
            "text/html": [
              "<div>\n",
              "<style scoped>\n",
              "    .dataframe tbody tr th:only-of-type {\n",
              "        vertical-align: middle;\n",
              "    }\n",
              "\n",
              "    .dataframe tbody tr th {\n",
              "        vertical-align: top;\n",
              "    }\n",
              "\n",
              "    .dataframe thead th {\n",
              "        text-align: right;\n",
              "    }\n",
              "</style>\n",
              "<table border=\"1\" class=\"dataframe\">\n",
              "  <thead>\n",
              "    <tr style=\"text-align: right;\">\n",
              "      <th></th>\n",
              "      <th>essay</th>\n",
              "      <th>sentence</th>\n",
              "      <th>topic</th>\n",
              "    </tr>\n",
              "  </thead>\n",
              "  <tbody>\n",
              "    <tr>\n",
              "      <th>0</th>\n",
              "      <td>essay18</td>\n",
              "      <td>Initially, if we look into the fact, women hav...</td>\n",
              "      <td>Gender Equality at university admission</td>\n",
              "    </tr>\n",
              "    <tr>\n",
              "      <th>1</th>\n",
              "      <td>essay09</td>\n",
              "      <td>Cannabis is classified as a schedule one drug,...</td>\n",
              "      <td>The Truth About Cannabis</td>\n",
              "    </tr>\n",
              "    <tr>\n",
              "      <th>2</th>\n",
              "      <td>essay39</td>\n",
              "      <td>Finally, a great deal of sophisticated technol...</td>\n",
              "      <td>Why should human beings travel to outer space?</td>\n",
              "    </tr>\n",
              "    <tr>\n",
              "      <th>3</th>\n",
              "      <td>essay04</td>\n",
              "      <td>Take Thailand for example, in the Vietnam War,...</td>\n",
              "      <td>International tourism is now more common than ...</td>\n",
              "    </tr>\n",
              "    <tr>\n",
              "      <th>4</th>\n",
              "      <td>essay30</td>\n",
              "      <td>Furthermore, this will encourage all the paren...</td>\n",
              "      <td>Government And Education</td>\n",
              "    </tr>\n",
              "    <tr>\n",
              "      <th>...</th>\n",
              "      <td>...</td>\n",
              "      <td>...</td>\n",
              "      <td>...</td>\n",
              "    </tr>\n",
              "    <tr>\n",
              "      <th>1007</th>\n",
              "      <td>essay60</td>\n",
              "      <td>A break gives students more benefits than harms.</td>\n",
              "      <td>is a break good or bad after high school for s...</td>\n",
              "    </tr>\n",
              "    <tr>\n",
              "      <th>1008</th>\n",
              "      <td>essay73</td>\n",
              "      <td>Nevertheless, the importance of written word c...</td>\n",
              "      <td>Is image more powerful than the written word?</td>\n",
              "    </tr>\n",
              "    <tr>\n",
              "      <th>1009</th>\n",
              "      <td>essay77</td>\n",
              "      <td>In order to protect animals, from my perspecti...</td>\n",
              "      <td>zoos should be banned</td>\n",
              "    </tr>\n",
              "    <tr>\n",
              "      <th>1010</th>\n",
              "      <td>essay75</td>\n",
              "      <td>This is simply because knowledge and wisdom is...</td>\n",
              "      <td>Do arts and music improve the quality of life?</td>\n",
              "    </tr>\n",
              "    <tr>\n",
              "      <th>1011</th>\n",
              "      <td>essay84</td>\n",
              "      <td>This is because the money instead of being use...</td>\n",
              "      <td>Giving mobile phones to the unemployed</td>\n",
              "    </tr>\n",
              "  </tbody>\n",
              "</table>\n",
              "<p>1012 rows × 3 columns</p>\n",
              "</div>"
            ],
            "text/plain": [
              "        essay  ...                                              topic\n",
              "0     essay18  ...            Gender Equality at university admission\n",
              "1     essay09  ...                           The Truth About Cannabis\n",
              "2     essay39  ...     Why should human beings travel to outer space?\n",
              "3     essay04  ...  International tourism is now more common than ...\n",
              "4     essay30  ...                           Government And Education\n",
              "...       ...  ...                                                ...\n",
              "1007  essay60  ...  is a break good or bad after high school for s...\n",
              "1008  essay73  ...      Is image more powerful than the written word?\n",
              "1009  essay77  ...                              zoos should be banned\n",
              "1010  essay75  ...     Do arts and music improve the quality of life?\n",
              "1011  essay84  ...             Giving mobile phones to the unemployed\n",
              "\n",
              "[1012 rows x 3 columns]"
            ]
          },
          "metadata": {},
          "execution_count": 30
        }
      ]
    },
    {
      "cell_type": "code",
      "metadata": {
        "id": "ZiwHK_i7k_Ct"
      },
      "source": [
        "model1 = keras.models.load_model('/content/drive/MyDrive/Colab Notebooks/tesi/AM/subjectivity/SUBJ_final.h5')"
      ],
      "execution_count": null,
      "outputs": []
    },
    {
      "cell_type": "code",
      "metadata": {
        "id": "Xq5WcfK9lRGx"
      },
      "source": [
        "args_input_ids, args_attention_masks, _ = bert_encode(args, max_len)"
      ],
      "execution_count": null,
      "outputs": []
    },
    {
      "cell_type": "code",
      "metadata": {
        "colab": {
          "base_uri": "https://localhost:8080/",
          "height": 128
        },
        "id": "8QwYQCCsldg5",
        "outputId": "a67d5cd2-d1c2-4047-d604-df4ef61f9aa4"
      },
      "source": [
        "tokenizer.decode(args_input_ids[0])"
      ],
      "execution_count": null,
      "outputs": [
        {
          "output_type": "execute_result",
          "data": {
            "application/vnd.google.colaboratory.intrinsic+json": {
              "type": "string"
            },
            "text/plain": [
              "'[CLS] Gender Equality at university admission [SEP] Initially, if we look into the fact, women have proved themselves in every field whether it is indoor or outdoor. [SEP] [PAD] [PAD] [PAD] [PAD] [PAD] [PAD] [PAD] [PAD] [PAD] [PAD] [PAD] [PAD] [PAD] [PAD] [PAD] [PAD] [PAD] [PAD] [PAD] [PAD] [PAD] [PAD] [PAD] [PAD] [PAD] [PAD] [PAD] [PAD] [PAD] [PAD] [PAD] [PAD] [PAD] [PAD] [PAD] [PAD] [PAD] [PAD] [PAD] [PAD] [PAD] [PAD] [PAD] [PAD] [PAD] [PAD] [PAD] [PAD] [PAD] [PAD] [PAD] [PAD] [PAD] [PAD] [PAD] [PAD] [PAD] [PAD] [PAD] [PAD] [PAD] [PAD] [PAD] [PAD] [PAD] [PAD] [PAD] [PAD] [PAD] [PAD] [PAD] [PAD] [PAD] [PAD] [PAD] [PAD] [PAD] [PAD] [PAD] [PAD] [PAD] [PAD] [PAD] [PAD] [PAD] [PAD] [PAD] [PAD] [PAD] [PAD] [PAD] [PAD] [PAD] [PAD] [PAD] [PAD] [PAD]'"
            ]
          },
          "metadata": {},
          "execution_count": 33
        }
      ]
    },
    {
      "cell_type": "code",
      "metadata": {
        "id": "D51tYTfHlocT"
      },
      "source": [
        "results1 = model1.predict([args_input_ids, args_attention_masks])"
      ],
      "execution_count": null,
      "outputs": []
    },
    {
      "cell_type": "code",
      "metadata": {
        "id": "GAug4yYHltnL"
      },
      "source": [
        "preds1 = np.round(results1).astype(int)"
      ],
      "execution_count": null,
      "outputs": []
    },
    {
      "cell_type": "code",
      "metadata": {
        "colab": {
          "base_uri": "https://localhost:8080/",
          "height": 206
        },
        "id": "U6w9F_fYl4CW",
        "outputId": "ef0fb1bd-31e2-4251-e5be-8f348726c1cd"
      },
      "source": [
        "args['preds1'] = preds1\n",
        "args.head()"
      ],
      "execution_count": null,
      "outputs": [
        {
          "output_type": "execute_result",
          "data": {
            "text/html": [
              "<div>\n",
              "<style scoped>\n",
              "    .dataframe tbody tr th:only-of-type {\n",
              "        vertical-align: middle;\n",
              "    }\n",
              "\n",
              "    .dataframe tbody tr th {\n",
              "        vertical-align: top;\n",
              "    }\n",
              "\n",
              "    .dataframe thead th {\n",
              "        text-align: right;\n",
              "    }\n",
              "</style>\n",
              "<table border=\"1\" class=\"dataframe\">\n",
              "  <thead>\n",
              "    <tr style=\"text-align: right;\">\n",
              "      <th></th>\n",
              "      <th>essay</th>\n",
              "      <th>sentence</th>\n",
              "      <th>topic</th>\n",
              "      <th>preds1</th>\n",
              "    </tr>\n",
              "  </thead>\n",
              "  <tbody>\n",
              "    <tr>\n",
              "      <th>0</th>\n",
              "      <td>essay18</td>\n",
              "      <td>Initially, if we look into the fact, women hav...</td>\n",
              "      <td>Gender Equality at university admission</td>\n",
              "      <td>0</td>\n",
              "    </tr>\n",
              "    <tr>\n",
              "      <th>1</th>\n",
              "      <td>essay09</td>\n",
              "      <td>Cannabis is classified as a schedule one drug,...</td>\n",
              "      <td>The Truth About Cannabis</td>\n",
              "      <td>0</td>\n",
              "    </tr>\n",
              "    <tr>\n",
              "      <th>2</th>\n",
              "      <td>essay39</td>\n",
              "      <td>Finally, a great deal of sophisticated technol...</td>\n",
              "      <td>Why should human beings travel to outer space?</td>\n",
              "      <td>0</td>\n",
              "    </tr>\n",
              "    <tr>\n",
              "      <th>3</th>\n",
              "      <td>essay04</td>\n",
              "      <td>Take Thailand for example, in the Vietnam War,...</td>\n",
              "      <td>International tourism is now more common than ...</td>\n",
              "      <td>0</td>\n",
              "    </tr>\n",
              "    <tr>\n",
              "      <th>4</th>\n",
              "      <td>essay30</td>\n",
              "      <td>Furthermore, this will encourage all the paren...</td>\n",
              "      <td>Government And Education</td>\n",
              "      <td>0</td>\n",
              "    </tr>\n",
              "  </tbody>\n",
              "</table>\n",
              "</div>"
            ],
            "text/plain": [
              "     essay  ... preds1\n",
              "0  essay18  ...      0\n",
              "1  essay09  ...      0\n",
              "2  essay39  ...      0\n",
              "3  essay04  ...      0\n",
              "4  essay30  ...      0\n",
              "\n",
              "[5 rows x 4 columns]"
            ]
          },
          "metadata": {},
          "execution_count": 36
        }
      ]
    },
    {
      "cell_type": "code",
      "metadata": {
        "id": "ptSdnRNbmfGX"
      },
      "source": [
        "args['new_preds1'] = ['Claim' if ele == 0 else 'Premise' for ele in args['preds1']]"
      ],
      "execution_count": null,
      "outputs": []
    },
    {
      "cell_type": "code",
      "metadata": {
        "colab": {
          "base_uri": "https://localhost:8080/",
          "height": 424
        },
        "id": "tOSlAaGh290g",
        "outputId": "636e7d22-e4c2-4962-e6d5-739ba21d455f"
      },
      "source": [
        "args = args.drop('preds1', axis=1).reset_index(drop=True).rename(columns={'new_preds1': 'preds1'})\n",
        "args"
      ],
      "execution_count": null,
      "outputs": [
        {
          "output_type": "execute_result",
          "data": {
            "text/html": [
              "<div>\n",
              "<style scoped>\n",
              "    .dataframe tbody tr th:only-of-type {\n",
              "        vertical-align: middle;\n",
              "    }\n",
              "\n",
              "    .dataframe tbody tr th {\n",
              "        vertical-align: top;\n",
              "    }\n",
              "\n",
              "    .dataframe thead th {\n",
              "        text-align: right;\n",
              "    }\n",
              "</style>\n",
              "<table border=\"1\" class=\"dataframe\">\n",
              "  <thead>\n",
              "    <tr style=\"text-align: right;\">\n",
              "      <th></th>\n",
              "      <th>essay</th>\n",
              "      <th>sentence</th>\n",
              "      <th>topic</th>\n",
              "      <th>preds1</th>\n",
              "    </tr>\n",
              "  </thead>\n",
              "  <tbody>\n",
              "    <tr>\n",
              "      <th>0</th>\n",
              "      <td>essay18</td>\n",
              "      <td>Initially, if we look into the fact, women hav...</td>\n",
              "      <td>Gender Equality at university admission</td>\n",
              "      <td>Claim</td>\n",
              "    </tr>\n",
              "    <tr>\n",
              "      <th>1</th>\n",
              "      <td>essay09</td>\n",
              "      <td>Cannabis is classified as a schedule one drug,...</td>\n",
              "      <td>The Truth About Cannabis</td>\n",
              "      <td>Claim</td>\n",
              "    </tr>\n",
              "    <tr>\n",
              "      <th>2</th>\n",
              "      <td>essay39</td>\n",
              "      <td>Finally, a great deal of sophisticated technol...</td>\n",
              "      <td>Why should human beings travel to outer space?</td>\n",
              "      <td>Claim</td>\n",
              "    </tr>\n",
              "    <tr>\n",
              "      <th>3</th>\n",
              "      <td>essay04</td>\n",
              "      <td>Take Thailand for example, in the Vietnam War,...</td>\n",
              "      <td>International tourism is now more common than ...</td>\n",
              "      <td>Claim</td>\n",
              "    </tr>\n",
              "    <tr>\n",
              "      <th>4</th>\n",
              "      <td>essay30</td>\n",
              "      <td>Furthermore, this will encourage all the paren...</td>\n",
              "      <td>Government And Education</td>\n",
              "      <td>Claim</td>\n",
              "    </tr>\n",
              "    <tr>\n",
              "      <th>...</th>\n",
              "      <td>...</td>\n",
              "      <td>...</td>\n",
              "      <td>...</td>\n",
              "      <td>...</td>\n",
              "    </tr>\n",
              "    <tr>\n",
              "      <th>1007</th>\n",
              "      <td>essay60</td>\n",
              "      <td>A break gives students more benefits than harms.</td>\n",
              "      <td>is a break good or bad after high school for s...</td>\n",
              "      <td>Claim</td>\n",
              "    </tr>\n",
              "    <tr>\n",
              "      <th>1008</th>\n",
              "      <td>essay73</td>\n",
              "      <td>Nevertheless, the importance of written word c...</td>\n",
              "      <td>Is image more powerful than the written word?</td>\n",
              "      <td>Claim</td>\n",
              "    </tr>\n",
              "    <tr>\n",
              "      <th>1009</th>\n",
              "      <td>essay77</td>\n",
              "      <td>In order to protect animals, from my perspecti...</td>\n",
              "      <td>zoos should be banned</td>\n",
              "      <td>Claim</td>\n",
              "    </tr>\n",
              "    <tr>\n",
              "      <th>1010</th>\n",
              "      <td>essay75</td>\n",
              "      <td>This is simply because knowledge and wisdom is...</td>\n",
              "      <td>Do arts and music improve the quality of life?</td>\n",
              "      <td>Claim</td>\n",
              "    </tr>\n",
              "    <tr>\n",
              "      <th>1011</th>\n",
              "      <td>essay84</td>\n",
              "      <td>This is because the money instead of being use...</td>\n",
              "      <td>Giving mobile phones to the unemployed</td>\n",
              "      <td>Claim</td>\n",
              "    </tr>\n",
              "  </tbody>\n",
              "</table>\n",
              "<p>1012 rows × 4 columns</p>\n",
              "</div>"
            ],
            "text/plain": [
              "        essay  ... preds1\n",
              "0     essay18  ...  Claim\n",
              "1     essay09  ...  Claim\n",
              "2     essay39  ...  Claim\n",
              "3     essay04  ...  Claim\n",
              "4     essay30  ...  Claim\n",
              "...       ...  ...    ...\n",
              "1007  essay60  ...  Claim\n",
              "1008  essay73  ...  Claim\n",
              "1009  essay77  ...  Claim\n",
              "1010  essay75  ...  Claim\n",
              "1011  essay84  ...  Claim\n",
              "\n",
              "[1012 rows x 4 columns]"
            ]
          },
          "metadata": {},
          "execution_count": 38
        }
      ]
    },
    {
      "cell_type": "code",
      "metadata": {
        "colab": {
          "base_uri": "https://localhost:8080/"
        },
        "id": "V7n4pFBQ3wSP",
        "outputId": "b3140b20-2d7b-48ba-ba9f-36be39f44629"
      },
      "source": [
        "args.groupby('preds1')['essay'].count()"
      ],
      "execution_count": null,
      "outputs": [
        {
          "output_type": "execute_result",
          "data": {
            "text/plain": [
              "preds1\n",
              "Claim      909\n",
              "Premise    103\n",
              "Name: essay, dtype: int64"
            ]
          },
          "metadata": {},
          "execution_count": 39
        }
      ]
    },
    {
      "cell_type": "code",
      "metadata": {
        "id": "ic3VAvHPsb3L"
      },
      "source": [
        "comb = pd.merge(df, args, on=['essay', 'sentence', 'topic'], how='left')"
      ],
      "execution_count": null,
      "outputs": []
    },
    {
      "cell_type": "code",
      "metadata": {
        "colab": {
          "base_uri": "https://localhost:8080/",
          "height": 424
        },
        "id": "6DRFGxj24S2_",
        "outputId": "949d8ca8-9523-4fb8-c8cf-dbb199816a35"
      },
      "source": [
        "comb"
      ],
      "execution_count": null,
      "outputs": [
        {
          "output_type": "execute_result",
          "data": {
            "text/html": [
              "<div>\n",
              "<style scoped>\n",
              "    .dataframe tbody tr th:only-of-type {\n",
              "        vertical-align: middle;\n",
              "    }\n",
              "\n",
              "    .dataframe tbody tr th {\n",
              "        vertical-align: top;\n",
              "    }\n",
              "\n",
              "    .dataframe thead th {\n",
              "        text-align: right;\n",
              "    }\n",
              "</style>\n",
              "<table border=\"1\" class=\"dataframe\">\n",
              "  <thead>\n",
              "    <tr style=\"text-align: right;\">\n",
              "      <th></th>\n",
              "      <th>essay</th>\n",
              "      <th>sentence</th>\n",
              "      <th>topic</th>\n",
              "      <th>label0</th>\n",
              "      <th>label1</th>\n",
              "      <th>preds0</th>\n",
              "      <th>preds1</th>\n",
              "    </tr>\n",
              "  </thead>\n",
              "  <tbody>\n",
              "    <tr>\n",
              "      <th>0</th>\n",
              "      <td>essay66</td>\n",
              "      <td>Thus, every country has been promoting technol...</td>\n",
              "      <td>Technology keeps traditional skills and ways o...</td>\n",
              "      <td>NoArgument</td>\n",
              "      <td>NoArgument</td>\n",
              "      <td>NoArgument</td>\n",
              "      <td>NaN</td>\n",
              "    </tr>\n",
              "    <tr>\n",
              "      <th>1</th>\n",
              "      <td>essay18</td>\n",
              "      <td>Initially, if we look into the fact, women hav...</td>\n",
              "      <td>Gender Equality at university admission</td>\n",
              "      <td>Argument</td>\n",
              "      <td>Premise</td>\n",
              "      <td>Argument</td>\n",
              "      <td>Claim</td>\n",
              "    </tr>\n",
              "    <tr>\n",
              "      <th>2</th>\n",
              "      <td>essay62</td>\n",
              "      <td>Women like Margaret Thatcher, Indira Gandhi, M...</td>\n",
              "      <td>should universities accept equal number of mal...</td>\n",
              "      <td>Argument</td>\n",
              "      <td>Premise</td>\n",
              "      <td>NoArgument</td>\n",
              "      <td>NaN</td>\n",
              "    </tr>\n",
              "    <tr>\n",
              "      <th>3</th>\n",
              "      <td>essay09</td>\n",
              "      <td>Cannabis is classified as a schedule one drug,...</td>\n",
              "      <td>The Truth About Cannabis</td>\n",
              "      <td>NoArgument</td>\n",
              "      <td>NoArgument</td>\n",
              "      <td>Argument</td>\n",
              "      <td>Claim</td>\n",
              "    </tr>\n",
              "    <tr>\n",
              "      <th>4</th>\n",
              "      <td>essay39</td>\n",
              "      <td>Finally, a great deal of sophisticated technol...</td>\n",
              "      <td>Why should human beings travel to outer space?</td>\n",
              "      <td>Argument</td>\n",
              "      <td>Claim</td>\n",
              "      <td>Argument</td>\n",
              "      <td>Claim</td>\n",
              "    </tr>\n",
              "    <tr>\n",
              "      <th>...</th>\n",
              "      <td>...</td>\n",
              "      <td>...</td>\n",
              "      <td>...</td>\n",
              "      <td>...</td>\n",
              "      <td>...</td>\n",
              "      <td>...</td>\n",
              "      <td>...</td>\n",
              "    </tr>\n",
              "    <tr>\n",
              "      <th>1668</th>\n",
              "      <td>essay60</td>\n",
              "      <td>A break gives students more benefits than harms.</td>\n",
              "      <td>is a break good or bad after high school for s...</td>\n",
              "      <td>Argument</td>\n",
              "      <td>Claim</td>\n",
              "      <td>Argument</td>\n",
              "      <td>Claim</td>\n",
              "    </tr>\n",
              "    <tr>\n",
              "      <th>1669</th>\n",
              "      <td>essay73</td>\n",
              "      <td>Nevertheless, the importance of written word c...</td>\n",
              "      <td>Is image more powerful than the written word?</td>\n",
              "      <td>Argument</td>\n",
              "      <td>Premise</td>\n",
              "      <td>Argument</td>\n",
              "      <td>Claim</td>\n",
              "    </tr>\n",
              "    <tr>\n",
              "      <th>1670</th>\n",
              "      <td>essay77</td>\n",
              "      <td>In order to protect animals, from my perspecti...</td>\n",
              "      <td>zoos should be banned</td>\n",
              "      <td>Argument</td>\n",
              "      <td>Claim</td>\n",
              "      <td>Argument</td>\n",
              "      <td>Claim</td>\n",
              "    </tr>\n",
              "    <tr>\n",
              "      <th>1671</th>\n",
              "      <td>essay75</td>\n",
              "      <td>This is simply because knowledge and wisdom is...</td>\n",
              "      <td>Do arts and music improve the quality of life?</td>\n",
              "      <td>Argument</td>\n",
              "      <td>Premise</td>\n",
              "      <td>Argument</td>\n",
              "      <td>Claim</td>\n",
              "    </tr>\n",
              "    <tr>\n",
              "      <th>1672</th>\n",
              "      <td>essay84</td>\n",
              "      <td>This is because the money instead of being use...</td>\n",
              "      <td>Giving mobile phones to the unemployed</td>\n",
              "      <td>Argument</td>\n",
              "      <td>Premise</td>\n",
              "      <td>Argument</td>\n",
              "      <td>Claim</td>\n",
              "    </tr>\n",
              "  </tbody>\n",
              "</table>\n",
              "<p>1673 rows × 7 columns</p>\n",
              "</div>"
            ],
            "text/plain": [
              "        essay  ... preds1\n",
              "0     essay66  ...    NaN\n",
              "1     essay18  ...  Claim\n",
              "2     essay62  ...    NaN\n",
              "3     essay09  ...  Claim\n",
              "4     essay39  ...  Claim\n",
              "...       ...  ...    ...\n",
              "1668  essay60  ...  Claim\n",
              "1669  essay73  ...  Claim\n",
              "1670  essay77  ...  Claim\n",
              "1671  essay75  ...  Claim\n",
              "1672  essay84  ...  Claim\n",
              "\n",
              "[1673 rows x 7 columns]"
            ]
          },
          "metadata": {},
          "execution_count": 41
        }
      ]
    },
    {
      "cell_type": "code",
      "metadata": {
        "id": "uQKHPiJ7tyYh"
      },
      "source": [
        "comb.preds1 = comb.preds1.fillna('NoArgument')"
      ],
      "execution_count": null,
      "outputs": []
    },
    {
      "cell_type": "code",
      "metadata": {
        "colab": {
          "base_uri": "https://localhost:8080/",
          "height": 424
        },
        "id": "N56B2WyZt6eT",
        "outputId": "c1fa03b4-769d-45f0-e0ff-607ff8e4c0ca"
      },
      "source": [
        "comb"
      ],
      "execution_count": null,
      "outputs": [
        {
          "output_type": "execute_result",
          "data": {
            "text/html": [
              "<div>\n",
              "<style scoped>\n",
              "    .dataframe tbody tr th:only-of-type {\n",
              "        vertical-align: middle;\n",
              "    }\n",
              "\n",
              "    .dataframe tbody tr th {\n",
              "        vertical-align: top;\n",
              "    }\n",
              "\n",
              "    .dataframe thead th {\n",
              "        text-align: right;\n",
              "    }\n",
              "</style>\n",
              "<table border=\"1\" class=\"dataframe\">\n",
              "  <thead>\n",
              "    <tr style=\"text-align: right;\">\n",
              "      <th></th>\n",
              "      <th>essay</th>\n",
              "      <th>sentence</th>\n",
              "      <th>topic</th>\n",
              "      <th>label0</th>\n",
              "      <th>label1</th>\n",
              "      <th>preds0</th>\n",
              "      <th>preds1</th>\n",
              "    </tr>\n",
              "  </thead>\n",
              "  <tbody>\n",
              "    <tr>\n",
              "      <th>0</th>\n",
              "      <td>essay66</td>\n",
              "      <td>Thus, every country has been promoting technol...</td>\n",
              "      <td>Technology keeps traditional skills and ways o...</td>\n",
              "      <td>NoArgument</td>\n",
              "      <td>NoArgument</td>\n",
              "      <td>NoArgument</td>\n",
              "      <td>NoArgument</td>\n",
              "    </tr>\n",
              "    <tr>\n",
              "      <th>1</th>\n",
              "      <td>essay18</td>\n",
              "      <td>Initially, if we look into the fact, women hav...</td>\n",
              "      <td>Gender Equality at university admission</td>\n",
              "      <td>Argument</td>\n",
              "      <td>Premise</td>\n",
              "      <td>Argument</td>\n",
              "      <td>Claim</td>\n",
              "    </tr>\n",
              "    <tr>\n",
              "      <th>2</th>\n",
              "      <td>essay62</td>\n",
              "      <td>Women like Margaret Thatcher, Indira Gandhi, M...</td>\n",
              "      <td>should universities accept equal number of mal...</td>\n",
              "      <td>Argument</td>\n",
              "      <td>Premise</td>\n",
              "      <td>NoArgument</td>\n",
              "      <td>NoArgument</td>\n",
              "    </tr>\n",
              "    <tr>\n",
              "      <th>3</th>\n",
              "      <td>essay09</td>\n",
              "      <td>Cannabis is classified as a schedule one drug,...</td>\n",
              "      <td>The Truth About Cannabis</td>\n",
              "      <td>NoArgument</td>\n",
              "      <td>NoArgument</td>\n",
              "      <td>Argument</td>\n",
              "      <td>Claim</td>\n",
              "    </tr>\n",
              "    <tr>\n",
              "      <th>4</th>\n",
              "      <td>essay39</td>\n",
              "      <td>Finally, a great deal of sophisticated technol...</td>\n",
              "      <td>Why should human beings travel to outer space?</td>\n",
              "      <td>Argument</td>\n",
              "      <td>Claim</td>\n",
              "      <td>Argument</td>\n",
              "      <td>Claim</td>\n",
              "    </tr>\n",
              "    <tr>\n",
              "      <th>...</th>\n",
              "      <td>...</td>\n",
              "      <td>...</td>\n",
              "      <td>...</td>\n",
              "      <td>...</td>\n",
              "      <td>...</td>\n",
              "      <td>...</td>\n",
              "      <td>...</td>\n",
              "    </tr>\n",
              "    <tr>\n",
              "      <th>1668</th>\n",
              "      <td>essay60</td>\n",
              "      <td>A break gives students more benefits than harms.</td>\n",
              "      <td>is a break good or bad after high school for s...</td>\n",
              "      <td>Argument</td>\n",
              "      <td>Claim</td>\n",
              "      <td>Argument</td>\n",
              "      <td>Claim</td>\n",
              "    </tr>\n",
              "    <tr>\n",
              "      <th>1669</th>\n",
              "      <td>essay73</td>\n",
              "      <td>Nevertheless, the importance of written word c...</td>\n",
              "      <td>Is image more powerful than the written word?</td>\n",
              "      <td>Argument</td>\n",
              "      <td>Premise</td>\n",
              "      <td>Argument</td>\n",
              "      <td>Claim</td>\n",
              "    </tr>\n",
              "    <tr>\n",
              "      <th>1670</th>\n",
              "      <td>essay77</td>\n",
              "      <td>In order to protect animals, from my perspecti...</td>\n",
              "      <td>zoos should be banned</td>\n",
              "      <td>Argument</td>\n",
              "      <td>Claim</td>\n",
              "      <td>Argument</td>\n",
              "      <td>Claim</td>\n",
              "    </tr>\n",
              "    <tr>\n",
              "      <th>1671</th>\n",
              "      <td>essay75</td>\n",
              "      <td>This is simply because knowledge and wisdom is...</td>\n",
              "      <td>Do arts and music improve the quality of life?</td>\n",
              "      <td>Argument</td>\n",
              "      <td>Premise</td>\n",
              "      <td>Argument</td>\n",
              "      <td>Claim</td>\n",
              "    </tr>\n",
              "    <tr>\n",
              "      <th>1672</th>\n",
              "      <td>essay84</td>\n",
              "      <td>This is because the money instead of being use...</td>\n",
              "      <td>Giving mobile phones to the unemployed</td>\n",
              "      <td>Argument</td>\n",
              "      <td>Premise</td>\n",
              "      <td>Argument</td>\n",
              "      <td>Claim</td>\n",
              "    </tr>\n",
              "  </tbody>\n",
              "</table>\n",
              "<p>1673 rows × 7 columns</p>\n",
              "</div>"
            ],
            "text/plain": [
              "        essay  ...      preds1\n",
              "0     essay66  ...  NoArgument\n",
              "1     essay18  ...       Claim\n",
              "2     essay62  ...  NoArgument\n",
              "3     essay09  ...       Claim\n",
              "4     essay39  ...       Claim\n",
              "...       ...  ...         ...\n",
              "1668  essay60  ...       Claim\n",
              "1669  essay73  ...       Claim\n",
              "1670  essay77  ...       Claim\n",
              "1671  essay75  ...       Claim\n",
              "1672  essay84  ...       Claim\n",
              "\n",
              "[1673 rows x 7 columns]"
            ]
          },
          "metadata": {},
          "execution_count": 43
        }
      ]
    },
    {
      "cell_type": "code",
      "metadata": {
        "colab": {
          "base_uri": "https://localhost:8080/"
        },
        "id": "Wyo1U5M8znyz",
        "outputId": "c841976c-dcf3-45ed-a88e-97de2710c2ae"
      },
      "source": [
        "from sklearn.metrics import classification_report\n",
        "\n",
        "#target_names = ['NoArg', 'Arg']\n",
        "print(classification_report(comb.label1, comb.preds1))"
      ],
      "execution_count": null,
      "outputs": [
        {
          "output_type": "stream",
          "name": "stdout",
          "text": [
            "              precision    recall  f1-score   support\n",
            "\n",
            "       Claim       0.37      0.66      0.47       507\n",
            "  NoArgument       0.33      0.65      0.43       333\n",
            "     Premise       0.47      0.06      0.10       833\n",
            "\n",
            "    accuracy                           0.36      1673\n",
            "   macro avg       0.39      0.45      0.34      1673\n",
            "weighted avg       0.41      0.36      0.28      1673\n",
            "\n"
          ]
        }
      ]
    },
    {
      "cell_type": "code",
      "metadata": {
        "colab": {
          "base_uri": "https://localhost:8080/",
          "height": 549
        },
        "id": "ozrXfzEEzqsL",
        "outputId": "ce5accbc-241b-44cd-d627-d366d8e6a59c"
      },
      "source": [
        "classes = ['Claim', 'NoArgument', 'Premise']\n",
        "plot_confusion_matrix(comb.label1, comb.preds1, classes=classes, normalize=False, title='BERT base cased')\n",
        "plt.show()"
      ],
      "execution_count": null,
      "outputs": [
        {
          "output_type": "display_data",
          "data": {
            "image/png": "[encoded data removed]",
            "text/plain": [
              "<Figure size 900x540 with 2 Axes>"
            ]
          },
          "metadata": {
            "needs_background": "light"
          }
        }
      ]
    },
    {
      "cell_type": "code",
      "metadata": {
        "colab": {
          "base_uri": "https://localhost:8080/",
          "height": 424
        },
        "id": "r1UDsFZEugb6",
        "outputId": "d3421f3e-658b-411e-922d-676ca9938697"
      },
      "source": [
        "comb[comb['preds1'] == 'Claim']"
      ],
      "execution_count": null,
      "outputs": [
        {
          "output_type": "execute_result",
          "data": {
            "text/html": [
              "<div>\n",
              "<style scoped>\n",
              "    .dataframe tbody tr th:only-of-type {\n",
              "        vertical-align: middle;\n",
              "    }\n",
              "\n",
              "    .dataframe tbody tr th {\n",
              "        vertical-align: top;\n",
              "    }\n",
              "\n",
              "    .dataframe thead th {\n",
              "        text-align: right;\n",
              "    }\n",
              "</style>\n",
              "<table border=\"1\" class=\"dataframe\">\n",
              "  <thead>\n",
              "    <tr style=\"text-align: right;\">\n",
              "      <th></th>\n",
              "      <th>essay</th>\n",
              "      <th>sentence</th>\n",
              "      <th>topic</th>\n",
              "      <th>label0</th>\n",
              "      <th>label1</th>\n",
              "      <th>preds0</th>\n",
              "      <th>preds1</th>\n",
              "    </tr>\n",
              "  </thead>\n",
              "  <tbody>\n",
              "    <tr>\n",
              "      <th>1</th>\n",
              "      <td>essay18</td>\n",
              "      <td>Initially, if we look into the fact, women hav...</td>\n",
              "      <td>Gender Equality at university admission</td>\n",
              "      <td>Argument</td>\n",
              "      <td>Premise</td>\n",
              "      <td>Argument</td>\n",
              "      <td>Claim</td>\n",
              "    </tr>\n",
              "    <tr>\n",
              "      <th>3</th>\n",
              "      <td>essay09</td>\n",
              "      <td>Cannabis is classified as a schedule one drug,...</td>\n",
              "      <td>The Truth About Cannabis</td>\n",
              "      <td>NoArgument</td>\n",
              "      <td>NoArgument</td>\n",
              "      <td>Argument</td>\n",
              "      <td>Claim</td>\n",
              "    </tr>\n",
              "    <tr>\n",
              "      <th>4</th>\n",
              "      <td>essay39</td>\n",
              "      <td>Finally, a great deal of sophisticated technol...</td>\n",
              "      <td>Why should human beings travel to outer space?</td>\n",
              "      <td>Argument</td>\n",
              "      <td>Claim</td>\n",
              "      <td>Argument</td>\n",
              "      <td>Claim</td>\n",
              "    </tr>\n",
              "    <tr>\n",
              "      <th>5</th>\n",
              "      <td>essay04</td>\n",
              "      <td>Take Thailand for example, in the Vietnam War,...</td>\n",
              "      <td>International tourism is now more common than ...</td>\n",
              "      <td>Argument</td>\n",
              "      <td>Premise</td>\n",
              "      <td>Argument</td>\n",
              "      <td>Claim</td>\n",
              "    </tr>\n",
              "    <tr>\n",
              "      <th>7</th>\n",
              "      <td>essay30</td>\n",
              "      <td>Furthermore, this will encourage all the paren...</td>\n",
              "      <td>Government And Education</td>\n",
              "      <td>Argument</td>\n",
              "      <td>Claim</td>\n",
              "      <td>Argument</td>\n",
              "      <td>Claim</td>\n",
              "    </tr>\n",
              "    <tr>\n",
              "      <th>...</th>\n",
              "      <td>...</td>\n",
              "      <td>...</td>\n",
              "      <td>...</td>\n",
              "      <td>...</td>\n",
              "      <td>...</td>\n",
              "      <td>...</td>\n",
              "      <td>...</td>\n",
              "    </tr>\n",
              "    <tr>\n",
              "      <th>1668</th>\n",
              "      <td>essay60</td>\n",
              "      <td>A break gives students more benefits than harms.</td>\n",
              "      <td>is a break good or bad after high school for s...</td>\n",
              "      <td>Argument</td>\n",
              "      <td>Claim</td>\n",
              "      <td>Argument</td>\n",
              "      <td>Claim</td>\n",
              "    </tr>\n",
              "    <tr>\n",
              "      <th>1669</th>\n",
              "      <td>essay73</td>\n",
              "      <td>Nevertheless, the importance of written word c...</td>\n",
              "      <td>Is image more powerful than the written word?</td>\n",
              "      <td>Argument</td>\n",
              "      <td>Premise</td>\n",
              "      <td>Argument</td>\n",
              "      <td>Claim</td>\n",
              "    </tr>\n",
              "    <tr>\n",
              "      <th>1670</th>\n",
              "      <td>essay77</td>\n",
              "      <td>In order to protect animals, from my perspecti...</td>\n",
              "      <td>zoos should be banned</td>\n",
              "      <td>Argument</td>\n",
              "      <td>Claim</td>\n",
              "      <td>Argument</td>\n",
              "      <td>Claim</td>\n",
              "    </tr>\n",
              "    <tr>\n",
              "      <th>1671</th>\n",
              "      <td>essay75</td>\n",
              "      <td>This is simply because knowledge and wisdom is...</td>\n",
              "      <td>Do arts and music improve the quality of life?</td>\n",
              "      <td>Argument</td>\n",
              "      <td>Premise</td>\n",
              "      <td>Argument</td>\n",
              "      <td>Claim</td>\n",
              "    </tr>\n",
              "    <tr>\n",
              "      <th>1672</th>\n",
              "      <td>essay84</td>\n",
              "      <td>This is because the money instead of being use...</td>\n",
              "      <td>Giving mobile phones to the unemployed</td>\n",
              "      <td>Argument</td>\n",
              "      <td>Premise</td>\n",
              "      <td>Argument</td>\n",
              "      <td>Claim</td>\n",
              "    </tr>\n",
              "  </tbody>\n",
              "</table>\n",
              "<p>909 rows × 7 columns</p>\n",
              "</div>"
            ],
            "text/plain": [
              "        essay  ... preds1\n",
              "1     essay18  ...  Claim\n",
              "3     essay09  ...  Claim\n",
              "4     essay39  ...  Claim\n",
              "5     essay04  ...  Claim\n",
              "7     essay30  ...  Claim\n",
              "...       ...  ...    ...\n",
              "1668  essay60  ...  Claim\n",
              "1669  essay73  ...  Claim\n",
              "1670  essay77  ...  Claim\n",
              "1671  essay75  ...  Claim\n",
              "1672  essay84  ...  Claim\n",
              "\n",
              "[909 rows x 7 columns]"
            ]
          },
          "metadata": {},
          "execution_count": 51
        }
      ]
    },
    {
      "cell_type": "code",
      "metadata": {
        "colab": {
          "base_uri": "https://localhost:8080/"
        },
        "id": "6gdzHbv63Rty",
        "outputId": "507e2ab3-2a43-4bcd-d997-4ed504f2760a"
      },
      "source": [
        "comb.loc[5]"
      ],
      "execution_count": null,
      "outputs": [
        {
          "output_type": "execute_result",
          "data": {
            "text/plain": [
              "essay                                                 essay04\n",
              "sentence    Take Thailand for example, in the Vietnam War,...\n",
              "topic       International tourism is now more common than ...\n",
              "label0                                               Argument\n",
              "label1                                                Premise\n",
              "preds0                                               Argument\n",
              "preds1                                                  Claim\n",
              "Name: 5, dtype: object"
            ]
          },
          "metadata": {},
          "execution_count": 57
        }
      ]
    },
    {
      "cell_type": "code",
      "metadata": {
        "colab": {
          "base_uri": "https://localhost:8080/",
          "height": 55
        },
        "id": "4gEyjz1-3db6",
        "outputId": "bd35eca8-67cc-43fe-da1b-986a19fb558a"
      },
      "source": [
        "comb.loc[5].sentence"
      ],
      "execution_count": null,
      "outputs": [
        {
          "output_type": "execute_result",
          "data": {
            "application/vnd.google.colaboratory.intrinsic+json": {
              "type": "string"
            },
            "text/plain": [
              "'Take Thailand for example, in the Vietnam War, many American soldiers came to Thailand for a break and involved in sexual and drug activities, these huge demands caused many local businesses opened and expanded, even illegally involved in under-age prostitutes to maximise their profits.'"
            ]
          },
          "metadata": {},
          "execution_count": 54
        }
      ]
    },
    {
      "cell_type": "code",
      "metadata": {
        "id": "Xdm8D5LQ4peF",
        "colab": {
          "base_uri": "https://localhost:8080/"
        },
        "outputId": "6847e8ac-7984-4de6-edf8-bbdbb3a842be"
      },
      "source": [
        "comb.loc[1669]"
      ],
      "execution_count": null,
      "outputs": [
        {
          "output_type": "execute_result",
          "data": {
            "text/plain": [
              "essay                                                 essay73\n",
              "sentence    Nevertheless, the importance of written word c...\n",
              "topic           Is image more powerful than the written word?\n",
              "label0                                               Argument\n",
              "label1                                                Premise\n",
              "preds0                                               Argument\n",
              "preds1                                                  Claim\n",
              "Name: 1669, dtype: object"
            ]
          },
          "metadata": {},
          "execution_count": 59
        }
      ]
    },
    {
      "cell_type": "code",
      "metadata": {
        "colab": {
          "base_uri": "https://localhost:8080/",
          "height": 36
        },
        "id": "i6wcJNYD3uW6",
        "outputId": "1cb9550c-a3e8-4b9a-c794-08e5bf6518cb"
      },
      "source": [
        "comb.loc[1669].sentence"
      ],
      "execution_count": null,
      "outputs": [
        {
          "output_type": "execute_result",
          "data": {
            "application/vnd.google.colaboratory.intrinsic+json": {
              "type": "string"
            },
            "text/plain": [
              "'Nevertheless, the importance of written word can never be denied as it is also another way of communication that is commonly used.'"
            ]
          },
          "metadata": {},
          "execution_count": 58
        }
      ]
    },
    {
      "cell_type": "code",
      "metadata": {
        "id": "cJkDx7_f4koa"
      },
      "source": [
        ""
      ],
      "execution_count": null,
      "outputs": []
    }
  ]
}