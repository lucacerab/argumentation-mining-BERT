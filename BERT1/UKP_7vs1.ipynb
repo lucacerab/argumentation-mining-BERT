{
  "nbformat": 4,
  "nbformat_minor": 0,
  "metadata": {
    "colab": {
      "name": "UKP_7vs1.ipynb",
      "provenance": [],
      "collapsed_sections": [],
      "include_colab_link": true
    },
    "kernelspec": {
      "name": "python3",
      "display_name": "Python 3"
    },
    "language_info": {
      "name": "python"
    },
    "accelerator": "GPU"
  },
  "cells": [
    {
      "cell_type": "markdown",
      "metadata": {
        "id": "view-in-github",
        "colab_type": "text"
      },
      "source": [
        "<a href=\"https://colab.research.google.com/github/lucacerab/DSEthesis-transformers/blob/main/BERT1/UKP_7vs1.ipynb\" target=\"_parent\"><img src=\"https://colab.research.google.com/assets/colab-badge.svg\" alt=\"Open In Colab\"/></a>"
      ]
    },
    {
      "cell_type": "markdown",
      "metadata": {
        "id": "ymxE0GXT9nY_"
      },
      "source": [
        "# BERT UKP Sentential Argument Mining Corpus 7vs1 evaluation\n",
        "\n",
        "Train on 7 topics test on the 8th for all the eight topics in the UKP dataset"
      ]
    },
    {
      "cell_type": "code",
      "metadata": {
        "colab": {
          "base_uri": "https://localhost:8080/"
        },
        "id": "HNQmL-8Qgl_H",
        "outputId": "767f4f91-eec1-462e-f163-19cdcb65bbc7"
      },
      "source": [
        "from google.colab import drive\n",
        "drive.mount('/content/drive/')"
      ],
      "execution_count": null,
      "outputs": [
        {
          "output_type": "stream",
          "text": [
            "Mounted at /content/drive/\n"
          ],
          "name": "stdout"
        }
      ]
    },
    {
      "cell_type": "code",
      "metadata": {
        "id": "sVAxzLL4Ikdj"
      },
      "source": [
        "%%capture\n",
        "!pip install transformers\n",
        "from transformers import BertTokenizer\n",
        "from transformers import TFAutoModel\n",
        "import pandas as pd\n",
        "import numpy as np\n",
        "import tensorflow as tf\n",
        "from tensorflow.keras.optimizers import Adam\n",
        "from tensorflow.keras.layers import Dense, Input, Dropout\n",
        "from tensorflow.keras.models import Model\n",
        "import matplotlib.pyplot as plt\n",
        "from sklearn.metrics import f1_score\n",
        "from sklearn.metrics import recall_score, precision_score, f1_score, classification_report\n",
        "from sklearn.utils.multiclass import unique_labels"
      ],
      "execution_count": null,
      "outputs": []
    },
    {
      "cell_type": "code",
      "metadata": {
        "id": "Izvl4G1TIqFv"
      },
      "source": [
        "train_df = pd.read_csv('/content/trainwithtopic.csv')\n",
        "val_df = pd.read_csv('/content/valwithtopic.csv')\n",
        "test_df = pd.read_csv('/content/testwithtopic.csv')"
      ],
      "execution_count": null,
      "outputs": []
    },
    {
      "cell_type": "code",
      "metadata": {
        "colab": {
          "base_uri": "https://localhost:8080/"
        },
        "id": "Icp3TF4iI1zm",
        "outputId": "e328e845-48cb-4f02-9f34-a1bd85456624"
      },
      "source": [
        "print('train shape:', train_df.shape)\n",
        "print('val shape:', val_df.shape)\n",
        "print('test shape:', test_df.shape)"
      ],
      "execution_count": null,
      "outputs": [
        {
          "output_type": "stream",
          "text": [
            "train shape: (18341, 3)\n",
            "val shape: (2042, 3)\n",
            "test shape: (5109, 3)\n"
          ],
          "name": "stdout"
        }
      ]
    },
    {
      "cell_type": "code",
      "metadata": {
        "colab": {
          "base_uri": "https://localhost:8080/",
          "height": 206
        },
        "id": "PgmJdjPap41E",
        "outputId": "17733ad0-a7e9-405a-f645-398781f8642c"
      },
      "source": [
        "train_df.head()"
      ],
      "execution_count": null,
      "outputs": [
        {
          "output_type": "execute_result",
          "data": {
            "text/html": [
              "<div>\n",
              "<style scoped>\n",
              "    .dataframe tbody tr th:only-of-type {\n",
              "        vertical-align: middle;\n",
              "    }\n",
              "\n",
              "    .dataframe tbody tr th {\n",
              "        vertical-align: top;\n",
              "    }\n",
              "\n",
              "    .dataframe thead th {\n",
              "        text-align: right;\n",
              "    }\n",
              "</style>\n",
              "<table border=\"1\" class=\"dataframe\">\n",
              "  <thead>\n",
              "    <tr style=\"text-align: right;\">\n",
              "      <th></th>\n",
              "      <th>topic</th>\n",
              "      <th>sentence</th>\n",
              "      <th>label</th>\n",
              "    </tr>\n",
              "  </thead>\n",
              "  <tbody>\n",
              "    <tr>\n",
              "      <th>0</th>\n",
              "      <td>death penalty</td>\n",
              "      <td>Opponents of retribution theory believe in the...</td>\n",
              "      <td>2</td>\n",
              "    </tr>\n",
              "    <tr>\n",
              "      <th>1</th>\n",
              "      <td>death penalty</td>\n",
              "      <td>In 1976 , the Supreme Court moved away from ab...</td>\n",
              "      <td>1</td>\n",
              "    </tr>\n",
              "    <tr>\n",
              "      <th>2</th>\n",
              "      <td>death penalty</td>\n",
              "      <td>ProCon.org has more than 20,000,000 annual rea...</td>\n",
              "      <td>0</td>\n",
              "    </tr>\n",
              "    <tr>\n",
              "      <th>3</th>\n",
              "      <td>death penalty</td>\n",
              "      <td>Therefore , whatever legitimacy is to be found...</td>\n",
              "      <td>2</td>\n",
              "    </tr>\n",
              "    <tr>\n",
              "      <th>4</th>\n",
              "      <td>death penalty</td>\n",
              "      <td>TW was in fact convicted of 1st degree murder ...</td>\n",
              "      <td>0</td>\n",
              "    </tr>\n",
              "  </tbody>\n",
              "</table>\n",
              "</div>"
            ],
            "text/plain": [
              "           topic                                           sentence  label\n",
              "0  death penalty  Opponents of retribution theory believe in the...      2\n",
              "1  death penalty  In 1976 , the Supreme Court moved away from ab...      1\n",
              "2  death penalty  ProCon.org has more than 20,000,000 annual rea...      0\n",
              "3  death penalty  Therefore , whatever legitimacy is to be found...      2\n",
              "4  death penalty  TW was in fact convicted of 1st degree murder ...      0"
            ]
          },
          "metadata": {
            "tags": []
          },
          "execution_count": 283
        }
      ]
    },
    {
      "cell_type": "code",
      "metadata": {
        "id": "kGkOM39appBK"
      },
      "source": [
        "#shuffle data\n",
        "train_df = train_df.sample(frac=1).reset_index(drop=True)\n",
        "val_df = val_df.sample(frac=1).reset_index(drop=True)\n",
        "test_df = test_df.sample(frac=1).reset_index(drop=True)"
      ],
      "execution_count": null,
      "outputs": []
    },
    {
      "cell_type": "code",
      "metadata": {
        "colab": {
          "base_uri": "https://localhost:8080/",
          "height": 206
        },
        "id": "J3ce88vQLaJz",
        "outputId": "3b497f67-b650-46db-bdff-01efc1d404ad"
      },
      "source": [
        "train_df.head()"
      ],
      "execution_count": null,
      "outputs": [
        {
          "output_type": "execute_result",
          "data": {
            "text/html": [
              "<div>\n",
              "<style scoped>\n",
              "    .dataframe tbody tr th:only-of-type {\n",
              "        vertical-align: middle;\n",
              "    }\n",
              "\n",
              "    .dataframe tbody tr th {\n",
              "        vertical-align: top;\n",
              "    }\n",
              "\n",
              "    .dataframe thead th {\n",
              "        text-align: right;\n",
              "    }\n",
              "</style>\n",
              "<table border=\"1\" class=\"dataframe\">\n",
              "  <thead>\n",
              "    <tr style=\"text-align: right;\">\n",
              "      <th></th>\n",
              "      <th>topic</th>\n",
              "      <th>sentence</th>\n",
              "      <th>label</th>\n",
              "    </tr>\n",
              "  </thead>\n",
              "  <tbody>\n",
              "    <tr>\n",
              "      <th>0</th>\n",
              "      <td>death penalty</td>\n",
              "      <td>One of the last ones occurred in 1936 in Kentu...</td>\n",
              "      <td>0</td>\n",
              "    </tr>\n",
              "    <tr>\n",
              "      <th>1</th>\n",
              "      <td>abortion</td>\n",
              "      <td>I personally feel very strongly about drunk dr...</td>\n",
              "      <td>0</td>\n",
              "    </tr>\n",
              "    <tr>\n",
              "      <th>2</th>\n",
              "      <td>minimum wage</td>\n",
              "      <td>It is therefore better to let the market take ...</td>\n",
              "      <td>2</td>\n",
              "    </tr>\n",
              "    <tr>\n",
              "      <th>3</th>\n",
              "      <td>nuclear energy</td>\n",
              "      <td>I still suspect that there is a range of stres...</td>\n",
              "      <td>0</td>\n",
              "    </tr>\n",
              "    <tr>\n",
              "      <th>4</th>\n",
              "      <td>marijuana legalization</td>\n",
              "      <td>Stewart , who is 72 years old , gave an interv...</td>\n",
              "      <td>0</td>\n",
              "    </tr>\n",
              "  </tbody>\n",
              "</table>\n",
              "</div>"
            ],
            "text/plain": [
              "                    topic  ... label\n",
              "0           death penalty  ...     0\n",
              "1                abortion  ...     0\n",
              "2            minimum wage  ...     2\n",
              "3          nuclear energy  ...     0\n",
              "4  marijuana legalization  ...     0\n",
              "\n",
              "[5 rows x 3 columns]"
            ]
          },
          "metadata": {
            "tags": []
          },
          "execution_count": 5
        }
      ]
    },
    {
      "cell_type": "code",
      "metadata": {
        "colab": {
          "base_uri": "https://localhost:8080/"
        },
        "id": "XK_Pn62fbgu3",
        "outputId": "5311126b-c377-41b0-c459-671808c70ca7"
      },
      "source": [
        "print('train labels:', train_df.label.nunique())\n",
        "print('val labels:', val_df.label.nunique())\n",
        "print('test labels:', test_df.label.nunique())\n",
        "print()\n",
        "print('labels:', train_df.label.unique())"
      ],
      "execution_count": null,
      "outputs": [
        {
          "output_type": "stream",
          "text": [
            "train labels: 3\n",
            "val labels: 3\n",
            "test labels: 3\n",
            "\n",
            "labels: [0 2 1]\n"
          ],
          "name": "stdout"
        }
      ]
    },
    {
      "cell_type": "code",
      "metadata": {
        "colab": {
          "base_uri": "https://localhost:8080/"
        },
        "id": "vcd9Q65Abl7u",
        "outputId": "31feeb90-237a-44e4-b8fb-cf6d8924ca89"
      },
      "source": [
        "train_df.label.value_counts()"
      ],
      "execution_count": null,
      "outputs": [
        {
          "output_type": "execute_result",
          "data": {
            "text/plain": [
              "0    10350\n",
              "2     4447\n",
              "1     3544\n",
              "Name: label, dtype: int64"
            ]
          },
          "metadata": {
            "tags": []
          },
          "execution_count": 7
        }
      ]
    },
    {
      "cell_type": "code",
      "metadata": {
        "id": "f_1XGlvra97B"
      },
      "source": [
        "#adapt dataset to binary classification: Arg_for (1) & Arg_against (2) = Argument (1)\n",
        "train_df.loc[train_df['label'] == 2, 'label'] = 1\n",
        "val_df.loc[val_df['label'] == 2, 'label'] = 1\n",
        "test_df.loc[test_df['label'] == 2, 'label'] = 1"
      ],
      "execution_count": null,
      "outputs": []
    },
    {
      "cell_type": "code",
      "metadata": {
        "colab": {
          "base_uri": "https://localhost:8080/"
        },
        "id": "B6389aDgbYCs",
        "outputId": "26af2aa3-9ee5-47bb-f9a8-66a025cee730"
      },
      "source": [
        "print('train labels:', train_df.label.nunique())\n",
        "print('val labels:', val_df.label.nunique())\n",
        "print('test labels:', test_df.label.nunique())\n",
        "print()\n",
        "print('labels:', train_df.label.unique())"
      ],
      "execution_count": null,
      "outputs": [
        {
          "output_type": "stream",
          "text": [
            "train labels: 2\n",
            "val labels: 2\n",
            "test labels: 2\n",
            "\n",
            "labels: [0 1]\n"
          ],
          "name": "stdout"
        }
      ]
    },
    {
      "cell_type": "code",
      "metadata": {
        "colab": {
          "base_uri": "https://localhost:8080/"
        },
        "id": "lPRWSOVcLrc5",
        "outputId": "4e66af27-b1a1-4c51-d5bc-a1343d12f174"
      },
      "source": [
        "train_df.label.value_counts()"
      ],
      "execution_count": null,
      "outputs": [
        {
          "output_type": "execute_result",
          "data": {
            "text/plain": [
              "0    10350\n",
              "1     7991\n",
              "Name: label, dtype: int64"
            ]
          },
          "metadata": {
            "tags": []
          },
          "execution_count": 10
        }
      ]
    },
    {
      "cell_type": "code",
      "metadata": {
        "colab": {
          "base_uri": "https://localhost:8080/"
        },
        "id": "pJfdSP6PI6YZ",
        "outputId": "8948ce68-303f-45da-80cd-4a55281e5780"
      },
      "source": [
        "print(train_df.isna().sum())\n",
        "print()\n",
        "print(val_df.isna().sum())\n",
        "print()\n",
        "print(test_df.isna().sum())"
      ],
      "execution_count": null,
      "outputs": [
        {
          "output_type": "stream",
          "text": [
            "topic       0\n",
            "sentence    0\n",
            "label       0\n",
            "dtype: int64\n",
            "\n",
            "topic       0\n",
            "sentence    0\n",
            "label       0\n",
            "dtype: int64\n",
            "\n",
            "topic       0\n",
            "sentence    0\n",
            "label       0\n",
            "dtype: int64\n"
          ],
          "name": "stdout"
        }
      ]
    },
    {
      "cell_type": "code",
      "metadata": {
        "colab": {
          "base_uri": "https://localhost:8080/"
        },
        "id": "v8taC_4nfzzM",
        "outputId": "e16be307-4a02-4539-fe89-6fb4bb21cf64"
      },
      "source": [
        "print(train_df.topic.nunique(), 'topics:', train_df.topic.unique())"
      ],
      "execution_count": null,
      "outputs": [
        {
          "output_type": "stream",
          "text": [
            "8 topics: ['death penalty' 'abortion' 'minimum wage' 'nuclear energy'\n",
            " 'marijuana legalization' 'gun control' 'school uniforms' 'cloning']\n"
          ],
          "name": "stdout"
        }
      ]
    },
    {
      "cell_type": "markdown",
      "metadata": {
        "id": "n9qRcX2V8Wm7"
      },
      "source": [
        "## Select test topic"
      ]
    },
    {
      "cell_type": "code",
      "metadata": {
        "id": "SDBmCiE58ljl"
      },
      "source": [
        "topic = 'nuclear energy'"
      ],
      "execution_count": null,
      "outputs": []
    },
    {
      "cell_type": "code",
      "metadata": {
        "id": "_3IFxVtl8f3F"
      },
      "source": [
        "train_df = train_df[train_df['topic'] != topic].reset_index()\n",
        "val_df = val_df[val_df['topic'] != topic].reset_index()\n",
        "test_df = test_df[test_df['topic'] == topic].reset_index()"
      ],
      "execution_count": null,
      "outputs": []
    },
    {
      "cell_type": "markdown",
      "metadata": {
        "id": "dS0djq05LvBA"
      },
      "source": [
        "## Prepare data for BERT"
      ]
    },
    {
      "cell_type": "code",
      "metadata": {
        "id": "XWCkux-_g8ff"
      },
      "source": [
        "tokenizer = BertTokenizer.from_pretrained(\"bert-base-cased\")"
      ],
      "execution_count": null,
      "outputs": []
    },
    {
      "cell_type": "code",
      "metadata": {
        "id": "tZsIXGcHeaaa"
      },
      "source": [
        "#length of sentences\n",
        "max_len = 64\n",
        "def bert_encode(df, max_len):\n",
        "  num_samples = len(df)\n",
        "\n",
        "  X_ids = np.zeros((num_samples, max_len))\n",
        "  X_mask = np.zeros((num_samples, max_len))\n",
        "  X_type_ids = np.zeros((num_samples, max_len))\n",
        "  \n",
        "\n",
        "  for i, row in df.iterrows():\n",
        "      encoded = tokenizer.encode_plus(row['topic'], row['sentence'], max_length=max_len,\n",
        "                                      truncation=True, padding='max_length', add_special_tokens=True)    \n",
        "      X_ids[i, :] = encoded['input_ids']\n",
        "      X_mask[i, :] = encoded['attention_mask'] \n",
        "      X_type_ids[i, :] = encoded['token_type_ids'] \n",
        "  return X_ids, X_mask, X_type_ids"
      ],
      "execution_count": null,
      "outputs": []
    },
    {
      "cell_type": "code",
      "metadata": {
        "id": "wvLbgVhxdQEM"
      },
      "source": [
        "train_input_ids, train_attention_masks, train_token_type_ids = bert_encode(train_df, max_len)\n",
        "val_input_ids, val_attention_masks, val_token_type_ids = bert_encode(val_df, max_len)\n",
        "test_input_ids, test_attention_masks, test_token_type_ids = bert_encode(test_df, max_len)"
      ],
      "execution_count": null,
      "outputs": []
    },
    {
      "cell_type": "code",
      "metadata": {
        "colab": {
          "base_uri": "https://localhost:8080/"
        },
        "id": "fifYu7X5hX9e",
        "outputId": "3cf916b5-6897-4b6d-d59c-44a3b91fbac0"
      },
      "source": [
        "train_token_type_ids[0]"
      ],
      "execution_count": null,
      "outputs": [
        {
          "output_type": "execute_result",
          "data": {
            "text/plain": [
              "array([0., 0., 0., 0., 1., 1., 1., 1., 1., 1., 1., 1., 1., 1., 1., 1., 1.,\n",
              "       1., 1., 1., 1., 1., 1., 1., 1., 1., 1., 1., 1., 1., 1., 1., 1., 0.,\n",
              "       0., 0., 0., 0., 0., 0., 0., 0., 0., 0., 0., 0., 0., 0., 0., 0., 0.,\n",
              "       0., 0., 0., 0., 0., 0., 0., 0., 0., 0., 0., 0., 0.])"
            ]
          },
          "metadata": {
            "tags": []
          },
          "execution_count": 22
        }
      ]
    },
    {
      "cell_type": "code",
      "metadata": {
        "colab": {
          "base_uri": "https://localhost:8080/"
        },
        "id": "Va-R8oiudncl",
        "outputId": "2d0abca6-52ee-4c72-e83f-08486fba5ff3"
      },
      "source": [
        "ex = train_input_ids[0]\n",
        "ex"
      ],
      "execution_count": null,
      "outputs": [
        {
          "output_type": "execute_result",
          "data": {
            "text/plain": [
              "array([ 101., 1473., 6180.,  102., 1448., 1104., 1103., 1314., 3200.,\n",
              "       3296., 1107., 3419., 1107., 4875.,  117., 1165., 1406.,  117.,\n",
              "       1288., 1234., 5260., 1106., 2824., 1103., 5205., 1104.,  170.,\n",
              "       1685., 2170., 1237., 2581.,  119.,  102.,    0.,    0.,    0.,\n",
              "          0.,    0.,    0.,    0.,    0.,    0.,    0.,    0.,    0.,\n",
              "          0.,    0.,    0.,    0.,    0.,    0.,    0.,    0.,    0.,\n",
              "          0.,    0.,    0.,    0.,    0.,    0.,    0.,    0.,    0.,\n",
              "          0.])"
            ]
          },
          "metadata": {
            "tags": []
          },
          "execution_count": 23
        }
      ]
    },
    {
      "cell_type": "code",
      "metadata": {
        "colab": {
          "base_uri": "https://localhost:8080/",
          "height": 54
        },
        "id": "zIoHBDLjdqXG",
        "outputId": "75b03270-8bfa-466d-9340-61460c2ce6c5"
      },
      "source": [
        "tokenizer.decode(ex)"
      ],
      "execution_count": null,
      "outputs": [
        {
          "output_type": "execute_result",
          "data": {
            "application/vnd.google.colaboratory.intrinsic+json": {
              "type": "string"
            },
            "text/plain": [
              "'[CLS] death penalty [SEP] One of the last ones occurred in 1936 in Kentucky, when 20, 000 people gathered to watch the hanging of a young African American male. [SEP] [PAD] [PAD] [PAD] [PAD] [PAD] [PAD] [PAD] [PAD] [PAD] [PAD] [PAD] [PAD] [PAD] [PAD] [PAD] [PAD] [PAD] [PAD] [PAD] [PAD] [PAD] [PAD] [PAD] [PAD] [PAD] [PAD] [PAD] [PAD] [PAD] [PAD] [PAD]'"
            ]
          },
          "metadata": {
            "tags": []
          },
          "execution_count": 24
        }
      ]
    },
    {
      "cell_type": "code",
      "metadata": {
        "colab": {
          "base_uri": "https://localhost:8080/"
        },
        "id": "cO97pCXSdt44",
        "outputId": "2d5ebc68-924a-4c2b-ab92-bdf64edc058b"
      },
      "source": [
        "print('topic:', train_df.topic[0])\n",
        "print('sentence:', train_df.sentence[0])"
      ],
      "execution_count": null,
      "outputs": [
        {
          "output_type": "stream",
          "text": [
            "topic: death penalty\n",
            "sentence: One of the last ones occurred in 1936 in Kentucky , when 20,000 people gathered to watch the hanging of a young African American male .\n"
          ],
          "name": "stdout"
        }
      ]
    },
    {
      "cell_type": "code",
      "metadata": {
        "id": "aCHIBNyMn2zF"
      },
      "source": [
        "train_labels = train_df.label.values\n",
        "val_labels = val_df.label.values\n",
        "test_labels = test_df.label.values"
      ],
      "execution_count": null,
      "outputs": []
    },
    {
      "cell_type": "markdown",
      "metadata": {
        "id": "-hzIbFIKZpB9"
      },
      "source": [
        "## Train the model"
      ]
    },
    {
      "cell_type": "code",
      "metadata": {
        "colab": {
          "base_uri": "https://localhost:8080/"
        },
        "id": "X_I2GWLPZqXV",
        "outputId": "0e28426d-8acb-4922-ea03-3871f81d5f45"
      },
      "source": [
        "bert = TFAutoModel.from_pretrained('bert-base-cased')\n",
        "bert.summary()"
      ],
      "execution_count": null,
      "outputs": [
        {
          "output_type": "stream",
          "text": [
            "Some layers from the model checkpoint at bert-base-cased were not used when initializing TFBertModel: ['mlm___cls', 'nsp___cls']\n",
            "- This IS expected if you are initializing TFBertModel from the checkpoint of a model trained on another task or with another architecture (e.g. initializing a BertForSequenceClassification model from a BertForPreTraining model).\n",
            "- This IS NOT expected if you are initializing TFBertModel from the checkpoint of a model that you expect to be exactly identical (initializing a BertForSequenceClassification model from a BertForSequenceClassification model).\n",
            "All the layers of TFBertModel were initialized from the model checkpoint at bert-base-cased.\n",
            "If your task is similar to the task the model of the checkpoint was trained on, you can already use TFBertModel for predictions without further training.\n"
          ],
          "name": "stderr"
        },
        {
          "output_type": "stream",
          "text": [
            "Model: \"tf_bert_model\"\n",
            "_________________________________________________________________\n",
            "Layer (type)                 Output Shape              Param #   \n",
            "=================================================================\n",
            "bert (TFBertMainLayer)       multiple                  108310272 \n",
            "=================================================================\n",
            "Total params: 108,310,272\n",
            "Trainable params: 108,310,272\n",
            "Non-trainable params: 0\n",
            "_________________________________________________________________\n"
          ],
          "name": "stdout"
        }
      ]
    },
    {
      "cell_type": "code",
      "metadata": {
        "id": "05hYsZdIU-h8"
      },
      "source": [
        "#define hyperparams\n",
        "drop = 0.6\n",
        "\n",
        "optimizer = Adam(learning_rate=2e-5)\n",
        "loss = 'binary_crossentropy'\n",
        "met = 'accuracy'\n",
        "\n",
        "#freeze bert weigths\n",
        "trainable = True"
      ],
      "execution_count": null,
      "outputs": []
    },
    {
      "cell_type": "code",
      "metadata": {
        "id": "l7YjVaEQiBH6"
      },
      "source": [
        "def create_model(bert):\n",
        "  input_ids = Input(shape=(max_len,), name=\"input_word_ids\", dtype='int32')\n",
        "  attention_masks = Input(shape=(max_len,), name=\"input_mask\", dtype='int32')\n",
        "  type_ids = Input(shape=(max_len,), name=\"segment_ids\", dtype='int32')\n",
        "\n",
        "  embeddings = bert.bert([input_ids, attention_masks, type_ids])[1]\n",
        "\n",
        "  x = Dense(512, activation='relu')(embeddings)\n",
        "  dropout = Dropout(drop, name='dropout')(x)\n",
        "  output = Dense(1, activation='sigmoid', name='outputs')(dropout)\n",
        "  \n",
        "  model = Model(inputs = [input_ids, attention_masks, type_ids], outputs = output)\n",
        "\n",
        "  model.layers[3].trainable = trainable\n",
        "\n",
        "  model.compile(optimizer=optimizer, loss=loss, metrics=['accuracy'])\n",
        "\n",
        "  return model"
      ],
      "execution_count": null,
      "outputs": []
    },
    {
      "cell_type": "code",
      "metadata": {
        "colab": {
          "base_uri": "https://localhost:8080/"
        },
        "id": "U84abYkVizNk",
        "outputId": "578214d2-fae9-49e1-ff78-073e0748ab22"
      },
      "source": [
        "model = create_model(bert)\n",
        "model.summary()"
      ],
      "execution_count": null,
      "outputs": [
        {
          "output_type": "stream",
          "text": [
            "WARNING:tensorflow:From /usr/local/lib/python3.7/dist-packages/tensorflow/python/ops/array_ops.py:5049: calling gather (from tensorflow.python.ops.array_ops) with validate_indices is deprecated and will be removed in a future version.\n",
            "Instructions for updating:\n",
            "The `validate_indices` argument has no effect. Indices are always validated on CPU and never validated on GPU.\n",
            "Model: \"model\"\n",
            "__________________________________________________________________________________________________\n",
            "Layer (type)                    Output Shape         Param #     Connected to                     \n",
            "==================================================================================================\n",
            "input_word_ids (InputLayer)     [(None, 64)]         0                                            \n",
            "__________________________________________________________________________________________________\n",
            "input_mask (InputLayer)         [(None, 64)]         0                                            \n",
            "__________________________________________________________________________________________________\n",
            "segment_ids (InputLayer)        [(None, 64)]         0                                            \n",
            "__________________________________________________________________________________________________\n",
            "bert (TFBertMainLayer)          TFBaseModelOutputWit 108310272   input_word_ids[0][0]             \n",
            "                                                                 input_mask[0][0]                 \n",
            "                                                                 segment_ids[0][0]                \n",
            "__________________________________________________________________________________________________\n",
            "dense (Dense)                   (None, 512)          393728      bert[0][1]                       \n",
            "__________________________________________________________________________________________________\n",
            "dropout (Dropout)               (None, 512)          0           dense[0][0]                      \n",
            "__________________________________________________________________________________________________\n",
            "outputs (Dense)                 (None, 1)            513         dropout[0][0]                    \n",
            "==================================================================================================\n",
            "Total params: 108,704,513\n",
            "Trainable params: 108,704,513\n",
            "Non-trainable params: 0\n",
            "__________________________________________________________________________________________________\n"
          ],
          "name": "stdout"
        }
      ]
    },
    {
      "cell_type": "code",
      "metadata": {
        "colab": {
          "base_uri": "https://localhost:8080/",
          "height": 533
        },
        "id": "2Mkq_I_wdTin",
        "outputId": "fc2ea748-35b7-4348-8fe3-510f5a491893"
      },
      "source": [
        "from keras.utils.vis_utils import plot_model\n",
        "\n",
        "plot_model(model, to_file='model_plot.png', show_shapes=True, show_layer_names=True)"
      ],
      "execution_count": null,
      "outputs": [
        {
          "output_type": "execute_result",
          "data": {
            "image/png": "[encoded data removed]",
            "text/plain": [
              "<IPython.core.display.Image object>"
            ]
          },
          "metadata": {
            "tags": []
          },
          "execution_count": 31
        }
      ]
    },
    {
      "cell_type": "code",
      "metadata": {
        "colab": {
          "base_uri": "https://localhost:8080/"
        },
        "id": "rx2sx8N4niHf",
        "outputId": "86592e80-3641-4747-9ea3-5b8d97c52a29"
      },
      "source": [
        "epochs = 3\n",
        "batch_size = 16\n",
        "\n",
        "history = model.fit([train_input_ids, train_attention_masks, train_token_type_ids], train_labels,\n",
        "                    validation_data=([val_input_ids, val_attention_masks, val_token_type_ids], val_labels),\n",
        "                    epochs=epochs, batch_size=batch_size)"
      ],
      "execution_count": null,
      "outputs": [
        {
          "output_type": "stream",
          "text": [
            "Epoch 1/3\n",
            "986/986 [==============================] - 240s 229ms/step - loss: 0.4665 - accuracy: 0.7757 - val_loss: 0.3697 - val_accuracy: 0.8337\n",
            "Epoch 2/3\n",
            "986/986 [==============================] - 231s 234ms/step - loss: 0.3022 - accuracy: 0.8730 - val_loss: 0.4100 - val_accuracy: 0.8235\n",
            "Epoch 3/3\n",
            "986/986 [==============================] - 232s 235ms/step - loss: 0.1640 - accuracy: 0.9365 - val_loss: 0.5948 - val_accuracy: 0.8041\n"
          ],
          "name": "stdout"
        }
      ]
    },
    {
      "cell_type": "code",
      "metadata": {
        "id": "QkC1onjHTrhl"
      },
      "source": [
        "result = model.predict([test_input_ids, test_attention_masks, test_token_type_ids])"
      ],
      "execution_count": null,
      "outputs": []
    },
    {
      "cell_type": "code",
      "metadata": {
        "id": "5OWdWZAFUDPP"
      },
      "source": [
        "result = np.round(result).astype(int)"
      ],
      "execution_count": null,
      "outputs": []
    },
    {
      "cell_type": "code",
      "metadata": {
        "colab": {
          "base_uri": "https://localhost:8080/",
          "height": 206
        },
        "id": "eCWWK1ovUSew",
        "outputId": "6fc4f95a-ef6d-429a-afd7-feab96e1ab4c"
      },
      "source": [
        "test_df['preds'] = result\n",
        "test_df.head()"
      ],
      "execution_count": null,
      "outputs": [
        {
          "output_type": "execute_result",
          "data": {
            "text/html": [
              "<div>\n",
              "<style scoped>\n",
              "    .dataframe tbody tr th:only-of-type {\n",
              "        vertical-align: middle;\n",
              "    }\n",
              "\n",
              "    .dataframe tbody tr th {\n",
              "        vertical-align: top;\n",
              "    }\n",
              "\n",
              "    .dataframe thead th {\n",
              "        text-align: right;\n",
              "    }\n",
              "</style>\n",
              "<table border=\"1\" class=\"dataframe\">\n",
              "  <thead>\n",
              "    <tr style=\"text-align: right;\">\n",
              "      <th></th>\n",
              "      <th>index</th>\n",
              "      <th>topic</th>\n",
              "      <th>sentence</th>\n",
              "      <th>label</th>\n",
              "      <th>preds</th>\n",
              "    </tr>\n",
              "  </thead>\n",
              "  <tbody>\n",
              "    <tr>\n",
              "      <th>0</th>\n",
              "      <td>11</td>\n",
              "      <td>nuclear energy</td>\n",
              "      <td>Low levels of radiation comparable to those re...</td>\n",
              "      <td>1</td>\n",
              "      <td>1</td>\n",
              "    </tr>\n",
              "    <tr>\n",
              "      <th>1</th>\n",
              "      <td>18</td>\n",
              "      <td>nuclear energy</td>\n",
              "      <td>The U.S. Nuclear Regulatory Commission ( USNRC...</td>\n",
              "      <td>0</td>\n",
              "      <td>0</td>\n",
              "    </tr>\n",
              "    <tr>\n",
              "      <th>2</th>\n",
              "      <td>23</td>\n",
              "      <td>nuclear energy</td>\n",
              "      <td>CANE was a member of the Coalition for a Nucle...</td>\n",
              "      <td>0</td>\n",
              "      <td>0</td>\n",
              "    </tr>\n",
              "    <tr>\n",
              "      <th>3</th>\n",
              "      <td>30</td>\n",
              "      <td>nuclear energy</td>\n",
              "      <td>If we reduced safety standards to those applie...</td>\n",
              "      <td>1</td>\n",
              "      <td>1</td>\n",
              "    </tr>\n",
              "    <tr>\n",
              "      <th>4</th>\n",
              "      <td>67</td>\n",
              "      <td>nuclear energy</td>\n",
              "      <td>Chances are you are wearing cotton fibers righ...</td>\n",
              "      <td>0</td>\n",
              "      <td>0</td>\n",
              "    </tr>\n",
              "  </tbody>\n",
              "</table>\n",
              "</div>"
            ],
            "text/plain": [
              "   index           topic  ... label  preds\n",
              "0     11  nuclear energy  ...     1      1\n",
              "1     18  nuclear energy  ...     0      0\n",
              "2     23  nuclear energy  ...     0      0\n",
              "3     30  nuclear energy  ...     1      1\n",
              "4     67  nuclear energy  ...     0      0\n",
              "\n",
              "[5 rows x 5 columns]"
            ]
          },
          "metadata": {
            "tags": []
          },
          "execution_count": 312
        }
      ]
    },
    {
      "cell_type": "markdown",
      "metadata": {
        "id": "9SfLULvwAgFV"
      },
      "source": [
        "## Evaluate performances"
      ]
    },
    {
      "cell_type": "code",
      "metadata": {
        "id": "Xfl1knH0Ul0U"
      },
      "source": [
        "#target_names = ['NoArg', 'Arg']\n",
        "#print(classification_report(test_df.label, test_df.preds, target_names=target_names))"
      ],
      "execution_count": null,
      "outputs": []
    },
    {
      "cell_type": "code",
      "metadata": {
        "id": "RwTeq0rTyZyG"
      },
      "source": [
        "# UKP eval function from https://github.com/UKPLab/acl2019-BERT-argument-classification-and-clustering/blob/master/argument-classification/ukp_evaluation.py\n",
        "\n",
        "def analyze_predictions(dataset):\n",
        "    total_sent = 0\n",
        "    correct_sent = 0\n",
        "    count = {}\n",
        "\n",
        "    y_true = []\n",
        "    y_pred = []\n",
        "\n",
        "    for i,r in dataset.iterrows():\n",
        "        gold = r['label']\n",
        "        pred = r['preds']\n",
        "\n",
        "        total_sent += 1\n",
        "        if gold == pred:\n",
        "            correct_sent += 1\n",
        "\n",
        "        if gold not in count:\n",
        "            count[gold] = {}\n",
        "\n",
        "        if pred not in count[gold]:\n",
        "            count[gold][pred] = 0\n",
        "\n",
        "        count[gold][pred] += 1\n",
        "\n",
        "        y_true.append(gold)\n",
        "        y_pred.append(pred)\n",
        "\n",
        "    print(\"gold - pred - Confusion Matrix\")\n",
        "    for gold_label in sorted(count.keys()):\n",
        "        for pred_label in sorted(count[gold_label].keys()):\n",
        "            print(\"%s - %s: %d\" % (gold_label, pred_label, count[gold_label][pred_label]))\n",
        "\n",
        "\n",
        "    print(\":: BERT ::\")\n",
        "    print(\"Acc: %.2f%%\" % (correct_sent/total_sent*100) )\n",
        "    labels = unique_labels(y_true, y_pred)\n",
        "    prec = precision_score(y_true, y_pred, average=None)\n",
        "    rec = recall_score(y_true, y_pred, average=None)\n",
        "    f1 = f1_score(y_true, y_pred, average=None)\n",
        "\n",
        "    arg_f1 = []\n",
        "    for idx, label in enumerate(labels):\n",
        "        print(\"\\n:: F1 for \", label, \" ::\")\n",
        "        print(\"Prec: %.2f%%\" % (prec[idx]*100))\n",
        "        print(\"Recall: %.2f%%\" % (rec[idx]*100))\n",
        "        print(\"F1: %.2f%%\" % (f1[idx]*100))\n",
        "\n",
        "        if label in labels:\n",
        "            if label != 'NoArgument':\n",
        "                arg_f1.append(f1[idx])\n",
        "\n",
        "\n",
        "    print(\"\\n:: Macro Weighted for all  ::\")\n",
        "    print(\"F1: %.2f%%\" % (np.mean(f1)*100))\n",
        "\n",
        "    prec_mapping = {key:value for key, value in zip(labels, prec)}\n",
        "    rec_mapping = {key:value for key, value in zip(labels, rec)}\n",
        "    return np.mean(f1), prec_mapping, rec_mapping"
      ],
      "execution_count": null,
      "outputs": []
    },
    {
      "cell_type": "code",
      "metadata": {
        "colab": {
          "base_uri": "https://localhost:8080/"
        },
        "id": "52EgEc6rz4at",
        "outputId": "fff20613-cb8e-4949-d5f5-d63e65954ed4"
      },
      "source": [
        "analyze_predictions(test_df)"
      ],
      "execution_count": null,
      "outputs": [
        {
          "output_type": "stream",
          "text": [
            "gold - pred - Confusion Matrix\n",
            "0 - 0: 231\n",
            "0 - 1: 22\n",
            "1 - 0: 71\n",
            "1 - 1: 173\n",
            ":: BERT ::\n",
            "Acc: 81.29%\n",
            "\n",
            ":: F1 for  0  ::\n",
            "Prec: 76.49%\n",
            "Recall: 91.30%\n",
            "F1: 83.24%\n",
            "\n",
            ":: F1 for  1  ::\n",
            "Prec: 88.72%\n",
            "Recall: 70.90%\n",
            "F1: 78.82%\n",
            "\n",
            ":: Macro Weighted for all  ::\n",
            "F1: 81.03%\n"
          ],
          "name": "stdout"
        },
        {
          "output_type": "execute_result",
          "data": {
            "text/plain": [
              "(0.8102936649633689,\n",
              " {0: 0.7649006622516556, 1: 0.8871794871794871},\n",
              " {0: 0.9130434782608695, 1: 0.7090163934426229})"
            ]
          },
          "metadata": {
            "tags": []
          },
          "execution_count": 280
        }
      ]
    },
    {
      "cell_type": "code",
      "metadata": {
        "id": "EteDzxt12cx-"
      },
      "source": [
        "test_df.to_csv('UKP_nuclearenergy', index=False)"
      ],
      "execution_count": null,
      "outputs": []
    },
    {
      "cell_type": "code",
      "metadata": {
        "id": "z9y1RCNh1pZ5"
      },
      "source": [
        ""
      ],
      "execution_count": null,
      "outputs": []
    }
  ]
}