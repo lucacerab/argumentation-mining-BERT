{
  "nbformat": 4,
  "nbformat_minor": 0,
  "metadata": {
    "accelerator": "GPU",
    "colab": {
      "name": "BERTopic_ECB_V1.ipynb",
      "provenance": [],
      "collapsed_sections": [],
      "include_colab_link": true
    },
    "kernelspec": {
      "display_name": "Python 3",
      "name": "python3"
    },
    "language_info": {
      "name": "python"
    },
    "widgets": {
      "application/vnd.jupyter.widget-state+json": {
        "7c58b57b743e444480df7e66ab4a40f0": {
          "model_module": "@jupyter-widgets/controls",
          "model_name": "HBoxModel",
          "model_module_version": "1.5.0",
          "state": {
            "_view_name": "HBoxView",
            "_dom_classes": [],
            "_model_name": "HBoxModel",
            "_view_module": "@jupyter-widgets/controls",
            "_model_module_version": "1.5.0",
            "_view_count": null,
            "_view_module_version": "1.5.0",
            "box_style": "",
            "layout": "IPY_MODEL_d200d13cac834bbe9e8fc9334a2437c6",
            "_model_module": "@jupyter-widgets/controls",
            "children": [
              "IPY_MODEL_adb05927154046fbb6718d15e660f2d7",
              "IPY_MODEL_1c24d554a8fd4943a7204f22a0a3e60e",
              "IPY_MODEL_240e411278f944f4a4f6b3c78a5a58f6"
            ]
          }
        },
        "d200d13cac834bbe9e8fc9334a2437c6": {
          "model_module": "@jupyter-widgets/base",
          "model_name": "LayoutModel",
          "model_module_version": "1.2.0",
          "state": {
            "_view_name": "LayoutView",
            "grid_template_rows": null,
            "right": null,
            "justify_content": null,
            "_view_module": "@jupyter-widgets/base",
            "overflow": null,
            "_model_module_version": "1.2.0",
            "_view_count": null,
            "flex_flow": null,
            "width": null,
            "min_width": null,
            "border": null,
            "align_items": null,
            "bottom": null,
            "_model_module": "@jupyter-widgets/base",
            "top": null,
            "grid_column": null,
            "overflow_y": null,
            "overflow_x": null,
            "grid_auto_flow": null,
            "grid_area": null,
            "grid_template_columns": null,
            "flex": null,
            "_model_name": "LayoutModel",
            "justify_items": null,
            "grid_row": null,
            "max_height": null,
            "align_content": null,
            "visibility": null,
            "align_self": null,
            "height": null,
            "min_height": null,
            "padding": null,
            "grid_auto_rows": null,
            "grid_gap": null,
            "max_width": null,
            "order": null,
            "_view_module_version": "1.2.0",
            "grid_template_areas": null,
            "object_position": null,
            "object_fit": null,
            "grid_auto_columns": null,
            "margin": null,
            "display": null,
            "left": null
          }
        },
        "adb05927154046fbb6718d15e660f2d7": {
          "model_module": "@jupyter-widgets/controls",
          "model_name": "HTMLModel",
          "model_module_version": "1.5.0",
          "state": {
            "_view_name": "HTMLView",
            "style": "IPY_MODEL_509ecd14a6294f538db51bf1c7cd5fe2",
            "_dom_classes": [],
            "description": "",
            "_model_name": "HTMLModel",
            "placeholder": "​",
            "_view_module": "@jupyter-widgets/controls",
            "_model_module_version": "1.5.0",
            "value": "Batches: 100%",
            "_view_count": null,
            "_view_module_version": "1.5.0",
            "description_tooltip": null,
            "_model_module": "@jupyter-widgets/controls",
            "layout": "IPY_MODEL_827eaf1e05ec48d4970d9076b67a3463"
          }
        },
        "1c24d554a8fd4943a7204f22a0a3e60e": {
          "model_module": "@jupyter-widgets/controls",
          "model_name": "FloatProgressModel",
          "model_module_version": "1.5.0",
          "state": {
            "_view_name": "ProgressView",
            "style": "IPY_MODEL_e4f7614604e84ca482954b99c573d90b",
            "_dom_classes": [],
            "description": "",
            "_model_name": "FloatProgressModel",
            "bar_style": "success",
            "max": 73,
            "_view_module": "@jupyter-widgets/controls",
            "_model_module_version": "1.5.0",
            "value": 73,
            "_view_count": null,
            "_view_module_version": "1.5.0",
            "orientation": "horizontal",
            "min": 0,
            "description_tooltip": null,
            "_model_module": "@jupyter-widgets/controls",
            "layout": "IPY_MODEL_9ab3bfeed33b46d0b60bdbdb84a9225a"
          }
        },
        "240e411278f944f4a4f6b3c78a5a58f6": {
          "model_module": "@jupyter-widgets/controls",
          "model_name": "HTMLModel",
          "model_module_version": "1.5.0",
          "state": {
            "_view_name": "HTMLView",
            "style": "IPY_MODEL_072cf6eaf3fc4b309dae715fe7350d65",
            "_dom_classes": [],
            "description": "",
            "_model_name": "HTMLModel",
            "placeholder": "​",
            "_view_module": "@jupyter-widgets/controls",
            "_model_module_version": "1.5.0",
            "value": " 73/73 [00:33&lt;00:00,  5.70it/s]",
            "_view_count": null,
            "_view_module_version": "1.5.0",
            "description_tooltip": null,
            "_model_module": "@jupyter-widgets/controls",
            "layout": "IPY_MODEL_142d0c84558d4ada9e756156f31804be"
          }
        },
        "509ecd14a6294f538db51bf1c7cd5fe2": {
          "model_module": "@jupyter-widgets/controls",
          "model_name": "DescriptionStyleModel",
          "model_module_version": "1.5.0",
          "state": {
            "_view_name": "StyleView",
            "_model_name": "DescriptionStyleModel",
            "description_width": "",
            "_view_module": "@jupyter-widgets/base",
            "_model_module_version": "1.5.0",
            "_view_count": null,
            "_view_module_version": "1.2.0",
            "_model_module": "@jupyter-widgets/controls"
          }
        },
        "827eaf1e05ec48d4970d9076b67a3463": {
          "model_module": "@jupyter-widgets/base",
          "model_name": "LayoutModel",
          "model_module_version": "1.2.0",
          "state": {
            "_view_name": "LayoutView",
            "grid_template_rows": null,
            "right": null,
            "justify_content": null,
            "_view_module": "@jupyter-widgets/base",
            "overflow": null,
            "_model_module_version": "1.2.0",
            "_view_count": null,
            "flex_flow": null,
            "width": null,
            "min_width": null,
            "border": null,
            "align_items": null,
            "bottom": null,
            "_model_module": "@jupyter-widgets/base",
            "top": null,
            "grid_column": null,
            "overflow_y": null,
            "overflow_x": null,
            "grid_auto_flow": null,
            "grid_area": null,
            "grid_template_columns": null,
            "flex": null,
            "_model_name": "LayoutModel",
            "justify_items": null,
            "grid_row": null,
            "max_height": null,
            "align_content": null,
            "visibility": null,
            "align_self": null,
            "height": null,
            "min_height": null,
            "padding": null,
            "grid_auto_rows": null,
            "grid_gap": null,
            "max_width": null,
            "order": null,
            "_view_module_version": "1.2.0",
            "grid_template_areas": null,
            "object_position": null,
            "object_fit": null,
            "grid_auto_columns": null,
            "margin": null,
            "display": null,
            "left": null
          }
        },
        "e4f7614604e84ca482954b99c573d90b": {
          "model_module": "@jupyter-widgets/controls",
          "model_name": "ProgressStyleModel",
          "model_module_version": "1.5.0",
          "state": {
            "_view_name": "StyleView",
            "_model_name": "ProgressStyleModel",
            "description_width": "",
            "_view_module": "@jupyter-widgets/base",
            "_model_module_version": "1.5.0",
            "_view_count": null,
            "_view_module_version": "1.2.0",
            "bar_color": null,
            "_model_module": "@jupyter-widgets/controls"
          }
        },
        "9ab3bfeed33b46d0b60bdbdb84a9225a": {
          "model_module": "@jupyter-widgets/base",
          "model_name": "LayoutModel",
          "model_module_version": "1.2.0",
          "state": {
            "_view_name": "LayoutView",
            "grid_template_rows": null,
            "right": null,
            "justify_content": null,
            "_view_module": "@jupyter-widgets/base",
            "overflow": null,
            "_model_module_version": "1.2.0",
            "_view_count": null,
            "flex_flow": null,
            "width": null,
            "min_width": null,
            "border": null,
            "align_items": null,
            "bottom": null,
            "_model_module": "@jupyter-widgets/base",
            "top": null,
            "grid_column": null,
            "overflow_y": null,
            "overflow_x": null,
            "grid_auto_flow": null,
            "grid_area": null,
            "grid_template_columns": null,
            "flex": null,
            "_model_name": "LayoutModel",
            "justify_items": null,
            "grid_row": null,
            "max_height": null,
            "align_content": null,
            "visibility": null,
            "align_self": null,
            "height": null,
            "min_height": null,
            "padding": null,
            "grid_auto_rows": null,
            "grid_gap": null,
            "max_width": null,
            "order": null,
            "_view_module_version": "1.2.0",
            "grid_template_areas": null,
            "object_position": null,
            "object_fit": null,
            "grid_auto_columns": null,
            "margin": null,
            "display": null,
            "left": null
          }
        },
        "072cf6eaf3fc4b309dae715fe7350d65": {
          "model_module": "@jupyter-widgets/controls",
          "model_name": "DescriptionStyleModel",
          "model_module_version": "1.5.0",
          "state": {
            "_view_name": "StyleView",
            "_model_name": "DescriptionStyleModel",
            "description_width": "",
            "_view_module": "@jupyter-widgets/base",
            "_model_module_version": "1.5.0",
            "_view_count": null,
            "_view_module_version": "1.2.0",
            "_model_module": "@jupyter-widgets/controls"
          }
        },
        "142d0c84558d4ada9e756156f31804be": {
          "model_module": "@jupyter-widgets/base",
          "model_name": "LayoutModel",
          "model_module_version": "1.2.0",
          "state": {
            "_view_name": "LayoutView",
            "grid_template_rows": null,
            "right": null,
            "justify_content": null,
            "_view_module": "@jupyter-widgets/base",
            "overflow": null,
            "_model_module_version": "1.2.0",
            "_view_count": null,
            "flex_flow": null,
            "width": null,
            "min_width": null,
            "border": null,
            "align_items": null,
            "bottom": null,
            "_model_module": "@jupyter-widgets/base",
            "top": null,
            "grid_column": null,
            "overflow_y": null,
            "overflow_x": null,
            "grid_auto_flow": null,
            "grid_area": null,
            "grid_template_columns": null,
            "flex": null,
            "_model_name": "LayoutModel",
            "justify_items": null,
            "grid_row": null,
            "max_height": null,
            "align_content": null,
            "visibility": null,
            "align_self": null,
            "height": null,
            "min_height": null,
            "padding": null,
            "grid_auto_rows": null,
            "grid_gap": null,
            "max_width": null,
            "order": null,
            "_view_module_version": "1.2.0",
            "grid_template_areas": null,
            "object_position": null,
            "object_fit": null,
            "grid_auto_columns": null,
            "margin": null,
            "display": null,
            "left": null
          }
        }
      }
    }
  },
  "cells": [
    {
      "cell_type": "markdown",
      "metadata": {
        "id": "view-in-github",
        "colab_type": "text"
      },
      "source": [
        "<a href=\"https://colab.research.google.com/github/lucacerab/DSEthesis-transformers/blob/main/BERTopic_ECB_V1.ipynb\" target=\"_parent\"><img src=\"https://colab.research.google.com/assets/colab-badge.svg\" alt=\"Open In Colab\"/></a>"
      ]
    },
    {
      "cell_type": "markdown",
      "metadata": {
        "id": "Gpym7LgXnrO4"
      },
      "source": [
        "# Topic Modeling on ECB speeches dataset using BERTopic"
      ]
    },
    {
      "cell_type": "code",
      "metadata": {
        "id": "ZMUjyOuEkpLH"
      },
      "source": [
        "# after installing it restart the notebook\n",
        "%%capture\n",
        "!pip install bertopic"
      ],
      "execution_count": null,
      "outputs": []
    },
    {
      "cell_type": "markdown",
      "metadata": {
        "id": "1YtgTKe-npaX"
      },
      "source": [
        "##Data preparation"
      ]
    },
    {
      "cell_type": "code",
      "metadata": {
        "colab": {
          "base_uri": "https://localhost:8080/",
          "height": 293
        },
        "id": "XQgiQqBlkxsK",
        "outputId": "e18799e8-5b81-427f-9294-e5751b560778"
      },
      "source": [
        "import pandas as pd\n",
        "\n",
        "ecb = pd.read_csv('https://www.ecb.europa.eu/press/key/shared/data/all_ECB_speeches.csv?48aec91d00ba1a66db570a6d4d163845', sep=\"|\", encoding='utf8').dropna().reset_index(drop=True)\n",
        "ecb.head()"
      ],
      "execution_count": null,
      "outputs": [
        {
          "output_type": "execute_result",
          "data": {
            "text/html": [
              "<div>\n",
              "<style scoped>\n",
              "    .dataframe tbody tr th:only-of-type {\n",
              "        vertical-align: middle;\n",
              "    }\n",
              "\n",
              "    .dataframe tbody tr th {\n",
              "        vertical-align: top;\n",
              "    }\n",
              "\n",
              "    .dataframe thead th {\n",
              "        text-align: right;\n",
              "    }\n",
              "</style>\n",
              "<table border=\"1\" class=\"dataframe\">\n",
              "  <thead>\n",
              "    <tr style=\"text-align: right;\">\n",
              "      <th></th>\n",
              "      <th>date</th>\n",
              "      <th>speakers</th>\n",
              "      <th>title</th>\n",
              "      <th>subtitle</th>\n",
              "      <th>contents</th>\n",
              "    </tr>\n",
              "  </thead>\n",
              "  <tbody>\n",
              "    <tr>\n",
              "      <th>0</th>\n",
              "      <td>2021-07-14</td>\n",
              "      <td>Isabel Schnabel</td>\n",
              "      <td>A new strategy for a changing world</td>\n",
              "      <td>Speech by Isabel Schnabel, Member of the Execu...</td>\n",
              "      <td>SPEECH  A new strategy for a changing world...</td>\n",
              "    </tr>\n",
              "    <tr>\n",
              "      <th>1</th>\n",
              "      <td>2021-07-11</td>\n",
              "      <td>Christine Lagarde</td>\n",
              "      <td>Climate Change and Central Banks: Analysing, A...</td>\n",
              "      <td>Speech by Christine Lagarde, President of the ...</td>\n",
              "      <td>SPEECH  Climate Change and Central Banks: A...</td>\n",
              "    </tr>\n",
              "    <tr>\n",
              "      <th>2</th>\n",
              "      <td>2021-07-08</td>\n",
              "      <td>Christine Lagarde,Luis de Guindos</td>\n",
              "      <td>Opening remarks to the press conference (with ...</td>\n",
              "      <td>Christine Lagarde, President of the ECB, Luis ...</td>\n",
              "      <td>OPENING REMARKS  PRESS CONFERENCE   Christi...</td>\n",
              "    </tr>\n",
              "    <tr>\n",
              "      <th>3</th>\n",
              "      <td>2021-07-03</td>\n",
              "      <td>Isabel Schnabel</td>\n",
              "      <td>Escaping low inflation?</td>\n",
              "      <td>Speech by Isabel Schnabel, Member of the Execu...</td>\n",
              "      <td>SPEECH  Escaping low inflation?   Speech by...</td>\n",
              "    </tr>\n",
              "    <tr>\n",
              "      <th>4</th>\n",
              "      <td>2021-06-29</td>\n",
              "      <td>Christine Lagarde</td>\n",
              "      <td>Financing a green and digital recovery</td>\n",
              "      <td>Speech by Christine Lagarde, President of the ...</td>\n",
              "      <td>SPEECH  Financing a green and digital recov...</td>\n",
              "    </tr>\n",
              "  </tbody>\n",
              "</table>\n",
              "</div>"
            ],
            "text/plain": [
              "         date  ...                                           contents\n",
              "0  2021-07-14  ...     SPEECH  A new strategy for a changing world...\n",
              "1  2021-07-11  ...     SPEECH  Climate Change and Central Banks: A...\n",
              "2  2021-07-08  ...     OPENING REMARKS  PRESS CONFERENCE   Christi...\n",
              "3  2021-07-03  ...     SPEECH  Escaping low inflation?   Speech by...\n",
              "4  2021-06-29  ...     SPEECH  Financing a green and digital recov...\n",
              "\n",
              "[5 rows x 5 columns]"
            ]
          },
          "metadata": {},
          "execution_count": 1
        }
      ]
    },
    {
      "cell_type": "code",
      "metadata": {
        "colab": {
          "base_uri": "https://localhost:8080/"
        },
        "id": "oVbF0TSPmqMZ",
        "outputId": "1788227f-e711-4c03-edfc-02ce488bfb4f"
      },
      "source": [
        "ecb.shape"
      ],
      "execution_count": null,
      "outputs": [
        {
          "output_type": "execute_result",
          "data": {
            "text/plain": [
              "(2473, 5)"
            ]
          },
          "metadata": {},
          "execution_count": 2
        }
      ]
    },
    {
      "cell_type": "code",
      "metadata": {
        "colab": {
          "base_uri": "https://localhost:8080/"
        },
        "id": "PjzKE5UOlo5n",
        "outputId": "22d5126e-625d-4b17-e613-089341d22cfb"
      },
      "source": [
        "print(ecb.speakers.nunique(), 'speakers:', ecb.speakers.unique())"
      ],
      "execution_count": null,
      "outputs": [
        {
          "output_type": "stream",
          "text": [
            "28 speakers: ['Isabel Schnabel' 'Christine Lagarde' 'Christine Lagarde,Luis de Guindos'\n",
            " 'Luis de Guindos' 'Fabio Panetta' 'Frank Elderson' 'Philip R. Lane'\n",
            " 'Yves Mersch' 'Benoît Cœuré' 'Sabine Lautenschläger' 'Mario Draghi'\n",
            " 'Peter Praet' 'Vítor Constâncio' 'Jörg Asmussen'\n",
            " 'José Manuel González-Páramo' 'Lorenzo Bini Smaghi' 'Jürgen Stark'\n",
            " 'Jean-Claude Trichet' 'Gertrude Tumpel-Gugerell' 'Lucas Papademos'\n",
            " 'Otmar Issing' 'Tommaso Padoa-Schioppa' 'Eugenio Domingo Solans'\n",
            " 'Willem F. Duisenberg' 'Sirkka Hämäläinen' 'Christian Noyer'\n",
            " 'Willem F. Duisenberg,Eugenio Domingo Solans' 'Alexandre Lamfalussy']\n"
          ],
          "name": "stdout"
        }
      ]
    },
    {
      "cell_type": "code",
      "metadata": {
        "colab": {
          "base_uri": "https://localhost:8080/",
          "height": 164
        },
        "id": "P1mrosx6muDU",
        "outputId": "539a3f10-e7b8-4e9a-e6c8-ba57a212db0d"
      },
      "source": [
        "ecb.contents[0]"
      ],
      "execution_count": null,
      "outputs": [
        {
          "output_type": "execute_result",
          "data": {
            "application/vnd.google.colaboratory.intrinsic+json": {
              "type": "string"
            },
            "text/plain": [
              "'   SPEECH  A new strategy for a changing world   Speech by Isabel Schnabel, Member of the Executive Board of the ECB, at the virtual Financial Statements series hosted by the Peterson Institute for International Economics Frankfurt am Main, 14 July 2021 Last week the Governing Council of the European Central Bank (ECB) published its new monetary policy strategy.[1] It was the ECB’s first review of its strategy since 2003, with most features of the framework still dating back to its founding years. Since those times, the world economy has changed in fundamental ways. About half of today’s ten largest global firms by stock market capitalisation did not exist when the euro was launched in 1999. In that year, imports accounted for around 30% of euro area economic activity; on the eve of the pandemic, this share had increased to 45%. And whereas in 2000 there were on average 24 people aged 65 and over for every 100 persons of working age in the euro area, this ratio stood at 32 last year. These changes reflect three broad macroeconomic trends – digitalisation, globalisation and demographic change – that have had, and continue to have, profound consequences for the conduct of monetary policy.  Amplified by the two deepest economic contractions since World War II – the global financial crisis and the coronavirus (COVID-19) pandemic – they shifted the challenge for monetary policy from fighting too high inflation towards preventing too low inflation, or even deflation, a phenomenon our previous strategy had not envisaged. In many advanced economies, this challenge was aggravated by central banks approaching the lower bound of policy rates, which severely constrained the space of “conventional” monetary policy to protect price stability. In the euro area, the ECB’s deposit facility rate reached 0% in July 2012 and has been negative since June 2014. In my remarks today, I would like to set out our motivation for the most important changes to our strategy, and explain how they will guide the ECB’s monetary policy decisions in the years to come. Understanding low inflation The ECB’s monetary policy strategy of 2003 was challenged by severe economic and financial crises, as well as deep structural changes in the economy, in particular during the most recent decade. At the heart of these challenges were two distinct, albeit related, developments. One was a gradual and persistent decline in the “real equilibrium” interest rate that balances savings and investments (slide 2). Slow-moving structural factors, such as an ageing society and lower trend productivity growth, have led to an abundant supply of savings facing a muted investment demand, putting downward pressure on interest rates, not only in the euro area but across many advanced economies. Available estimates of this “equilibrium” rate of interest suggest that, for the euro area, stable inflation is nowadays likely to require a negative real short-term interest rate. While the level of equilibrium rates differs across countries, the downward trend has been a global phenomenon. The second, and equally widespread, development was a protracted period of disinflation. Despite years of unprecedented monetary policy accommodation, inflation in the euro area, as measured by the Harmonised Index of Consumer Prices (HICP), has averaged just 1.2% since the global financial crisis (slide 3), well below the aim adopted by the Governing Council in 2003, namely an inflation rate of below, but close to, 2% over the medium term. In combination, these two developments posed severe challenges for monetary policy, because the zero lower bound on interest rates constrained the available policy space to respond to persistent disinflationary shocks. As a result, central banks worldwide have been forced to find additional instruments that could provide policy accommodation when their main policy rates were approaching zero. The ECB, for its part, has introduced a wide range of such novel monetary policy tools in recent years, including negative interest rates, forward guidance, longer-term refinancing operations and asset purchases. Nevertheless, the euro area economy remained caught in the low interest rate, low inflation environment. In our strategy review, we identified the elements that could break the vicious circle of low inflation and low interest rates by shedding light on the factors explaining why inflation has not accelerated more forcefully in response to the far-reaching measures we took over the years. Our findings can be summarised in three blocks that have motivated the main adjustments to our strategic framework: first, the definition of price stability, including the scope of the relevant price index; second, the conduct of monetary policy in the vicinity of the effective lower bound, including the toolkit, our reaction function and the broader macroeconomic policy mix; and, third, a more active incorporation of major preconditions for price stability, namely financial stability and the transition to a low-carbon economy. Let me explain each of these points in turn. Defining price stability According to the Treaty on the Functioning of the European Union (TFEU), the ECB’s primary objective is to maintain price stability. The first building block of our strategy is to operationalise this objective. Including owner-occupied housing in the HICP The ECB has confirmed the use of the HICP as a timely, reliable, comparable (over time and across countries) and credible inflation measure. A key requirement for monetary policy is that the underlying consumption basket be representative of people’s actual consumption behaviour. If the index failed to capture relevant consumption expenditures that exhibit large and persistent price changes, then this could, over time, erode people’s purchasing power. Housing is a case in point. Although HICP inflation has been subdued in recent years, the costs of housing, which are not fully reflected in the HICP, have increased more forcefully. Over the past four years, residential property prices in the euro area increased, on average, at an annual rate above 4%, and at 6.2% in the first quarter of this year, the fastest pace since 2007 (slide 4). Rising housing costs are absorbing a growing share of households’ lifetime income and are making housing increasingly unaffordable for some parts of society, in particular younger generations. This concern was expressed widely at our “ECB Listens” events. In our review, the Governing Council, while praising the quality improvements to the HICP seen over time, recognised shortcomings in the current way of measuring consumer price inflation and decided to recommend a roadmap to include owner-occupied housing in the HICP. Our roadmap builds on the net acquisition approach that will treat home purchases in much the same way as purchases of other durable goods, such as cars. As it refers directly to observed transaction prices of new dwellings, this approach is likely to reflect housing market conditions more accurately than alternative methodologies.[2]  The augmented HICP will not only better represent actual consumption expenditures by households, it will also better reflect the transmission of our monetary policy.  In particular, while changes in house prices often reflect a wide range of factors, including supply and demand imbalances, monetary policy, through its impact on mortgage rates and risk taking, can also be expected to affect the costs related to residential investment.  Substantial additional work by the European Statistical System, which will stretch over several years, is required before the HICP including owner-occupied housing can become the main index for monetary policy purposes at a monthly frequency.  Until then, we will use gradually improving quarterly owner-occupied housing indices to assess the impact of housing costs on inflation and thus inform our monetary policy deliberations. A symmetric 2% inflation target The previous quantitative definition of our inflation aim of “below, but close to, 2%” was subject to ambiguity as some observers considered it to be asymmetric, potentially implying that 2% was a ceiling rather than a target. Staff analysis suggests that such perceptions could, over time, give rise to meaningfully lower inflation and growth outcomes (left chart, slide 5). While our analysis suggests that low inflation has, to a large extent, resulted from an unfavourable, one-sided distribution of shocks (as explained below), we judged that there was a risk that our previous inflation aim might further entrench expectations of low inflation (right chart, slide 5). We have therefore replaced our previous aim with a clear 2% inflation target over the medium term, with deviations to the downside and to the upside being considered equally undesirable. The simplification and clarification of the target, as well as our stronger commitment to symmetry, are crucial to remove any ambiguities and firmly anchor long-term inflation expectations at 2%. Medium-term orientation and proportionality The Governing Council confirmed the medium-term orientation of its monetary policy, recognising the difficulty to control inflation in the short run, given the variable and uncertain transmission lags of our measures to the real economy and inflation.  From the start, the medium-term orientation has afforded the Governing Council the required flexibility to tailor policy responses to the size, persistence and type of shock it is facing. For example, supply-side shocks often require a lengthening of the medium-term horizon in order to mitigate negative effects on real economic activity and employment. The medium-term orientation also allows the ECB to take account of financial stability considerations in view of the interdependence of price stability and financial stability. The use of such flexibility will be subject to a careful proportionality assessment, which has been enshrined in our new strategy.  This assessment comprises a systematic analysis of the evolving balance of the benefits and costs of our actions, taking account of their effectiveness and side effects, as well as risks of a destabilisation of inflation expectations.[3]  Such an assessment is particularly important at the lower bound.  ECB staff analysis suggests that, at the lower bound, there is a risk that the marginal benefit of an additional unit of policy accommodation may diminish, not only in the euro area but across advanced economies (left chart, slide 6). The impact of monetary policy is also likely to be state contingent, with policy most effective in deep recessions (right chart, slide 6).  At the same time, the potential costs in terms of financial stability or income and wealth inequality may increase. The outcome of such proportionality assessment can influence the choice and design of our measures, as well as the intensity with which they are used.  For example, the exclusion of household mortgages from the loans eligible under the targeted longer-term refinancing operations (TLTRO) aims to avoid fuelling house prices. Similarly, the two-tier system of reserves helps to protect the bank lending channel by mitigating the impact of negative interest rates on banks’ profitability. Monetary policy at the effective lower bound The second block of our strategy offers solutions to overcome the challenges of protecting price stability in the vicinity of the lower bound. Our review revealed that the presence of the effective lower bound gives rise to three broad requirements for effective macroeconomic stabilisation: an expanded monetary policy toolkit, a changed reaction function and a different macroeconomic policy mix. A broader toolkit for the future The ECB responded to the advent of the effective lower bound by substantially expanding its toolkit.  Our review suggests that these additional measures have been effective in stimulating growth and inflation despite a persistent lack of underlying price pressure.  There is compelling empirical evidence that negative interest rates, forward guidance, longer-term refinancing operations and asset purchases have contributed, individually and collectively, to easing the relevant financing conditions for firms and households loosening the constraints on monetary policy imposed by the lower bound on conventional interest rate policies.  For example, since the ECB brought its deposit facility rate into negative territory in 2014, the euro area GDP-weighted sovereign yield curve, which is a good summary indicator of the stance, has shifted measurably lower, and has flattened considerably (left chart, slide 7).  Broader financial conditions in the euro area, too, currently stand close to historically favourable levels (right chart, slide\\xa07). Our review has also shown that there is no compelling evidence suggesting that inflation has systematically become less responsive to economic activity.  While the euro area Phillips curve is relatively flat, staff analysis shows that its slope has not – in a statistically relevant way – become flatter over time and that economic slack and inflation co-move as expected by economic theory (left chart, slide 8). Instead, Phillips curve models point to other factors – likely related to structural trends like digitalisation, globalisation and demographic change – putting persistent downward pressure on underlying inflation in recent years, even as slack receded (right chart, slide 8). While this vindicates the medium-term orientation of our strategy, it also means that, in the vicinity of the lower bound, we can rely on a much broader set of instruments to protect our primary mandate. We have therefore decided that the range of policy instruments used over the last few years will remain part of our toolkit in the future too, meaning they should no longer be regarded as “unconventional”.  Looking ahead, new and untested instruments will be used if needed and as appropriate. Especially forceful or persistent action close to the lower bound The constraints imposed by the effective lower bound affect not only the choice of instruments but also the way they are used. Because central banks have a limited ability to lower rates deep into negative territory, disinflationary shocks close to the lower bound risk not being fully offset, thereby potentially becoming a more persistent drag on growth, prices and wages over time. In view of these risks, the Governing Council clarified in its strategy statement that when the economy is close to the lower bound, monetary policy needs to respond especially forcefully or persistently to avoid negative deviations from the inflation target becoming entrenched in expectations.  We also clarified that this may imply a transitory period in which inflation is moderately above 2%. In practice, inflation overshoots may be the result of the Governing Council exercising patience in adjusting its policy stance when faced with an improving outlook. A long period of low price pressures, and years of repeated overprediction of the future path of inflation, require that higher inflation prospects need to be visibly reflected in actual underlying inflation dynamics before they warrant a more fundamental reassessment of the medium-term inflation outlook.[4]  An appropriate policy mix at the lower bound The third implication of the lower bound is that – in a world where the observed decline in real interest rates limits the extent to which central banks can stabilise the economy in the wake of demand-side shocks – fiscal and monetary policy need to complement each other. The past decade suggests that the failure of inflation to accelerate more forcefully in the euro area is also the result of inadequate support from fiscal policy.[5] Before the pandemic hit, and despite weak demand, the euro area primary balance was positive and mostly growing in all years after 2014 (left chart, slide 9). Public investment fell rather than rose (right chart, slide 9). A public sector that is largely insensitive to interest rate changes significantly reduces the effectiveness of monetary policy, in particular in the euro area where governments account for nearly half of total spending. An unresponsive fiscal authority also disregards the broad empirical evidence that fiscal policy is particularly effective at the lower bound. While in normal times the stabilisation role of fiscal policy can be largely confined to the operation of automatic stabilisers, countercyclical discretionary fiscal policy is crucial in crisis times and in the proximity of the lower bound. The policy response to the pandemic is a remarkable showcase for the power of monetary and fiscal policy interaction to boost confidence, stabilise aggregate demand and avoid a persistent destabilisation of medium to long-term inflation expectations. Preconditions for price stability The third building block of our new strategy recognises that some areas merit particular attention in the pursuit of price stability over the medium term.  One is financial stability, which can pose severe risks to price stability, as shown vividly by the global financial crisis. Another is climate change, which is increasingly threatening price stability through both physical and transition risks. Financial stability and price stability  Our revised framework explicitly recognises potential financial stability risks that may come with our policy measures, in particular with a more forceful or persistent policy response close to the lower bound.  Specifically, in addition to our economic analysis, our price stability assessment and proportionality analysis will now be based on a revised monetary and financial analysis that recognises that financial stability is a precondition for price stability (slide 10), and that macroprudential policies do not yet offer effective protection.  The focus of this analysis will be on the monetary policy transmission mechanism, in particular via the bank lending, risk-taking and asset pricing channels, and will systematically evaluate the longer-term build-up of financial vulnerabilities and imbalances and their possible implications for future tail risks to output and inflation.  Assigning a more prominent role to financial stability does not mean that the Governing Council will conduct policies of “leaning against the wind”, whereby monetary policy is systematically tightened when systemic risk builds up, or of “cleaning”, whereby monetary policy is systematically loosened when systemic risk materialises. It rather means that we will follow a flexible approach in accounting for financial stability considerations, which is consistent with the medium-term orientation of our strategy.  Climate change and price stability While the revised monetary and financial analysis will give more room for financial stability considerations, the enhanced economic analysis will give greater prominence to structural trends and their implications for inflation, potential output and the equilibrium real rate of interest (slide 10).[6]  One of the most important structural trends facing humankind in the 21st century is climate change and the economy’s transition to carbon neutrality. In our strategy review, we analysed in depth the profound implications of physical and transition risks from climate change for both price and financial stability, as well as for the transmission of monetary policy and the value and the risk profile of the assets held on the Eurosystem’s balance sheet.  We acknowledged the growing evidence pointing towards climate change-related risks that could materialise much faster than previously expected. In fact, the physical damages of climate change are already clearly visible (slide 11). Just how severely our lives and economies will be affected by climate change in the future depends on our determination to take decisive global policy action today. While governments and parliaments have the primary responsibility to act on climate change, the ECB, within its mandate, recognises the need to further incorporate climate considerations into its policy framework.  We have therefore committed to an ambitious climate-related action plan that will be consistent with our price stability objective and guided by market efficiency considerations.[7]  The focus of our activities will be, among other things, on two broad areas. First, we will significantly enhance our analytical and macroeconomic modelling capacities and develop statistical indicators to measure the carbon footprint of financial institutions, as well as their exposures to climate-related risks, and to foster our understanding of the macroeconomic impact of climate change and carbon transition policies.  Second, we will adapt the design of our monetary policy operational framework. For example, we will introduce disclosure requirements for private sector assets as a new eligibility criterion, or as a basis for a differentiated treatment, for collateral and asset purchases. We will also consider climate-change risks when reviewing the valuation and risk control frameworks for assets mobilised as collateral. And we will adjust the framework guiding the allocation of corporate bond purchases to incorporate climate change criteria. These will include the alignment of issuers with the Paris agreement through climate change-related metrics or commitments of the issuers to such goals, with a view to reducing the emission bias induced by the current market neutrality principle in our corporate bond portfolio (slide 12). Conclusion Let me conclude. Our strategy review has been a long journey. We have taken stock of how the ongoing secular changes in our economies and societies affect the conduct of monetary policy and our ability to protect price stability in the euro area in such circumstances. Many elements of our monetary policy strategy have been vindicated by the events of the past two decades. Our shock-based medium-term orientation, for example, has avoided unnecessary volatility in economic activity at times of rising inflation and supported incomes and wages in the face of disinflationary shocks. Other elements of our strategy have been challenged and required adaptation in the light of the changed macroeconomic landscape that implies a higher probability of hitting the lower bound in the future. To avoid that low inflation becomes entrenched in expectations and activity, we have changed our definition of price stability to a clear and symmetric 2% target in the medium term. We have also clarified that, when our policy rates are close to the lower bound, we intend to react especially forcefully or persistently to disinflationary shocks. This may also imply a transitory period in which inflation is moderately above target. Our revised framework explicitly takes into account the potential risks that a prolonged period at, or close to, the lower bound may entail for financial stability and other considerations relevant for medium-term price stability. A revised monetary and financial analysis will facilitate a more systematic evaluation of potential financial vulnerabilities in the future. Finally, in recognition of the exceptional risks that climate change poses to welfare, growth and price stability, and with a view to accelerating the transition to a more sustainable economy, we have committed to a comprehensive climate-related action plan that will culminate in broad changes to our monetary policy implementation framework. In a rapidly changing world, and given the potentially significant structural changes that the end of the pandemic may unleash, we intend to assess periodically the appropriateness of our monetary policy strategy, with the next assessment expected in 2025. Thank you.    See ECB (2021), “The ECB’s monetary policy strategy statement”; and ECB (2021), “An overview of the ECB’s monetary policy strategy. Since the owner-occupied housing price index measured with the net acquisition approach includes an element of investment, the ECB supports further research projects on optimal measurement methods, aiming at better isolating the consumption component from the investment component, with the former being the relevant one for monetary policy. See Schnabel, I. (2020), “COVID-19 and monetary policy: Reinforcing prevailing challenges”, speech at the Bank of Finland Monetary Policy webinar: New Challenges to Monetary Policy Strategies, Frankfurt am Main, 24 November. See Schnabel, I. (2021), “Escaping low inflation?”, speech at the Petersberger Sommerdialog, Frankfurt am Main, 3 July. See Schnabel, I. (2021), “Unconventional fiscal and monetary policy at the zero lower bound”, keynote speech at the Third Annual Conference organised by the European Fiscal Board on “High Debt, Low Rates and Tail Events: Rules-Based Fiscal Frameworks under Stress”, Frankfurt am Main, 26 February. See Schnabel, I. (2021), “From market neutrality to market efficiency”, welcome address at the ECB DG-Research Symposium “Climate change, financial markets and green growth”, Frankfurt am Main, 14 June; Schnabel, I. (2021), “From green neglect to green dominance?”, intervention at the “Greening Monetary Policy – Central Banking and Climate Change” online seminar, organised as part of the “Cleveland Fed Conversations on Central Banking”, Frankfurt am Main, 3 March; Schnabel, I. (2020), “When markets fail – the need for collective action in tackling climate change”, speech at the European Sustainable Finance Summit, Frankfurt am Main, 28 September; Schnabel, I. (2020), “Never waste a crisis: COVID-19, climate change and monetary policy”, speech at a virtual roundtable on “Sustainable Crisis Responses in Europe” organised by the INSPIRE research network, 17 July . See ECB (2021), “ECB presents action plan to include climate change considerations in its monetary policy strategy”, press release, 8 July.    '"
            ]
          },
          "metadata": {},
          "execution_count": 4
        }
      ]
    },
    {
      "cell_type": "code",
      "metadata": {
        "id": "mel8-BD07Kkp"
      },
      "source": [
        "# filter 'SPEECH' from contents column\n",
        "import re\n",
        "\n",
        "ecb.contents = ecb.apply(lambda row: re.sub(r\"SPEECH\", \"\", row.contents).strip(), 1)"
      ],
      "execution_count": null,
      "outputs": []
    },
    {
      "cell_type": "code",
      "metadata": {
        "colab": {
          "base_uri": "https://localhost:8080/",
          "height": 164
        },
        "id": "ySdjpxk3mzc6",
        "outputId": "99d52d0c-7abf-416e-cdff-4427b3e1d494"
      },
      "source": [
        "ecb.contents[0]"
      ],
      "execution_count": null,
      "outputs": [
        {
          "output_type": "execute_result",
          "data": {
            "application/vnd.google.colaboratory.intrinsic+json": {
              "type": "string"
            },
            "text/plain": [
              "'A new strategy for a changing world   Speech by Isabel Schnabel, Member of the Executive Board of the ECB, at the virtual Financial Statements series hosted by the Peterson Institute for International Economics Frankfurt am Main, 14 July 2021 Last week the Governing Council of the European Central Bank (ECB) published its new monetary policy strategy.[1] It was the ECB’s first review of its strategy since 2003, with most features of the framework still dating back to its founding years. Since those times, the world economy has changed in fundamental ways. About half of today’s ten largest global firms by stock market capitalisation did not exist when the euro was launched in 1999. In that year, imports accounted for around 30% of euro area economic activity; on the eve of the pandemic, this share had increased to 45%. And whereas in 2000 there were on average 24 people aged 65 and over for every 100 persons of working age in the euro area, this ratio stood at 32 last year. These changes reflect three broad macroeconomic trends – digitalisation, globalisation and demographic change – that have had, and continue to have, profound consequences for the conduct of monetary policy.  Amplified by the two deepest economic contractions since World War II – the global financial crisis and the coronavirus (COVID-19) pandemic – they shifted the challenge for monetary policy from fighting too high inflation towards preventing too low inflation, or even deflation, a phenomenon our previous strategy had not envisaged. In many advanced economies, this challenge was aggravated by central banks approaching the lower bound of policy rates, which severely constrained the space of “conventional” monetary policy to protect price stability. In the euro area, the ECB’s deposit facility rate reached 0% in July 2012 and has been negative since June 2014. In my remarks today, I would like to set out our motivation for the most important changes to our strategy, and explain how they will guide the ECB’s monetary policy decisions in the years to come. Understanding low inflation The ECB’s monetary policy strategy of 2003 was challenged by severe economic and financial crises, as well as deep structural changes in the economy, in particular during the most recent decade. At the heart of these challenges were two distinct, albeit related, developments. One was a gradual and persistent decline in the “real equilibrium” interest rate that balances savings and investments (slide 2). Slow-moving structural factors, such as an ageing society and lower trend productivity growth, have led to an abundant supply of savings facing a muted investment demand, putting downward pressure on interest rates, not only in the euro area but across many advanced economies. Available estimates of this “equilibrium” rate of interest suggest that, for the euro area, stable inflation is nowadays likely to require a negative real short-term interest rate. While the level of equilibrium rates differs across countries, the downward trend has been a global phenomenon. The second, and equally widespread, development was a protracted period of disinflation. Despite years of unprecedented monetary policy accommodation, inflation in the euro area, as measured by the Harmonised Index of Consumer Prices (HICP), has averaged just 1.2% since the global financial crisis (slide 3), well below the aim adopted by the Governing Council in 2003, namely an inflation rate of below, but close to, 2% over the medium term. In combination, these two developments posed severe challenges for monetary policy, because the zero lower bound on interest rates constrained the available policy space to respond to persistent disinflationary shocks. As a result, central banks worldwide have been forced to find additional instruments that could provide policy accommodation when their main policy rates were approaching zero. The ECB, for its part, has introduced a wide range of such novel monetary policy tools in recent years, including negative interest rates, forward guidance, longer-term refinancing operations and asset purchases. Nevertheless, the euro area economy remained caught in the low interest rate, low inflation environment. In our strategy review, we identified the elements that could break the vicious circle of low inflation and low interest rates by shedding light on the factors explaining why inflation has not accelerated more forcefully in response to the far-reaching measures we took over the years. Our findings can be summarised in three blocks that have motivated the main adjustments to our strategic framework: first, the definition of price stability, including the scope of the relevant price index; second, the conduct of monetary policy in the vicinity of the effective lower bound, including the toolkit, our reaction function and the broader macroeconomic policy mix; and, third, a more active incorporation of major preconditions for price stability, namely financial stability and the transition to a low-carbon economy. Let me explain each of these points in turn. Defining price stability According to the Treaty on the Functioning of the European Union (TFEU), the ECB’s primary objective is to maintain price stability. The first building block of our strategy is to operationalise this objective. Including owner-occupied housing in the HICP The ECB has confirmed the use of the HICP as a timely, reliable, comparable (over time and across countries) and credible inflation measure. A key requirement for monetary policy is that the underlying consumption basket be representative of people’s actual consumption behaviour. If the index failed to capture relevant consumption expenditures that exhibit large and persistent price changes, then this could, over time, erode people’s purchasing power. Housing is a case in point. Although HICP inflation has been subdued in recent years, the costs of housing, which are not fully reflected in the HICP, have increased more forcefully. Over the past four years, residential property prices in the euro area increased, on average, at an annual rate above 4%, and at 6.2% in the first quarter of this year, the fastest pace since 2007 (slide 4). Rising housing costs are absorbing a growing share of households’ lifetime income and are making housing increasingly unaffordable for some parts of society, in particular younger generations. This concern was expressed widely at our “ECB Listens” events. In our review, the Governing Council, while praising the quality improvements to the HICP seen over time, recognised shortcomings in the current way of measuring consumer price inflation and decided to recommend a roadmap to include owner-occupied housing in the HICP. Our roadmap builds on the net acquisition approach that will treat home purchases in much the same way as purchases of other durable goods, such as cars. As it refers directly to observed transaction prices of new dwellings, this approach is likely to reflect housing market conditions more accurately than alternative methodologies.[2]  The augmented HICP will not only better represent actual consumption expenditures by households, it will also better reflect the transmission of our monetary policy.  In particular, while changes in house prices often reflect a wide range of factors, including supply and demand imbalances, monetary policy, through its impact on mortgage rates and risk taking, can also be expected to affect the costs related to residential investment.  Substantial additional work by the European Statistical System, which will stretch over several years, is required before the HICP including owner-occupied housing can become the main index for monetary policy purposes at a monthly frequency.  Until then, we will use gradually improving quarterly owner-occupied housing indices to assess the impact of housing costs on inflation and thus inform our monetary policy deliberations. A symmetric 2% inflation target The previous quantitative definition of our inflation aim of “below, but close to, 2%” was subject to ambiguity as some observers considered it to be asymmetric, potentially implying that 2% was a ceiling rather than a target. Staff analysis suggests that such perceptions could, over time, give rise to meaningfully lower inflation and growth outcomes (left chart, slide 5). While our analysis suggests that low inflation has, to a large extent, resulted from an unfavourable, one-sided distribution of shocks (as explained below), we judged that there was a risk that our previous inflation aim might further entrench expectations of low inflation (right chart, slide 5). We have therefore replaced our previous aim with a clear 2% inflation target over the medium term, with deviations to the downside and to the upside being considered equally undesirable. The simplification and clarification of the target, as well as our stronger commitment to symmetry, are crucial to remove any ambiguities and firmly anchor long-term inflation expectations at 2%. Medium-term orientation and proportionality The Governing Council confirmed the medium-term orientation of its monetary policy, recognising the difficulty to control inflation in the short run, given the variable and uncertain transmission lags of our measures to the real economy and inflation.  From the start, the medium-term orientation has afforded the Governing Council the required flexibility to tailor policy responses to the size, persistence and type of shock it is facing. For example, supply-side shocks often require a lengthening of the medium-term horizon in order to mitigate negative effects on real economic activity and employment. The medium-term orientation also allows the ECB to take account of financial stability considerations in view of the interdependence of price stability and financial stability. The use of such flexibility will be subject to a careful proportionality assessment, which has been enshrined in our new strategy.  This assessment comprises a systematic analysis of the evolving balance of the benefits and costs of our actions, taking account of their effectiveness and side effects, as well as risks of a destabilisation of inflation expectations.[3]  Such an assessment is particularly important at the lower bound.  ECB staff analysis suggests that, at the lower bound, there is a risk that the marginal benefit of an additional unit of policy accommodation may diminish, not only in the euro area but across advanced economies (left chart, slide 6). The impact of monetary policy is also likely to be state contingent, with policy most effective in deep recessions (right chart, slide 6).  At the same time, the potential costs in terms of financial stability or income and wealth inequality may increase. The outcome of such proportionality assessment can influence the choice and design of our measures, as well as the intensity with which they are used.  For example, the exclusion of household mortgages from the loans eligible under the targeted longer-term refinancing operations (TLTRO) aims to avoid fuelling house prices. Similarly, the two-tier system of reserves helps to protect the bank lending channel by mitigating the impact of negative interest rates on banks’ profitability. Monetary policy at the effective lower bound The second block of our strategy offers solutions to overcome the challenges of protecting price stability in the vicinity of the lower bound. Our review revealed that the presence of the effective lower bound gives rise to three broad requirements for effective macroeconomic stabilisation: an expanded monetary policy toolkit, a changed reaction function and a different macroeconomic policy mix. A broader toolkit for the future The ECB responded to the advent of the effective lower bound by substantially expanding its toolkit.  Our review suggests that these additional measures have been effective in stimulating growth and inflation despite a persistent lack of underlying price pressure.  There is compelling empirical evidence that negative interest rates, forward guidance, longer-term refinancing operations and asset purchases have contributed, individually and collectively, to easing the relevant financing conditions for firms and households loosening the constraints on monetary policy imposed by the lower bound on conventional interest rate policies.  For example, since the ECB brought its deposit facility rate into negative territory in 2014, the euro area GDP-weighted sovereign yield curve, which is a good summary indicator of the stance, has shifted measurably lower, and has flattened considerably (left chart, slide 7).  Broader financial conditions in the euro area, too, currently stand close to historically favourable levels (right chart, slide\\xa07). Our review has also shown that there is no compelling evidence suggesting that inflation has systematically become less responsive to economic activity.  While the euro area Phillips curve is relatively flat, staff analysis shows that its slope has not – in a statistically relevant way – become flatter over time and that economic slack and inflation co-move as expected by economic theory (left chart, slide 8). Instead, Phillips curve models point to other factors – likely related to structural trends like digitalisation, globalisation and demographic change – putting persistent downward pressure on underlying inflation in recent years, even as slack receded (right chart, slide 8). While this vindicates the medium-term orientation of our strategy, it also means that, in the vicinity of the lower bound, we can rely on a much broader set of instruments to protect our primary mandate. We have therefore decided that the range of policy instruments used over the last few years will remain part of our toolkit in the future too, meaning they should no longer be regarded as “unconventional”.  Looking ahead, new and untested instruments will be used if needed and as appropriate. Especially forceful or persistent action close to the lower bound The constraints imposed by the effective lower bound affect not only the choice of instruments but also the way they are used. Because central banks have a limited ability to lower rates deep into negative territory, disinflationary shocks close to the lower bound risk not being fully offset, thereby potentially becoming a more persistent drag on growth, prices and wages over time. In view of these risks, the Governing Council clarified in its strategy statement that when the economy is close to the lower bound, monetary policy needs to respond especially forcefully or persistently to avoid negative deviations from the inflation target becoming entrenched in expectations.  We also clarified that this may imply a transitory period in which inflation is moderately above 2%. In practice, inflation overshoots may be the result of the Governing Council exercising patience in adjusting its policy stance when faced with an improving outlook. A long period of low price pressures, and years of repeated overprediction of the future path of inflation, require that higher inflation prospects need to be visibly reflected in actual underlying inflation dynamics before they warrant a more fundamental reassessment of the medium-term inflation outlook.[4]  An appropriate policy mix at the lower bound The third implication of the lower bound is that – in a world where the observed decline in real interest rates limits the extent to which central banks can stabilise the economy in the wake of demand-side shocks – fiscal and monetary policy need to complement each other. The past decade suggests that the failure of inflation to accelerate more forcefully in the euro area is also the result of inadequate support from fiscal policy.[5] Before the pandemic hit, and despite weak demand, the euro area primary balance was positive and mostly growing in all years after 2014 (left chart, slide 9). Public investment fell rather than rose (right chart, slide 9). A public sector that is largely insensitive to interest rate changes significantly reduces the effectiveness of monetary policy, in particular in the euro area where governments account for nearly half of total spending. An unresponsive fiscal authority also disregards the broad empirical evidence that fiscal policy is particularly effective at the lower bound. While in normal times the stabilisation role of fiscal policy can be largely confined to the operation of automatic stabilisers, countercyclical discretionary fiscal policy is crucial in crisis times and in the proximity of the lower bound. The policy response to the pandemic is a remarkable showcase for the power of monetary and fiscal policy interaction to boost confidence, stabilise aggregate demand and avoid a persistent destabilisation of medium to long-term inflation expectations. Preconditions for price stability The third building block of our new strategy recognises that some areas merit particular attention in the pursuit of price stability over the medium term.  One is financial stability, which can pose severe risks to price stability, as shown vividly by the global financial crisis. Another is climate change, which is increasingly threatening price stability through both physical and transition risks. Financial stability and price stability  Our revised framework explicitly recognises potential financial stability risks that may come with our policy measures, in particular with a more forceful or persistent policy response close to the lower bound.  Specifically, in addition to our economic analysis, our price stability assessment and proportionality analysis will now be based on a revised monetary and financial analysis that recognises that financial stability is a precondition for price stability (slide 10), and that macroprudential policies do not yet offer effective protection.  The focus of this analysis will be on the monetary policy transmission mechanism, in particular via the bank lending, risk-taking and asset pricing channels, and will systematically evaluate the longer-term build-up of financial vulnerabilities and imbalances and their possible implications for future tail risks to output and inflation.  Assigning a more prominent role to financial stability does not mean that the Governing Council will conduct policies of “leaning against the wind”, whereby monetary policy is systematically tightened when systemic risk builds up, or of “cleaning”, whereby monetary policy is systematically loosened when systemic risk materialises. It rather means that we will follow a flexible approach in accounting for financial stability considerations, which is consistent with the medium-term orientation of our strategy.  Climate change and price stability While the revised monetary and financial analysis will give more room for financial stability considerations, the enhanced economic analysis will give greater prominence to structural trends and their implications for inflation, potential output and the equilibrium real rate of interest (slide 10).[6]  One of the most important structural trends facing humankind in the 21st century is climate change and the economy’s transition to carbon neutrality. In our strategy review, we analysed in depth the profound implications of physical and transition risks from climate change for both price and financial stability, as well as for the transmission of monetary policy and the value and the risk profile of the assets held on the Eurosystem’s balance sheet.  We acknowledged the growing evidence pointing towards climate change-related risks that could materialise much faster than previously expected. In fact, the physical damages of climate change are already clearly visible (slide 11). Just how severely our lives and economies will be affected by climate change in the future depends on our determination to take decisive global policy action today. While governments and parliaments have the primary responsibility to act on climate change, the ECB, within its mandate, recognises the need to further incorporate climate considerations into its policy framework.  We have therefore committed to an ambitious climate-related action plan that will be consistent with our price stability objective and guided by market efficiency considerations.[7]  The focus of our activities will be, among other things, on two broad areas. First, we will significantly enhance our analytical and macroeconomic modelling capacities and develop statistical indicators to measure the carbon footprint of financial institutions, as well as their exposures to climate-related risks, and to foster our understanding of the macroeconomic impact of climate change and carbon transition policies.  Second, we will adapt the design of our monetary policy operational framework. For example, we will introduce disclosure requirements for private sector assets as a new eligibility criterion, or as a basis for a differentiated treatment, for collateral and asset purchases. We will also consider climate-change risks when reviewing the valuation and risk control frameworks for assets mobilised as collateral. And we will adjust the framework guiding the allocation of corporate bond purchases to incorporate climate change criteria. These will include the alignment of issuers with the Paris agreement through climate change-related metrics or commitments of the issuers to such goals, with a view to reducing the emission bias induced by the current market neutrality principle in our corporate bond portfolio (slide 12). Conclusion Let me conclude. Our strategy review has been a long journey. We have taken stock of how the ongoing secular changes in our economies and societies affect the conduct of monetary policy and our ability to protect price stability in the euro area in such circumstances. Many elements of our monetary policy strategy have been vindicated by the events of the past two decades. Our shock-based medium-term orientation, for example, has avoided unnecessary volatility in economic activity at times of rising inflation and supported incomes and wages in the face of disinflationary shocks. Other elements of our strategy have been challenged and required adaptation in the light of the changed macroeconomic landscape that implies a higher probability of hitting the lower bound in the future. To avoid that low inflation becomes entrenched in expectations and activity, we have changed our definition of price stability to a clear and symmetric 2% target in the medium term. We have also clarified that, when our policy rates are close to the lower bound, we intend to react especially forcefully or persistently to disinflationary shocks. This may also imply a transitory period in which inflation is moderately above target. Our revised framework explicitly takes into account the potential risks that a prolonged period at, or close to, the lower bound may entail for financial stability and other considerations relevant for medium-term price stability. A revised monetary and financial analysis will facilitate a more systematic evaluation of potential financial vulnerabilities in the future. Finally, in recognition of the exceptional risks that climate change poses to welfare, growth and price stability, and with a view to accelerating the transition to a more sustainable economy, we have committed to a comprehensive climate-related action plan that will culminate in broad changes to our monetary policy implementation framework. In a rapidly changing world, and given the potentially significant structural changes that the end of the pandemic may unleash, we intend to assess periodically the appropriateness of our monetary policy strategy, with the next assessment expected in 2025. Thank you.    See ECB (2021), “The ECB’s monetary policy strategy statement”; and ECB (2021), “An overview of the ECB’s monetary policy strategy. Since the owner-occupied housing price index measured with the net acquisition approach includes an element of investment, the ECB supports further research projects on optimal measurement methods, aiming at better isolating the consumption component from the investment component, with the former being the relevant one for monetary policy. See Schnabel, I. (2020), “COVID-19 and monetary policy: Reinforcing prevailing challenges”, speech at the Bank of Finland Monetary Policy webinar: New Challenges to Monetary Policy Strategies, Frankfurt am Main, 24 November. See Schnabel, I. (2021), “Escaping low inflation?”, speech at the Petersberger Sommerdialog, Frankfurt am Main, 3 July. See Schnabel, I. (2021), “Unconventional fiscal and monetary policy at the zero lower bound”, keynote speech at the Third Annual Conference organised by the European Fiscal Board on “High Debt, Low Rates and Tail Events: Rules-Based Fiscal Frameworks under Stress”, Frankfurt am Main, 26 February. See Schnabel, I. (2021), “From market neutrality to market efficiency”, welcome address at the ECB DG-Research Symposium “Climate change, financial markets and green growth”, Frankfurt am Main, 14 June; Schnabel, I. (2021), “From green neglect to green dominance?”, intervention at the “Greening Monetary Policy – Central Banking and Climate Change” online seminar, organised as part of the “Cleveland Fed Conversations on Central Banking”, Frankfurt am Main, 3 March; Schnabel, I. (2020), “When markets fail – the need for collective action in tackling climate change”, speech at the European Sustainable Finance Summit, Frankfurt am Main, 28 September; Schnabel, I. (2020), “Never waste a crisis: COVID-19, climate change and monetary policy”, speech at a virtual roundtable on “Sustainable Crisis Responses in Europe” organised by the INSPIRE research network, 17 July . See ECB (2021), “ECB presents action plan to include climate change considerations in its monetary policy strategy”, press release, 8 July.'"
            ]
          },
          "metadata": {},
          "execution_count": 6
        }
      ]
    },
    {
      "cell_type": "code",
      "metadata": {
        "id": "kmbzgnoxmwKM"
      },
      "source": [
        "# keep only english speeches\n",
        "%%capture\n",
        "!pip install langdetect\n",
        "from langdetect import detect\n",
        "\n",
        "def detect_en(text):\n",
        "    try:\n",
        "        return detect(text) == 'en'\n",
        "    except:\n",
        "        return False"
      ],
      "execution_count": null,
      "outputs": []
    },
    {
      "cell_type": "code",
      "metadata": {
        "colab": {
          "base_uri": "https://localhost:8080/",
          "height": 293
        },
        "id": "CkGIGseamwH3",
        "outputId": "9bb155bf-c822-4a13-cfb5-a4f9e9f3f4ef"
      },
      "source": [
        "df = ecb[ecb['contents'].apply(detect_en)].reset_index(drop=True)\n",
        "df.head()"
      ],
      "execution_count": null,
      "outputs": [
        {
          "output_type": "execute_result",
          "data": {
            "text/html": [
              "<div>\n",
              "<style scoped>\n",
              "    .dataframe tbody tr th:only-of-type {\n",
              "        vertical-align: middle;\n",
              "    }\n",
              "\n",
              "    .dataframe tbody tr th {\n",
              "        vertical-align: top;\n",
              "    }\n",
              "\n",
              "    .dataframe thead th {\n",
              "        text-align: right;\n",
              "    }\n",
              "</style>\n",
              "<table border=\"1\" class=\"dataframe\">\n",
              "  <thead>\n",
              "    <tr style=\"text-align: right;\">\n",
              "      <th></th>\n",
              "      <th>date</th>\n",
              "      <th>speakers</th>\n",
              "      <th>title</th>\n",
              "      <th>subtitle</th>\n",
              "      <th>contents</th>\n",
              "    </tr>\n",
              "  </thead>\n",
              "  <tbody>\n",
              "    <tr>\n",
              "      <th>0</th>\n",
              "      <td>2021-07-14</td>\n",
              "      <td>Isabel Schnabel</td>\n",
              "      <td>A new strategy for a changing world</td>\n",
              "      <td>Speech by Isabel Schnabel, Member of the Execu...</td>\n",
              "      <td>A new strategy for a changing world   Speech b...</td>\n",
              "    </tr>\n",
              "    <tr>\n",
              "      <th>1</th>\n",
              "      <td>2021-07-11</td>\n",
              "      <td>Christine Lagarde</td>\n",
              "      <td>Climate Change and Central Banks: Analysing, A...</td>\n",
              "      <td>Speech by Christine Lagarde, President of the ...</td>\n",
              "      <td>Climate Change and Central Banks: Analysing, A...</td>\n",
              "    </tr>\n",
              "    <tr>\n",
              "      <th>2</th>\n",
              "      <td>2021-07-08</td>\n",
              "      <td>Christine Lagarde,Luis de Guindos</td>\n",
              "      <td>Opening remarks to the press conference (with ...</td>\n",
              "      <td>Christine Lagarde, President of the ECB, Luis ...</td>\n",
              "      <td>OPENING REMARKS  PRESS CONFERENCE   Christine ...</td>\n",
              "    </tr>\n",
              "    <tr>\n",
              "      <th>3</th>\n",
              "      <td>2021-07-03</td>\n",
              "      <td>Isabel Schnabel</td>\n",
              "      <td>Escaping low inflation?</td>\n",
              "      <td>Speech by Isabel Schnabel, Member of the Execu...</td>\n",
              "      <td>Escaping low inflation?   Speech by Isabel Sch...</td>\n",
              "    </tr>\n",
              "    <tr>\n",
              "      <th>4</th>\n",
              "      <td>2021-06-29</td>\n",
              "      <td>Christine Lagarde</td>\n",
              "      <td>Financing a green and digital recovery</td>\n",
              "      <td>Speech by Christine Lagarde, President of the ...</td>\n",
              "      <td>Financing a green and digital recovery   Speec...</td>\n",
              "    </tr>\n",
              "  </tbody>\n",
              "</table>\n",
              "</div>"
            ],
            "text/plain": [
              "         date  ...                                           contents\n",
              "0  2021-07-14  ...  A new strategy for a changing world   Speech b...\n",
              "1  2021-07-11  ...  Climate Change and Central Banks: Analysing, A...\n",
              "2  2021-07-08  ...  OPENING REMARKS  PRESS CONFERENCE   Christine ...\n",
              "3  2021-07-03  ...  Escaping low inflation?   Speech by Isabel Sch...\n",
              "4  2021-06-29  ...  Financing a green and digital recovery   Speec...\n",
              "\n",
              "[5 rows x 5 columns]"
            ]
          },
          "metadata": {},
          "execution_count": 8
        }
      ]
    },
    {
      "cell_type": "code",
      "metadata": {
        "colab": {
          "base_uri": "https://localhost:8080/"
        },
        "id": "7fmfhLLHnC_n",
        "outputId": "52df6eca-6395-4acd-8db9-35b89d4397e7"
      },
      "source": [
        "df.shape"
      ],
      "execution_count": null,
      "outputs": [
        {
          "output_type": "execute_result",
          "data": {
            "text/plain": [
              "(2314, 5)"
            ]
          },
          "metadata": {},
          "execution_count": 9
        }
      ]
    },
    {
      "cell_type": "code",
      "metadata": {
        "id": "75bSvFMvlwf7"
      },
      "source": [
        "time = df.date.to_list()\n",
        "speeches = df.contents.to_list()"
      ],
      "execution_count": null,
      "outputs": []
    },
    {
      "cell_type": "markdown",
      "metadata": {
        "id": "RTLIVz1Ln8AO"
      },
      "source": [
        "## Topic Modeling"
      ]
    },
    {
      "cell_type": "code",
      "metadata": {
        "id": "47nN1ep6txfz"
      },
      "source": [
        "from bertopic import BERTopic\n",
        "from sklearn.feature_extraction.text import CountVectorizer\n",
        "\n",
        "#ngram_range=(1, 2), vectorizer_model=vectorizer_model\n",
        "#vectorizer_model = CountVectorizer(stop_words=\"english\")\n",
        "topic_model = BERTopic(language='english', nr_topics='auto', verbose=True)"
      ],
      "execution_count": null,
      "outputs": []
    },
    {
      "cell_type": "code",
      "metadata": {
        "colab": {
          "base_uri": "https://localhost:8080/",
          "height": 122,
          "referenced_widgets": [
            "7c58b57b743e444480df7e66ab4a40f0",
            "d200d13cac834bbe9e8fc9334a2437c6",
            "adb05927154046fbb6718d15e660f2d7",
            "1c24d554a8fd4943a7204f22a0a3e60e",
            "240e411278f944f4a4f6b3c78a5a58f6",
            "509ecd14a6294f538db51bf1c7cd5fe2",
            "827eaf1e05ec48d4970d9076b67a3463",
            "e4f7614604e84ca482954b99c573d90b",
            "9ab3bfeed33b46d0b60bdbdb84a9225a",
            "072cf6eaf3fc4b309dae715fe7350d65",
            "142d0c84558d4ada9e756156f31804be"
          ]
        },
        "id": "vIe1lTKct_PQ",
        "outputId": "63be0277-2b9e-452e-88c3-d81b663d46c1"
      },
      "source": [
        "topics, _ = topic_model.fit_transform(speeches)"
      ],
      "execution_count": null,
      "outputs": [
        {
          "output_type": "display_data",
          "data": {
            "application/vnd.jupyter.widget-view+json": {
              "model_id": "7c58b57b743e444480df7e66ab4a40f0",
              "version_minor": 0,
              "version_major": 2
            },
            "text/plain": [
              "Batches:   0%|          | 0/73 [00:00<?, ?it/s]"
            ]
          },
          "metadata": {}
        },
        {
          "output_type": "stream",
          "text": [
            "2021-08-19 09:09:23,338 - BERTopic - Transformed documents to Embeddings\n",
            "2021-08-19 09:09:36,471 - BERTopic - Reduced dimensionality with UMAP\n",
            "2021-08-19 09:09:36,611 - BERTopic - Clustered UMAP embeddings with HDBSCAN\n",
            "2021-08-19 09:10:03,509 - BERTopic - Reduced number of topics from 42 to 26\n"
          ],
          "name": "stderr"
        }
      ]
    },
    {
      "cell_type": "code",
      "metadata": {
        "colab": {
          "base_uri": "https://localhost:8080/"
        },
        "id": "XsTvJ8oAClIZ",
        "outputId": "ea31ea4d-5ffb-4803-cda6-e5220cd41373"
      },
      "source": [
        "freq = topic_model.get_topic_info()\n",
        "print(len(freq), 'topics found')"
      ],
      "execution_count": null,
      "outputs": [
        {
          "output_type": "stream",
          "text": [
            "26 topics found\n"
          ],
          "name": "stdout"
        }
      ]
    },
    {
      "cell_type": "code",
      "metadata": {
        "colab": {
          "base_uri": "https://localhost:8080/",
          "height": 363
        },
        "id": "jiX1arbJCkJx",
        "outputId": "e79baa46-1fac-4dd0-b128-405c50988026"
      },
      "source": [
        "freq.head(10)"
      ],
      "execution_count": null,
      "outputs": [
        {
          "output_type": "execute_result",
          "data": {
            "text/html": [
              "<div>\n",
              "<style scoped>\n",
              "    .dataframe tbody tr th:only-of-type {\n",
              "        vertical-align: middle;\n",
              "    }\n",
              "\n",
              "    .dataframe tbody tr th {\n",
              "        vertical-align: top;\n",
              "    }\n",
              "\n",
              "    .dataframe thead th {\n",
              "        text-align: right;\n",
              "    }\n",
              "</style>\n",
              "<table border=\"1\" class=\"dataframe\">\n",
              "  <thead>\n",
              "    <tr style=\"text-align: right;\">\n",
              "      <th></th>\n",
              "      <th>Topic</th>\n",
              "      <th>Count</th>\n",
              "      <th>Name</th>\n",
              "    </tr>\n",
              "  </thead>\n",
              "  <tbody>\n",
              "    <tr>\n",
              "      <th>0</th>\n",
              "      <td>-1</td>\n",
              "      <td>987</td>\n",
              "      <td>-1_financial_euro_policy_with</td>\n",
              "    </tr>\n",
              "    <tr>\n",
              "      <th>1</th>\n",
              "      <td>0</td>\n",
              "      <td>214</td>\n",
              "      <td>0_policy_monetary_inflation_rates</td>\n",
              "    </tr>\n",
              "    <tr>\n",
              "      <th>2</th>\n",
              "      <td>1</td>\n",
              "      <td>159</td>\n",
              "      <td>1_euro_currency_monetary_international</td>\n",
              "    </tr>\n",
              "    <tr>\n",
              "      <th>3</th>\n",
              "      <td>2</td>\n",
              "      <td>139</td>\n",
              "      <td>2_european_we_euro_economic</td>\n",
              "    </tr>\n",
              "    <tr>\n",
              "      <th>4</th>\n",
              "      <td>3</td>\n",
              "      <td>124</td>\n",
              "      <td>3_financial_crisis_banks_market</td>\n",
              "    </tr>\n",
              "    <tr>\n",
              "      <th>5</th>\n",
              "      <td>4</td>\n",
              "      <td>106</td>\n",
              "      <td>4_financial_integration_market_markets</td>\n",
              "    </tr>\n",
              "    <tr>\n",
              "      <th>6</th>\n",
              "      <td>5</td>\n",
              "      <td>91</td>\n",
              "      <td>5_inflation_growth_euro_economic</td>\n",
              "    </tr>\n",
              "    <tr>\n",
              "      <th>7</th>\n",
              "      <td>6</td>\n",
              "      <td>47</td>\n",
              "      <td>6_payments_payment_digital_services</td>\n",
              "    </tr>\n",
              "    <tr>\n",
              "      <th>8</th>\n",
              "      <td>7</td>\n",
              "      <td>44</td>\n",
              "      <td>7_we_duisenberg_as_euro</td>\n",
              "    </tr>\n",
              "    <tr>\n",
              "      <th>9</th>\n",
              "      <td>8</td>\n",
              "      <td>43</td>\n",
              "      <td>8_banking_banks_supervision_supervisory</td>\n",
              "    </tr>\n",
              "  </tbody>\n",
              "</table>\n",
              "</div>"
            ],
            "text/plain": [
              "   Topic  Count                                     Name\n",
              "0     -1    987            -1_financial_euro_policy_with\n",
              "1      0    214        0_policy_monetary_inflation_rates\n",
              "2      1    159   1_euro_currency_monetary_international\n",
              "3      2    139              2_european_we_euro_economic\n",
              "4      3    124          3_financial_crisis_banks_market\n",
              "5      4    106   4_financial_integration_market_markets\n",
              "6      5     91         5_inflation_growth_euro_economic\n",
              "7      6     47      6_payments_payment_digital_services\n",
              "8      7     44                  7_we_duisenberg_as_euro\n",
              "9      8     43  8_banking_banks_supervision_supervisory"
            ]
          },
          "metadata": {},
          "execution_count": 94
        }
      ]
    },
    {
      "cell_type": "code",
      "metadata": {
        "colab": {
          "base_uri": "https://localhost:8080/"
        },
        "id": "RF_pAPTy1SaT",
        "outputId": "83e37a37-9d70-4116-acff-9cdf46162fc7"
      },
      "source": [
        "topic_model.get_topic(2)"
      ],
      "execution_count": null,
      "outputs": [
        {
          "output_type": "execute_result",
          "data": {
            "text/plain": [
              "[('european', 0.013006621915188204),\n",
              " ('we', 0.011446293621680098),\n",
              " ('euro', 0.010514502650533466),\n",
              " ('economic', 0.010505588746366246),\n",
              " ('europe', 0.010298147060237146),\n",
              " ('monetary', 0.009801458600746469),\n",
              " ('at', 0.009742332716138818),\n",
              " ('policy', 0.009330155252962135),\n",
              " ('central', 0.008765851454780848),\n",
              " ('our', 0.008498030384443129)]"
            ]
          },
          "metadata": {},
          "execution_count": 125
        }
      ]
    },
    {
      "cell_type": "code",
      "metadata": {
        "colab": {
          "base_uri": "https://localhost:8080/"
        },
        "id": "571GxhjDxWUI",
        "outputId": "15765cc2-33e5-4507-f920-607bb6fac956"
      },
      "source": [
        "topic_model.get_topic(5)"
      ],
      "execution_count": null,
      "outputs": [
        {
          "output_type": "execute_result",
          "data": {
            "text/plain": [
              "[('inflation', 0.019876302037333038),\n",
              " ('growth', 0.01599521257949989),\n",
              " ('euro', 0.013037371030419213),\n",
              " ('economic', 0.011790536166280239),\n",
              " ('at', 0.011514893007851188),\n",
              " ('monetary', 0.011404332789565352),\n",
              " ('policy', 0.010511886805650912),\n",
              " ('stability', 0.008519813027432764),\n",
              " ('over', 0.008063084378150336),\n",
              " ('financial', 0.007917040876201225)]"
            ]
          },
          "metadata": {},
          "execution_count": 106
        }
      ]
    },
    {
      "cell_type": "code",
      "metadata": {
        "colab": {
          "base_uri": "https://localhost:8080/"
        },
        "id": "wnC6XG3z1u6M",
        "outputId": "a0dcfb11-1c88-4d03-d134-e20328efc48a"
      },
      "source": [
        "topic_model.get_topic(7)"
      ],
      "execution_count": null,
      "outputs": [
        {
          "output_type": "execute_result",
          "data": {
            "text/plain": [
              "[('we', 0.022005046648586747),\n",
              " ('duisenberg', 0.015422498579115877),\n",
              " ('as', 0.013453463340419448),\n",
              " ('euro', 0.012530686835903032),\n",
              " ('would', 0.011953397061262756),\n",
              " ('at', 0.010681509066488322),\n",
              " ('think', 0.010347226325109175),\n",
              " ('growth', 0.010148849194736857),\n",
              " ('monetary', 0.009967444825097692),\n",
              " ('ecb', 0.009718037323195499)]"
            ]
          },
          "metadata": {},
          "execution_count": 126
        }
      ]
    },
    {
      "cell_type": "code",
      "metadata": {
        "colab": {
          "base_uri": "https://localhost:8080/"
        },
        "id": "OG3OH3-ErV_O",
        "outputId": "8b9762e4-2b3f-4fa6-8503-d2f23d4415fa"
      },
      "source": [
        "topics_over_time = topic_model.topics_over_time(docs=speeches, \n",
        "                                                topics=topics, \n",
        "                                                timestamps=time, \n",
        "                                                global_tuning=True, \n",
        "                                                evolution_tuning=True, \n",
        "                                                nr_bins=20)"
      ],
      "execution_count": null,
      "outputs": [
        {
          "output_type": "stream",
          "text": [
            "20it [00:26,  1.31s/it]\n"
          ],
          "name": "stderr"
        }
      ]
    },
    {
      "cell_type": "code",
      "metadata": {
        "colab": {
          "base_uri": "https://localhost:8080/",
          "height": 487
        },
        "id": "XPXqhd-erV9F",
        "outputId": "fb9caf63-a985-47e5-84da-31c42e080c78"
      },
      "source": [
        "topic_model.visualize_topics_over_time(topics_over_time, top_n_topics=26)"
      ],
      "execution_count": null,
      "outputs": [
        {
          "output_type": "display_data",
          "data": {
            "text/html": [
              "<html>\n",
              "<head><meta charset=\"utf-8\" /></head>\n",
              "<body>\n",
              "    <div>            <script src=\"https://cdnjs.cloudflare.com/ajax/libs/mathjax/2.7.5/MathJax.js?config=TeX-AMS-MML_SVG\"></script><script type=\"text/javascript\">if (window.MathJax) {MathJax.Hub.Config({SVG: {font: \"STIX-Web\"}});}</script>                <script type=\"text/javascript\">window.PlotlyConfig = {MathJaxConfig: 'local'};</script>\n",
              "        <script src=\"https://cdn.plot.ly/plotly-latest.min.js\"></script>                <div id=\"3e897913-1d66-42af-86ca-47d47aad9808\" class=\"plotly-graph-div\" style=\"height:450px; width:1250px;\"></div>            <script type=\"text/javascript\">                                    window.PLOTLYENV=window.PLOTLYENV || {};                                    if (document.getElementById(\"3e897913-1d66-42af-86ca-47d47aad9808\")) {                    Plotly.newPlot(                        \"3e897913-1d66-42af-86ca-47d47aad9808\",                        [{\"hoverinfo\": \"text\", \"hovertext\": [\"<b>Topic 1</b><br>Words: euro, monetary, escb, emu, currency\", \"<b>Topic 1</b><br>Words: euro, monetary, area, currency, stability\", \"<b>Topic 1</b><br>Words: euro, currency, international, monetary, policy\", \"<b>Topic 1</b><br>Words: euro, currency, monetary, international, banknotes\", \"<b>Topic 1</b><br>Words: euro, currency, international, monetary, stability\", \"<b>Topic 1</b><br>Words: euro, currency, exchange, countries, international\", \"<b>Topic 1</b><br>Words: euro, monetary, area, policy, currency\", \"<b>Topic 1</b><br>Words: euro, monetary, policy, money, currency\", \"<b>Topic 1</b><br>Words: euro, cyprus, currency, exchange, international\", \"<b>Topic 1</b><br>Words: euro, monetary, stability, currency, international\", \"<b>Topic 1</b><br>Words: euro, countries, cee, crisis, financial\", \"<b>Topic 1</b><br>Words: euro, currency, sepa, monetary, international\", \"<b>Topic 1</b><br>Words: euro, banks, monetary, currency, liquidity\", \"<b>Topic 1</b><br>Words: cash, banknotes, euro, banknote, value\", \"<b>Topic 1</b><br>Words: euro, monetary, european, union, policy\", \"<b>Topic 1</b><br>Words: international, currency, euro, economic, european\", \"<b>Topic 1</b><br>Words: euro, cash, currency, tender, european\", \"<b>Topic 1</b><br>Words: euro, currency, international, monetary, european\", \"<b>Topic 1</b><br>Words: euro, currency, payments, payment, international\"], \"marker\": {\"color\": \"#E69F00\"}, \"mode\": \"lines\", \"name\": \"1_euro_currency_monetary_international\", \"type\": \"scatter\", \"x\": [\"1997-01-29T01:50:52.800000\", \"1998-04-29T03:36:00\", \"1999-07-19T07:12:00\", \"2000-10-07T10:48:00\", \"2001-12-27T14:24:00\", \"2003-03-18T18:00:00\", \"2004-06-06T21:36:00\", \"2005-08-27T01:12:00\", \"2006-11-16T04:48:00\", \"2008-02-05T08:24:00\", \"2009-04-26T12:00:00\", \"2010-07-16T15:36:00\", \"2011-10-05T19:12:00\", \"2012-12-24T22:48:00\", \"2014-03-16T02:24:00\", \"2015-06-05T06:00:00\", \"2017-11-13T13:12:00\", \"2019-02-02T16:48:00\", \"2020-04-23T20:24:00\"], \"y\": [13, 40, 17, 10, 14, 8, 7, 3, 3, 6, 3, 6, 3, 2, 5, 3, 5, 7, 4]}, {\"hoverinfo\": \"text\", \"hovertext\": [\"<b>Topic 2</b><br>Words: has, control, monetary, rates, policy\", \"<b>Topic 2</b><br>Words: european, escb, central, monetary, europe\", \"<b>Topic 2</b><br>Words: monetary, euro, as, economic, stability\", \"<b>Topic 2</b><br>Words: monetary, policy, euro, central, european\", \"<b>Topic 2</b><br>Words: policy, fiscal, monetary, european, central\", \"<b>Topic 2</b><br>Words: european, growth, monetary, policy, economic\", \"<b>Topic 2</b><br>Words: financial, european, international, economic, monetary\", \"<b>Topic 2</b><br>Words: euro, central, ecb, european, financial\", \"<b>Topic 2</b><br>Words: european, central, euro, economic, at\", \"<b>Topic 2</b><br>Words: central, bank, financial, european, stability\", \"<b>Topic 2</b><br>Words: european, economic, we, euro, countries\", \"<b>Topic 2</b><br>Words: european, euro, with, europe, union\", \"<b>Topic 2</b><br>Words: european, we, are, with, economic\", \"<b>Topic 2</b><br>Words: european, with, we, central, union\", \"<b>Topic 2</b><br>Words: we, union, euro, economic, european\", \"<b>Topic 2</b><br>Words: european, europe, economic, with, union\", \"<b>Topic 2</b><br>Words: we, european, with, at, economic\", \"<b>Topic 2</b><br>Words: europe, european, eu, we, have\", \"<b>Topic 2</b><br>Words: european, crisis, we, europe, pandemic\"], \"marker\": {\"color\": \"#56B4E9\"}, \"mode\": \"lines\", \"name\": \"2_european_we_euro_economic\", \"type\": \"scatter\", \"x\": [\"1997-01-29T01:50:52.800000\", \"1998-04-29T03:36:00\", \"1999-07-19T07:12:00\", \"2000-10-07T10:48:00\", \"2001-12-27T14:24:00\", \"2003-03-18T18:00:00\", \"2004-06-06T21:36:00\", \"2006-11-16T04:48:00\", \"2008-02-05T08:24:00\", \"2009-04-26T12:00:00\", \"2010-07-16T15:36:00\", \"2011-10-05T19:12:00\", \"2012-12-24T22:48:00\", \"2014-03-16T02:24:00\", \"2015-06-05T06:00:00\", \"2016-08-24T09:36:00\", \"2017-11-13T13:12:00\", \"2019-02-02T16:48:00\", \"2020-04-23T20:24:00\"], \"y\": [1, 1, 7, 3, 6, 6, 7, 5, 15, 8, 13, 14, 14, 4, 6, 12, 5, 7, 5]}, {\"hoverinfo\": \"text\", \"hovertext\": [\"<b>Topic 4</b><br>Words: emi, emu, european, monetary, integration\", \"<b>Topic 4</b><br>Words: markets, market, capital, euro, financial\", \"<b>Topic 4</b><br>Words: financial, markets, integration, market, euro\", \"<b>Topic 4</b><br>Words: integration, financial, market, markets, european\", \"<b>Topic 4</b><br>Words: integration, financial, market, european, settlement\", \"<b>Topic 4</b><br>Words: integration, financial, market, markets, european\", \"<b>Topic 4</b><br>Words: integration, financial, market, markets, european\", \"<b>Topic 4</b><br>Words: integration, financial, market, countries, european\", \"<b>Topic 4</b><br>Words: financial, integration, market, markets, european\", \"<b>Topic 4</b><br>Words: sovereign, spreads, financial, bond, crisis\", \"<b>Topic 4</b><br>Words: financial, market, institutions, markets, european\", \"<b>Topic 4</b><br>Words: financial, integration, market, european, markets\", \"<b>Topic 4</b><br>Words: integration, financial, market, european, euro\", \"<b>Topic 4</b><br>Words: integration, financial, european, banking, banks\", \"<b>Topic 4</b><br>Words: financial, markets, integration, market, cmu\", \"<b>Topic 4</b><br>Words: union, integration, banking, financial, markets\", \"<b>Topic 4</b><br>Words: financial, european, markets, banking, capital\", \"<b>Topic 4</b><br>Words: financial, integration, european, market, markets\"], \"marker\": {\"color\": \"#009E73\"}, \"mode\": \"lines\", \"name\": \"4_financial_integration_market_markets\", \"type\": \"scatter\", \"x\": [\"1997-01-29T01:50:52.800000\", \"1998-04-29T03:36:00\", \"1999-07-19T07:12:00\", \"2001-12-27T14:24:00\", \"2003-03-18T18:00:00\", \"2004-06-06T21:36:00\", \"2005-08-27T01:12:00\", \"2006-11-16T04:48:00\", \"2008-02-05T08:24:00\", \"2009-04-26T12:00:00\", \"2010-07-16T15:36:00\", \"2011-10-05T19:12:00\", \"2012-12-24T22:48:00\", \"2014-03-16T02:24:00\", \"2015-06-05T06:00:00\", \"2016-08-24T09:36:00\", \"2017-11-13T13:12:00\", \"2019-02-02T16:48:00\"], \"y\": [1, 4, 4, 5, 11, 14, 9, 8, 14, 1, 2, 4, 5, 3, 7, 3, 5, 6]}, {\"hoverinfo\": \"text\", \"hovertext\": [\"<b>Topic 23</b><br>Words: escb, independence, policy, monetary, treaty\", \"<b>Topic 23</b><br>Words: bank, ecb, law, article, national\", \"<b>Topic 23</b><br>Words: policies, fiscal, independence, monetary, policy\", \"<b>Topic 23</b><br>Words: ecb, bank, treaty, monetary, escb\", \"<b>Topic 23</b><br>Words: independence, bank, policy, monetary, banks\", \"<b>Topic 23</b><br>Words: ecb, bank, monetary, accountability, mandate\", \"<b>Topic 23</b><br>Words: independence, ecb, climate, policy, banks\"], \"marker\": {\"color\": \"#F0E442\"}, \"mode\": \"lines\", \"name\": \"23_ecb_bank_policy_monetary\", \"type\": \"scatter\", \"x\": [\"1997-01-29T01:50:52.800000\", \"2006-11-16T04:48:00\", \"2014-03-16T02:24:00\", \"2016-08-24T09:36:00\", \"2017-11-13T13:12:00\", \"2019-02-02T16:48:00\", \"2020-04-23T20:24:00\"], \"y\": [2, 1, 1, 2, 2, 2, 1]}, {\"hoverinfo\": \"text\", \"hovertext\": [\"<b>Topic 0</b><br>Words: money, monetary, hayek, policy, hayeks\", \"<b>Topic 0</b><br>Words: policy, monetary, ecb, forecasts, strategy\", \"<b>Topic 0</b><br>Words: monetary, policy, ecb, markets, central\", \"<b>Topic 0</b><br>Words: policy, monetary, central, inflation, economic\", \"<b>Topic 0</b><br>Words: monetary, policy, inflation, stability, central\", \"<b>Topic 0</b><br>Words: monetary, policy, inflation, expectations, tax\", \"<b>Topic 0</b><br>Words: monetary, policy, inflation, central, at\", \"<b>Topic 0</b><br>Words: policy, monetary, inflation, central, expectations\", \"<b>Topic 0</b><br>Words: monetary, policy, inflation, financial, rates\", \"<b>Topic 0</b><br>Words: policy, monetary, financial, at, banks\", \"<b>Topic 0</b><br>Words: policy, monetary, inflation, central, at\", \"<b>Topic 0</b><br>Words: monetary, policy, financial, inflation, central\", \"<b>Topic 0</b><br>Words: policy, monetary, central, as, at\", \"<b>Topic 0</b><br>Words: policy, monetary, inflation, at, rates\", \"<b>Topic 0</b><br>Words: policy, monetary, inflation, rates, at\", \"<b>Topic 0</b><br>Words: policy, monetary, rates, inflation, rate\", \"<b>Topic 0</b><br>Words: policy, monetary, inflation, rates, at\", \"<b>Topic 0</b><br>Words: policy, monetary, rates, inflation, interest\", \"<b>Topic 0</b><br>Words: policy, monetary, inflation, rates, fiscal\"], \"marker\": {\"color\": \"#D55E00\"}, \"mode\": \"lines\", \"name\": \"0_policy_monetary_inflation_rates\", \"type\": \"scatter\", \"x\": [\"1998-04-29T03:36:00\", \"1999-07-19T07:12:00\", \"2000-10-07T10:48:00\", \"2001-12-27T14:24:00\", \"2003-03-18T18:00:00\", \"2004-06-06T21:36:00\", \"2005-08-27T01:12:00\", \"2006-11-16T04:48:00\", \"2008-02-05T08:24:00\", \"2009-04-26T12:00:00\", \"2010-07-16T15:36:00\", \"2011-10-05T19:12:00\", \"2012-12-24T22:48:00\", \"2014-03-16T02:24:00\", \"2015-06-05T06:00:00\", \"2016-08-24T09:36:00\", \"2017-11-13T13:12:00\", \"2019-02-02T16:48:00\", \"2020-04-23T20:24:00\"], \"y\": [2, 1, 5, 5, 10, 5, 9, 8, 7, 10, 11, 11, 18, 23, 18, 28, 20, 11, 12]}, {\"hoverinfo\": \"text\", \"hovertext\": [\"<b>Topic 5</b><br>Words: european, monetary, central, union, economic\", \"<b>Topic 5</b><br>Words: growth, policy, economic, stability, inflation\", \"<b>Topic 5</b><br>Words: inflation, growth, euro, economic, monetary\", \"<b>Topic 5</b><br>Words: growth, inflation, economic, euro, de\", \"<b>Topic 5</b><br>Words: inflation, growth, euro, economic, monetary\", \"<b>Topic 5</b><br>Words: de, inflation, financial, growth, euro\", \"<b>Topic 5</b><br>Words: financial, risk, inflation, in, crisis\", \"<b>Topic 5</b><br>Words: le, euro, inflation, de, stability\", \"<b>Topic 5</b><br>Words: euro, ratings, ecb, efsf, inflation\", \"<b>Topic 5</b><br>Words: euro, reforms, countries, economic, growth\", \"<b>Topic 5</b><br>Words: inflation, euro, growth, policy, global\", \"<b>Topic 5</b><br>Words: inflation, growth, euro, policy, recovery\", \"<b>Topic 5</b><br>Words: inflation, growth, euro, at, economic\", \"<b>Topic 5</b><br>Words: inflation, growth, euro, 2019, remain\", \"<b>Topic 5</b><br>Words: inflation, slide, chart, prices, price\"], \"marker\": {\"color\": \"#0072B2\"}, \"mode\": \"lines\", \"name\": \"5_inflation_growth_euro_economic\", \"type\": \"scatter\", \"x\": [\"1998-04-29T03:36:00\", \"1999-07-19T07:12:00\", \"2004-06-06T21:36:00\", \"2005-08-27T01:12:00\", \"2006-11-16T04:48:00\", \"2008-02-05T08:24:00\", \"2009-04-26T12:00:00\", \"2010-07-16T15:36:00\", \"2011-10-05T19:12:00\", \"2012-12-24T22:48:00\", \"2015-06-05T06:00:00\", \"2016-08-24T09:36:00\", \"2017-11-13T13:12:00\", \"2019-02-02T16:48:00\", \"2020-04-23T20:24:00\"], \"y\": [1, 2, 9, 7, 10, 9, 2, 1, 1, 2, 3, 18, 17, 8, 1]}, {\"hoverinfo\": \"text\", \"hovertext\": [\"<b>Topic 7</b><br>Words: we, duisenberg, as, council, euro\", \"<b>Topic 7</b><br>Words: we, have, duisenberg, as, euro\", \"<b>Topic 7</b><br>Words: we, have, duisenberg, be, as\", \"<b>Topic 7</b><br>Words: we, have, duisenberg, euro, will\", \"<b>Topic 7</b><br>Words: economic, euro, we, growth, monetary\", \"<b>Topic 7</b><br>Words: have, has, ten, years, we\", \"<b>Topic 7</b><br>Words: imbalances, we, monetary, be, fiscal\", \"<b>Topic 7</b><br>Words: we, euro, as, at, our\", \"<b>Topic 7</b><br>Words: we, monetary, euro, by, policy\", \"<b>Topic 7</b><br>Words: we, european, central, monetary, policy\", \"<b>Topic 7</b><br>Words: our, committee, as, inflation, with\", \"<b>Topic 7</b><br>Words: we, our, ecb, european, pandemic\"], \"marker\": {\"color\": \"#CC79A7\"}, \"mode\": \"lines\", \"name\": \"7_we_duisenberg_as_euro\", \"type\": \"scatter\", \"x\": [\"1998-04-29T03:36:00\", \"1999-07-19T07:12:00\", \"2000-10-07T10:48:00\", \"2001-12-27T14:24:00\", \"2003-03-18T18:00:00\", \"2008-02-05T08:24:00\", \"2009-04-26T12:00:00\", \"2010-07-16T15:36:00\", \"2014-03-16T02:24:00\", \"2015-06-05T06:00:00\", \"2019-02-02T16:48:00\", \"2020-04-23T20:24:00\"], \"y\": [8, 6, 5, 5, 4, 1, 1, 4, 1, 2, 2, 5]}, {\"hoverinfo\": \"text\", \"hovertext\": [\"<b>Topic 13</b><br>Words: statistics, data, monetary, ecb, eurostat\", \"<b>Topic 13</b><br>Words: statistics, statistical, data, monetary, ecb\", \"<b>Topic 13</b><br>Words: statistics, statistical, ecb, european, economic\", \"<b>Topic 13</b><br>Words: statistics, statistical, data, monetary, analysis\", \"<b>Topic 13</b><br>Words: statistics, statistical, data, financial, ecb\", \"<b>Topic 13</b><br>Words: financial, european, euro, eur, sectoral\", \"<b>Topic 13</b><br>Words: statistics, statistical, data, monetary, ecb\", \"<b>Topic 13</b><br>Words: statistics, funds, investment, fund, information\", \"<b>Topic 13</b><br>Words: statistics, statistical, data, financial, ecb\", \"<b>Topic 13</b><br>Words: statistics, data, statistical, information, reporting\", \"<b>Topic 13</b><br>Words: statistics, statistical, ecb, supervisory, conference\", \"<b>Topic 13</b><br>Words: statistics, data, information, ecb, escb\", \"<b>Topic 13</b><br>Words: statistics, data, statistical, we, facts\", \"<b>Topic 13</b><br>Words: statistics, data, statistical, financial, euro\", \"<b>Topic 13</b><br>Words: statistics, data, statistical, financial, ecb\"], \"marker\": {\"color\": \"#E69F00\"}, \"mode\": \"lines\", \"name\": \"13_statistics_statistical_data_ecb\", \"type\": \"scatter\", \"x\": [\"1998-04-29T03:36:00\", \"2000-10-07T10:48:00\", \"2003-03-18T18:00:00\", \"2004-06-06T21:36:00\", \"2005-08-27T01:12:00\", \"2006-11-16T04:48:00\", \"2008-02-05T08:24:00\", \"2009-04-26T12:00:00\", \"2010-07-16T15:36:00\", \"2011-10-05T19:12:00\", \"2014-03-16T02:24:00\", \"2015-06-05T06:00:00\", \"2017-11-13T13:12:00\", \"2019-02-02T16:48:00\", \"2020-04-23T20:24:00\"], \"y\": [1, 2, 4, 1, 3, 1, 3, 1, 3, 2, 1, 3, 1, 2, 1]}, {\"hoverinfo\": \"text\", \"hovertext\": [\"<b>Topic 15</b><br>Words: der, sehr, euro, ecb, und\", \"<b>Topic 15</b><br>Words: euro, growth, labour, economic, countries\", \"<b>Topic 15</b><br>Words: euro, labour, economic, growth, states\", \"<b>Topic 15</b><br>Words: euro, der, labour, growth, und\", \"<b>Topic 15</b><br>Words: we, euro, our, financial, der\", \"<b>Topic 15</b><br>Words: und, der, euro, ist, zu\", \"<b>Topic 15</b><br>Words: euro, we, our, countries, germany\"], \"marker\": {\"color\": \"#56B4E9\"}, \"mode\": \"lines\", \"name\": \"15_euro_der_growth_labour\", \"type\": \"scatter\", \"x\": [\"1998-04-29T03:36:00\", \"2005-08-27T01:12:00\", \"2006-11-16T04:48:00\", \"2008-02-05T08:24:00\", \"2009-04-26T12:00:00\", \"2010-07-16T15:36:00\", \"2011-10-05T19:12:00\"], \"y\": [3, 3, 3, 4, 6, 4, 2]}, {\"hoverinfo\": \"text\", \"hovertext\": [\"<b>Topic 6</b><br>Words: payment, payments, systems, money, settlement\", \"<b>Topic 6</b><br>Words: payment, payments, consolidation, banking, eurosystem\", \"<b>Topic 6</b><br>Words: payment, payments, bank, system, systems\", \"<b>Topic 6</b><br>Words: payment, payments, card, fraud, cards\", \"<b>Topic 6</b><br>Words: payment, payments, valueadded, electronic, sepa\", \"<b>Topic 6</b><br>Words: payment, payments, sepa, industry, banks\", \"<b>Topic 6</b><br>Words: payment, payments, retail, banking, innovation\", \"<b>Topic 6</b><br>Words: retail, sales, consumption, payments, payment\", \"<b>Topic 6</b><br>Words: payments, payment, services, service, providers\", \"<b>Topic 6</b><br>Words: payments, payment, dbm, services, bank\", \"<b>Topic 6</b><br>Words: payments, payment, vcs, services, retail\", \"<b>Topic 6</b><br>Words: payments, payment, services, retail, european\", \"<b>Topic 6</b><br>Words: payments, payment, cash, bank, retail\"], \"marker\": {\"color\": \"#009E73\"}, \"mode\": \"lines\", \"name\": \"6_payments_payment_digital_services\", \"type\": \"scatter\", \"x\": [\"1999-07-19T07:12:00\", \"2000-10-07T10:48:00\", \"2003-03-18T18:00:00\", \"2004-06-06T21:36:00\", \"2005-08-27T01:12:00\", \"2006-11-16T04:48:00\", \"2009-04-26T12:00:00\", \"2010-07-16T15:36:00\", \"2015-06-05T06:00:00\", \"2016-08-24T09:36:00\", \"2017-11-13T13:12:00\", \"2019-02-02T16:48:00\", \"2020-04-23T20:24:00\"], \"y\": [2, 1, 1, 2, 1, 2, 1, 1, 4, 8, 9, 7, 8]}, {\"hoverinfo\": \"text\", \"hovertext\": [\"<b>Topic 8</b><br>Words: banking, competition, banks, supervision, system\", \"<b>Topic 8</b><br>Words: supervisory, supervision, banking, regulation, financial\", \"<b>Topic 8</b><br>Words: banking, banks, eu, sector, supervision\", \"<b>Topic 8</b><br>Words: supervisory, groups, banking, banks, financial\", \"<b>Topic 8</b><br>Words: banking, financial, supervision, supervisory, global\", \"<b>Topic 8</b><br>Words: financial, system, banking, banks, global\", \"<b>Topic 8</b><br>Words: financial, macroprudential, banking, supervisory, risk\", \"<b>Topic 8</b><br>Words: financial, supervisory, european, banking, banks\", \"<b>Topic 8</b><br>Words: repo, banking, market, banks, financial\", \"<b>Topic 8</b><br>Words: ssm, banking, supervisory, banks, supervision\", \"<b>Topic 8</b><br>Words: supervision, banks, banking, supervisory, ssm\", \"<b>Topic 8</b><br>Words: banking, banks, supervisory, supervision, ssm\", \"<b>Topic 8</b><br>Words: banks, banking, supervision, rules, european\", \"<b>Topic 8</b><br>Words: supervisory, banks, supervision, banking, npls\", \"<b>Topic 8</b><br>Words: macroprudential, banking, banks, capital, financial\"], \"marker\": {\"color\": \"#F0E442\"}, \"mode\": \"lines\", \"name\": \"8_banking_banks_supervision_supervisory\", \"type\": \"scatter\", \"x\": [\"1999-07-19T07:12:00\", \"2001-12-27T14:24:00\", \"2003-03-18T18:00:00\", \"2004-06-06T21:36:00\", \"2005-08-27T01:12:00\", \"2008-02-05T08:24:00\", \"2009-04-26T12:00:00\", \"2010-07-16T15:36:00\", \"2011-10-05T19:12:00\", \"2012-12-24T22:48:00\", \"2014-03-16T02:24:00\", \"2015-06-05T06:00:00\", \"2016-08-24T09:36:00\", \"2017-11-13T13:12:00\", \"2019-02-02T16:48:00\"], \"y\": [1, 1, 1, 1, 2, 1, 1, 2, 1, 4, 7, 6, 10, 4, 1]}, {\"hoverinfo\": \"text\", \"hovertext\": [\"<b>Topic 11</b><br>Words: financial, stability, banking, banks, market\", \"<b>Topic 11</b><br>Words: financial, standards, regulation, risk, macroprudential\", \"<b>Topic 11</b><br>Words: financial, risk, stability, institutions, banks\", \"<b>Topic 11</b><br>Words: financial, funds, risks, risk, credit\", \"<b>Topic 11</b><br>Words: financial, macroprudential, institutions, systemic, supervision\", \"<b>Topic 11</b><br>Words: financial, risk, macroprudential, system, stability\", \"<b>Topic 11</b><br>Words: financial, macroprudential, risk, systemic, stability\", \"<b>Topic 11</b><br>Words: financial, macroprudential, risk, data, stability\", \"<b>Topic 11</b><br>Words: banking, financial, union, banks, europe\", \"<b>Topic 11</b><br>Words: macroprudential, financial, risk, stability, capital\", \"<b>Topic 11</b><br>Words: macroprudential, financial, risk, leverage, margin\", \"<b>Topic 11</b><br>Words: macroprudential, financial, risk, banking, leverage\", \"<b>Topic 11</b><br>Words: stability, financial, macroprudential, ecb, institutions\", \"<b>Topic 11</b><br>Words: macroprudential, financial, risk, systemic, banks\"], \"marker\": {\"color\": \"#D55E00\"}, \"mode\": \"lines\", \"name\": \"11_financial_macroprudential_risk_system...\", \"type\": \"scatter\", \"x\": [\"1999-07-19T07:12:00\", \"2001-12-27T14:24:00\", \"2003-03-18T18:00:00\", \"2006-11-16T04:48:00\", \"2008-02-05T08:24:00\", \"2009-04-26T12:00:00\", \"2010-07-16T15:36:00\", \"2011-10-05T19:12:00\", \"2012-12-24T22:48:00\", \"2014-03-16T02:24:00\", \"2015-06-05T06:00:00\", \"2016-08-24T09:36:00\", \"2017-11-13T13:12:00\", \"2019-02-02T16:48:00\"], \"y\": [1, 1, 1, 1, 3, 3, 7, 4, 1, 2, 3, 1, 1, 5]}, {\"hoverinfo\": \"text\", \"hovertext\": [\"<b>Topic 14</b><br>Words: monetary, decisions, ecbs, policy, economic\", \"<b>Topic 14</b><br>Words: settlement, securities, consolidation, bank, market\", \"<b>Topic 14</b><br>Words: inflation, ecb, stability, central, strategy\", \"<b>Topic 14</b><br>Words: financial, stability, risk, vulnerability, ecb\", \"<b>Topic 14</b><br>Words: financial, euro, banks, risk, sector\", \"<b>Topic 14</b><br>Words: credit, financial, risk, market, slide\", \"<b>Topic 14</b><br>Words: financial, losses, euro, banks, market\", \"<b>Topic 14</b><br>Words: financial, euro, risks, risk, banks\", \"<b>Topic 14</b><br>Words: ccps, risks, risk, financial, ccp\", \"<b>Topic 14</b><br>Words: ccps, ccp, clearing, recovery, financial\", \"<b>Topic 14</b><br>Words: interoperability, ccp, ccps, emir, risk\", \"<b>Topic 14</b><br>Words: ccps, banks, ccp, clearing, central\", \"<b>Topic 14</b><br>Words: ccp, ccps, recovery, planning, eu\", \"<b>Topic 14</b><br>Words: ccps, eu, derivatives, markets, financial\"], \"marker\": {\"color\": \"#0072B2\"}, \"mode\": \"lines\", \"name\": \"14_ccps_financial_ccp_risk\", \"type\": \"scatter\", \"x\": [\"1999-07-19T07:12:00\", \"2000-10-07T10:48:00\", \"2001-12-27T14:24:00\", \"2004-06-06T21:36:00\", \"2005-08-27T01:12:00\", \"2006-11-16T04:48:00\", \"2008-02-05T08:24:00\", \"2009-04-26T12:00:00\", \"2012-12-24T22:48:00\", \"2014-03-16T02:24:00\", \"2015-06-05T06:00:00\", \"2016-08-24T09:36:00\", \"2017-11-13T13:12:00\", \"2020-04-23T20:24:00\"], \"y\": [1, 1, 1, 2, 2, 3, 2, 3, 1, 4, 1, 4, 1, 1]}, {\"hoverinfo\": \"text\", \"hovertext\": [\"<b>Topic 18</b><br>Words: risk, asset, stability, financial, prices\", \"<b>Topic 18</b><br>Words: uncertainty, risk, monetary, risks, economic\", \"<b>Topic 18</b><br>Words: risk, credit, financial, transfer, market\", \"<b>Topic 18</b><br>Words: risk, financial, market, price, markets\", \"<b>Topic 18</b><br>Words: risk, financial, systemic, credit, banks\", \"<b>Topic 18</b><br>Words: risk, management, financial, risks, banks\", \"<b>Topic 18</b><br>Words: risk, banks, risks, financial, crisis\", \"<b>Topic 18</b><br>Words: risk, banks, financial, leveraged, uncertainty\", \"<b>Topic 18</b><br>Words: risk, management, banks, risks, financial\", \"<b>Topic 18</b><br>Words: risk, management, collateral, financial, principles\", \"<b>Topic 18</b><br>Words: ccps, risk, clearing, banks, ccp\"], \"marker\": {\"color\": \"#CC79A7\"}, \"mode\": \"lines\", \"name\": \"18_risk_financial_management_banks\", \"type\": \"scatter\", \"x\": [\"1999-07-19T07:12:00\", \"2001-12-27T14:24:00\", \"2005-08-27T01:12:00\", \"2008-02-05T08:24:00\", \"2009-04-26T12:00:00\", \"2010-07-16T15:36:00\", \"2012-12-24T22:48:00\", \"2015-06-05T06:00:00\", \"2016-08-24T09:36:00\", \"2017-11-13T13:12:00\", \"2019-02-02T16:48:00\"], \"y\": [1, 1, 1, 2, 4, 3, 1, 2, 3, 1, 2]}, {\"hoverinfo\": \"text\", \"hovertext\": [\"<b>Topic 3</b><br>Words: financial, markets, market, euro, economic\", \"<b>Topic 3</b><br>Words: volatility, financial, market, markets, are\", \"<b>Topic 3</b><br>Words: exchange, financial, rate, international, crisis\", \"<b>Topic 3</b><br>Words: euro, differentials, countries, statistics, inflation\", \"<b>Topic 3</b><br>Words: financial, market, global, liquidity, at\", \"<b>Topic 3</b><br>Words: financial, liquidity, market, banks, markets\", \"<b>Topic 3</b><br>Words: financial, crisis, banks, market, economic\", \"<b>Topic 3</b><br>Words: financial, crisis, policy, banks, economic\", \"<b>Topic 3</b><br>Words: financial, crisis, banks, fiscal, euro\", \"<b>Topic 3</b><br>Words: financial, crisis, countries, banks, euro\", \"<b>Topic 3</b><br>Words: financial, macroprudential, banks, crisis, banking\", \"<b>Topic 3</b><br>Words: we, banks, greek, money, crisis\", \"<b>Topic 3</b><br>Words: financial, banks, crisis, euro, at\", \"<b>Topic 3</b><br>Words: banks, financial, crisis, bank, have\", \"<b>Topic 3</b><br>Words: market, firms, uncertainty, economic, financial\", \"<b>Topic 3</b><br>Words: sustainable, financial, climate, environmental, for\"], \"marker\": {\"color\": \"#E69F00\"}, \"mode\": \"lines\", \"name\": \"3_financial_crisis_banks_market\", \"type\": \"scatter\", \"x\": [\"2000-10-07T10:48:00\", \"2003-03-18T18:00:00\", \"2004-06-06T21:36:00\", \"2005-08-27T01:12:00\", \"2006-11-16T04:48:00\", \"2008-02-05T08:24:00\", \"2009-04-26T12:00:00\", \"2010-07-16T15:36:00\", \"2011-10-05T19:12:00\", \"2012-12-24T22:48:00\", \"2014-03-16T02:24:00\", \"2015-06-05T06:00:00\", \"2016-08-24T09:36:00\", \"2017-11-13T13:12:00\", \"2019-02-02T16:48:00\", \"2020-04-23T20:24:00\"], \"y\": [2, 2, 2, 2, 4, 24, 28, 12, 14, 10, 5, 1, 8, 4, 3, 3]}, {\"hoverinfo\": \"text\", \"hovertext\": [\"<b>Topic 12</b><br>Words: new, euro, growth, economic, economy\", \"<b>Topic 12</b><br>Words: growth, countries, eu, economy, reforms\", \"<b>Topic 12</b><br>Words: growth, reforms, labour, economic, productivity\", \"<b>Topic 12</b><br>Words: productivity, growth, labour, euro, reforms\", \"<b>Topic 12</b><br>Words: labour, growth, productivity, euro, reforms\", \"<b>Topic 12</b><br>Words: euro, productivity, competitiveness, growth, labour\", \"<b>Topic 12</b><br>Words: growth, global, financial, crisis, reforms\", \"<b>Topic 12</b><br>Words: growth, labour, economic, euro, productivity\", \"<b>Topic 12</b><br>Words: growth, euro, labour, competitiveness, countries\", \"<b>Topic 12</b><br>Words: global, euro, growth, economic, governance\", \"<b>Topic 12</b><br>Words: reforms, growth, productivity, labour, euro\", \"<b>Topic 12</b><br>Words: reforms, growth, labour, euro, productivity\", \"<b>Topic 12</b><br>Words: growth, productivity, euro, labour, reforms\", \"<b>Topic 12</b><br>Words: growth, productivity, economic, euro, firms\", \"<b>Topic 12</b><br>Words: growth, 2020, euro, pandemic, economic\"], \"marker\": {\"color\": \"#56B4E9\"}, \"mode\": \"lines\", \"name\": \"12_growth_labour_productivity_euro\", \"type\": \"scatter\", \"x\": [\"2000-10-07T10:48:00\", \"2003-03-18T18:00:00\", \"2004-06-06T21:36:00\", \"2005-08-27T01:12:00\", \"2006-11-16T04:48:00\", \"2008-02-05T08:24:00\", \"2009-04-26T12:00:00\", \"2010-07-16T15:36:00\", \"2011-10-05T19:12:00\", \"2012-12-24T22:48:00\", \"2014-03-16T02:24:00\", \"2015-06-05T06:00:00\", \"2016-08-24T09:36:00\", \"2019-02-02T16:48:00\", \"2020-04-23T20:24:00\"], \"y\": [1, 1, 1, 4, 4, 3, 1, 2, 2, 3, 2, 4, 2, 1, 1]}, {\"hoverinfo\": \"text\", \"hovertext\": [\"<b>Topic 9</b><br>Words: accession, countries, euro, financial, sector\", \"<b>Topic 9</b><br>Words: euro, slovenia, convergence, changeover, countries\", \"<b>Topic 9</b><br>Words: euro, slovakia, exhibition, europe, banknotes\", \"<b>Topic 9</b><br>Words: euro, exhibition, banknotes, financial, european\", \"<b>Topic 9</b><br>Words: euro, estonia, banknotes, countries, coins\", \"<b>Topic 9</b><br>Words: exhibition, euro, europa, banknotes, new\", \"<b>Topic 9</b><br>Words: low, euro, our, we, inflation\", \"<b>Topic 9</b><br>Words: euro, we, europe, countries, integration\", \"<b>Topic 9</b><br>Words: euro, countries, stability, financial, european\"], \"marker\": {\"color\": \"#009E73\"}, \"mode\": \"lines\", \"name\": \"9_euro_exhibition_countries_banknotes\", \"type\": \"scatter\", \"x\": [\"2001-12-27T14:24:00\", \"2006-11-16T04:48:00\", \"2008-02-05T08:24:00\", \"2009-04-26T12:00:00\", \"2010-07-16T15:36:00\", \"2012-12-24T22:48:00\", \"2015-06-05T06:00:00\", \"2016-08-24T09:36:00\", \"2017-11-13T13:12:00\"], \"y\": [1, 9, 6, 5, 5, 3, 1, 1, 5]}, {\"hoverinfo\": \"text\", \"hovertext\": [\"<b>Topic 22</b><br>Words: accession, countries, enlargement, convergence, eu\", \"<b>Topic 22</b><br>Words: convergence, eu, countries, enlargement, fiscal\", \"<b>Topic 22</b><br>Words: convergence, countries, eu, states, euro\", \"<b>Topic 22</b><br>Words: convergence, eu, economies, growth, countries\"], \"marker\": {\"color\": \"#F0E442\"}, \"mode\": \"lines\", \"name\": \"22_convergence_eu_countries_enlargement\", \"type\": \"scatter\", \"x\": [\"2003-03-18T18:00:00\", \"2004-06-06T21:36:00\", \"2014-03-16T02:24:00\", \"2017-11-13T13:12:00\"], \"y\": [4, 6, 1, 1]}, {\"hoverinfo\": \"text\", \"hovertext\": [\"<b>Topic 16</b><br>Words: sepa, epc, payments, payment, cards\", \"<b>Topic 16</b><br>Words: sepa, payments, payment, epc, cards\", \"<b>Topic 16</b><br>Words: sepa, payments, payment, epc, card\", \"<b>Topic 16</b><br>Words: sepa, cards, payments, card, payment\", \"<b>Topic 16</b><br>Words: sepa, payments, payment, epc, card\", \"<b>Topic 16</b><br>Words: sepa, payments, card, cards, payment\", \"<b>Topic 16</b><br>Words: sepa, payments, payment, epc, card\"], \"marker\": {\"color\": \"#D55E00\"}, \"mode\": \"lines\", \"name\": \"16_sepa_payments_payment_epc\", \"type\": \"scatter\", \"x\": [\"2004-06-06T21:36:00\", \"2005-08-27T01:12:00\", \"2006-11-16T04:48:00\", \"2008-02-05T08:24:00\", \"2009-04-26T12:00:00\", \"2010-07-16T15:36:00\", \"2011-10-05T19:12:00\"], \"y\": [1, 6, 7, 3, 4, 2, 1]}, {\"hoverinfo\": \"text\", \"hovertext\": [\"<b>Topic 17</b><br>Words: presentation, annex, pdf, background, 505\", \"<b>Topic 17</b><br>Words: presentation, content, 2006, pdf, lorenzo\", \"<b>Topic 17</b><br>Words: executive, business, eventgraduate, euat, main14\", \"<b>Topic 17</b><br>Words: ecbsolvency, centralbanks, endfrankfurt, pdf, board\", \"<b>Topic 17</b><br>Words: annex, bini, executive, board, ecb\", \"<b>Topic 17</b><br>Words: presentation, annex, executive, smaghi, board\", \"<b>Topic 17</b><br>Words: presentation, annex, museum, mexico, executive\", \"<b>Topic 17</b><br>Words: annex, 2013, executive, board, brussels14\", \"<b>Topic 17</b><br>Words: slides, presentation, annex, ecbfor, balance\", \"<b>Topic 17</b><br>Words: presentation, content, executive, board, member\", \"<b>Topic 17</b><br>Words: presentation, praet, executive, board, sminaire\", \"<b>Topic 17</b><br>Words: presentation, investment, finance, executive, luxembourg\"], \"marker\": {\"color\": \"#0072B2\"}, \"mode\": \"lines\", \"name\": \"17_slides_presentation_executive_board\", \"type\": \"scatter\", \"x\": [\"2004-06-06T21:36:00\", \"2005-08-27T01:12:00\", \"2006-11-16T04:48:00\", \"2008-02-05T08:24:00\", \"2009-04-26T12:00:00\", \"2010-07-16T15:36:00\", \"2011-10-05T19:12:00\", \"2012-12-24T22:48:00\", \"2014-03-16T02:24:00\", \"2015-06-05T06:00:00\", \"2016-08-24T09:36:00\", \"2017-11-13T13:12:00\"], \"y\": [1, 1, 2, 1, 1, 3, 1, 3, 2, 4, 3, 1]}, {\"hoverinfo\": \"text\", \"hovertext\": [\"<b>Topic 20</b><br>Words: 2004, economic, growth, ecb, european\", \"<b>Topic 20</b><br>Words: economic, growth, stability, risks, monetary\", \"<b>Topic 20</b><br>Words: financial, economic, risks, stability, euro\", \"<b>Topic 20</b><br>Words: financial, risk, market, ecb, risks\", \"<b>Topic 20</b><br>Words: annual, ecb, fiscal, economic, financial\", \"<b>Topic 20</b><br>Words: resolution, economic, annual, growth, european\", \"<b>Topic 20</b><br>Words: european, ecb, financial, measures, growth\", \"<b>Topic 20</b><br>Words: ecb, risks, financial, inflation, european\", \"<b>Topic 20</b><br>Words: sector, monetary, measures, financial, ecb\", \"<b>Topic 20</b><br>Words: financial, economic, ecb, european, euro\", \"<b>Topic 20</b><br>Words: pandemic, ecb, financial, banks, risks\"], \"marker\": {\"color\": \"#CC79A7\"}, \"mode\": \"lines\", \"name\": \"20_economic_financial_ecb_risks\", \"type\": \"scatter\", \"x\": [\"2004-06-06T21:36:00\", \"2005-08-27T01:12:00\", \"2006-11-16T04:48:00\", \"2008-02-05T08:24:00\", \"2009-04-26T12:00:00\", \"2012-12-24T22:48:00\", \"2015-06-05T06:00:00\", \"2016-08-24T09:36:00\", \"2017-11-13T13:12:00\", \"2019-02-02T16:48:00\", \"2020-04-23T20:24:00\"], \"y\": [1, 1, 1, 3, 1, 1, 1, 1, 1, 1, 1]}, {\"hoverinfo\": \"text\", \"hovertext\": [\"<b>Topic 10</b><br>Words: inflation, persistence, euro, sample, policy\", \"<b>Topic 10</b><br>Words: climate, green, policy, banks, monetary\", \"<b>Topic 10</b><br>Words: climate, risks, financial, pandemic, climaterelated\", \"<b>Topic 10</b><br>Words: climate, pandemic, 2020, inflation, monetary\"], \"marker\": {\"color\": \"#E69F00\"}, \"mode\": \"lines\", \"name\": \"10_climate_pandemic_2020_inflation\", \"type\": \"scatter\", \"x\": [\"2006-11-16T04:48:00\", \"2017-11-13T13:12:00\", \"2019-02-02T16:48:00\", \"2020-04-23T20:24:00\"], \"y\": [1, 2, 7, 26]}, {\"hoverinfo\": \"text\", \"hovertext\": [\"<b>Topic 19</b><br>Words: t2s, settlement, securities, csds, target2\", \"<b>Topic 19</b><br>Words: t2s, settlement, csds, market, securities\", \"<b>Topic 19</b><br>Words: t2s, csds, settlement, memorandum, securities\", \"<b>Topic 19</b><br>Words: t2s, csds, settlement, agreement, csd\", \"<b>Topic 19</b><br>Words: t2s, securities, settlement, platform, market\", \"<b>Topic 19</b><br>Words: t2s, target, target2, settlement, securities\"], \"marker\": {\"color\": \"#56B4E9\"}, \"mode\": \"lines\", \"name\": \"19_t2s_settlement_csds_securities\", \"type\": \"scatter\", \"x\": [\"2006-11-16T04:48:00\", \"2008-02-05T08:24:00\", \"2009-04-26T12:00:00\", \"2011-10-05T19:12:00\", \"2015-06-05T06:00:00\", \"2016-08-24T09:36:00\"], \"y\": [4, 1, 2, 2, 3, 2]}, {\"hoverinfo\": \"text\", \"hovertext\": [\"<b>Topic 21</b><br>Words: interest, rates, rate, low, policy\", \"<b>Topic 21</b><br>Words: rates, rate, lower, policy, low\", \"<b>Topic 21</b><br>Words: rates, rate, low, negative, policy\", \"<b>Topic 21</b><br>Words: interest, rates, rate, low, policy\", \"<b>Topic 21</b><br>Words: interest, rate, rates, low, inflation\", \"<b>Topic 21</b><br>Words: rates, rate, prices, lower, negative\"], \"marker\": {\"color\": \"#009E73\"}, \"mode\": \"lines\", \"name\": \"21_interest_rates_rate_low\", \"type\": \"scatter\", \"x\": [\"2012-12-24T22:48:00\", \"2014-03-16T02:24:00\", \"2015-06-05T06:00:00\", \"2016-08-24T09:36:00\", \"2017-11-13T13:12:00\", \"2019-02-02T16:48:00\"], \"y\": [1, 2, 5, 2, 1, 1]}, {\"hoverinfo\": \"text\", \"hovertext\": [\"<b>Topic 24</b><br>Words: cyber, resilience, infrastructures, cpmiiosco, attacks\", \"<b>Topic 24</b><br>Words: cyber, resilience, infrastructures, financial, risk\", \"<b>Topic 24</b><br>Words: cyber, resilience, infrastructures, financial, board\", \"<b>Topic 24</b><br>Words: cyber, resilience, infrastructures, intelligence, threat\", \"<b>Topic 24</b><br>Words: cyber, resilience, infrastructures, financial, intelligence\"], \"marker\": {\"color\": \"#F0E442\"}, \"mode\": \"lines\", \"name\": \"24_cyber_resilience_infrastructures_fina...\", \"type\": \"scatter\", \"x\": [\"2015-06-05T06:00:00\", \"2016-08-24T09:36:00\", \"2017-11-13T13:12:00\", \"2019-02-02T16:48:00\", \"2020-04-23T20:24:00\"], \"y\": [1, 2, 3, 4, 1]}],                        {\"height\": 450, \"hoverlabel\": {\"bgcolor\": \"white\", \"font\": {\"family\": \"Rockwell\", \"size\": 16}}, \"legend\": {\"title\": {\"text\": \"<b>Global Topic Representation\"}}, \"template\": {\"data\": {\"bar\": [{\"error_x\": {\"color\": \"rgb(36,36,36)\"}, \"error_y\": {\"color\": \"rgb(36,36,36)\"}, \"marker\": {\"line\": {\"color\": \"white\", \"width\": 0.5}}, \"type\": \"bar\"}], \"barpolar\": [{\"marker\": {\"line\": {\"color\": \"white\", \"width\": 0.5}}, \"type\": \"barpolar\"}], \"carpet\": [{\"aaxis\": {\"endlinecolor\": \"rgb(36,36,36)\", \"gridcolor\": \"white\", \"linecolor\": \"white\", \"minorgridcolor\": \"white\", \"startlinecolor\": \"rgb(36,36,36)\"}, \"baxis\": {\"endlinecolor\": \"rgb(36,36,36)\", \"gridcolor\": \"white\", \"linecolor\": \"white\", \"minorgridcolor\": \"white\", \"startlinecolor\": \"rgb(36,36,36)\"}, \"type\": \"carpet\"}], \"choropleth\": [{\"colorbar\": {\"outlinewidth\": 1, \"tickcolor\": \"rgb(36,36,36)\", \"ticks\": \"outside\"}, \"type\": \"choropleth\"}], \"contour\": [{\"colorbar\": {\"outlinewidth\": 1, \"tickcolor\": \"rgb(36,36,36)\", \"ticks\": \"outside\"}, \"colorscale\": [[0.0, \"#440154\"], [0.1111111111111111, \"#482878\"], [0.2222222222222222, \"#3e4989\"], [0.3333333333333333, \"#31688e\"], [0.4444444444444444, \"#26828e\"], [0.5555555555555556, \"#1f9e89\"], [0.6666666666666666, \"#35b779\"], [0.7777777777777778, \"#6ece58\"], [0.8888888888888888, \"#b5de2b\"], [1.0, \"#fde725\"]], \"type\": \"contour\"}], \"contourcarpet\": [{\"colorbar\": {\"outlinewidth\": 1, \"tickcolor\": \"rgb(36,36,36)\", \"ticks\": \"outside\"}, \"type\": \"contourcarpet\"}], \"heatmap\": [{\"colorbar\": {\"outlinewidth\": 1, \"tickcolor\": \"rgb(36,36,36)\", \"ticks\": \"outside\"}, \"colorscale\": [[0.0, \"#440154\"], [0.1111111111111111, \"#482878\"], [0.2222222222222222, \"#3e4989\"], [0.3333333333333333, \"#31688e\"], [0.4444444444444444, \"#26828e\"], [0.5555555555555556, \"#1f9e89\"], [0.6666666666666666, \"#35b779\"], [0.7777777777777778, \"#6ece58\"], [0.8888888888888888, \"#b5de2b\"], [1.0, \"#fde725\"]], \"type\": \"heatmap\"}], \"heatmapgl\": [{\"colorbar\": {\"outlinewidth\": 1, \"tickcolor\": \"rgb(36,36,36)\", \"ticks\": \"outside\"}, \"colorscale\": [[0.0, \"#440154\"], [0.1111111111111111, \"#482878\"], [0.2222222222222222, \"#3e4989\"], [0.3333333333333333, \"#31688e\"], [0.4444444444444444, \"#26828e\"], [0.5555555555555556, \"#1f9e89\"], [0.6666666666666666, \"#35b779\"], [0.7777777777777778, \"#6ece58\"], [0.8888888888888888, \"#b5de2b\"], [1.0, \"#fde725\"]], \"type\": \"heatmapgl\"}], \"histogram\": [{\"marker\": {\"line\": {\"color\": \"white\", \"width\": 0.6}}, \"type\": \"histogram\"}], \"histogram2d\": [{\"colorbar\": {\"outlinewidth\": 1, \"tickcolor\": \"rgb(36,36,36)\", \"ticks\": \"outside\"}, \"colorscale\": [[0.0, \"#440154\"], [0.1111111111111111, \"#482878\"], [0.2222222222222222, \"#3e4989\"], [0.3333333333333333, \"#31688e\"], [0.4444444444444444, \"#26828e\"], [0.5555555555555556, \"#1f9e89\"], [0.6666666666666666, \"#35b779\"], [0.7777777777777778, \"#6ece58\"], [0.8888888888888888, \"#b5de2b\"], [1.0, \"#fde725\"]], \"type\": \"histogram2d\"}], \"histogram2dcontour\": [{\"colorbar\": {\"outlinewidth\": 1, \"tickcolor\": \"rgb(36,36,36)\", \"ticks\": \"outside\"}, \"colorscale\": [[0.0, \"#440154\"], [0.1111111111111111, \"#482878\"], [0.2222222222222222, \"#3e4989\"], [0.3333333333333333, \"#31688e\"], [0.4444444444444444, \"#26828e\"], [0.5555555555555556, \"#1f9e89\"], [0.6666666666666666, \"#35b779\"], [0.7777777777777778, \"#6ece58\"], [0.8888888888888888, \"#b5de2b\"], [1.0, \"#fde725\"]], \"type\": \"histogram2dcontour\"}], \"mesh3d\": [{\"colorbar\": {\"outlinewidth\": 1, \"tickcolor\": \"rgb(36,36,36)\", \"ticks\": \"outside\"}, \"type\": \"mesh3d\"}], \"parcoords\": [{\"line\": {\"colorbar\": {\"outlinewidth\": 1, \"tickcolor\": \"rgb(36,36,36)\", \"ticks\": \"outside\"}}, \"type\": \"parcoords\"}], \"pie\": [{\"automargin\": true, \"type\": \"pie\"}], \"scatter\": [{\"marker\": {\"colorbar\": {\"outlinewidth\": 1, \"tickcolor\": \"rgb(36,36,36)\", \"ticks\": \"outside\"}}, \"type\": \"scatter\"}], \"scatter3d\": [{\"line\": {\"colorbar\": {\"outlinewidth\": 1, \"tickcolor\": \"rgb(36,36,36)\", \"ticks\": \"outside\"}}, \"marker\": {\"colorbar\": {\"outlinewidth\": 1, \"tickcolor\": \"rgb(36,36,36)\", \"ticks\": \"outside\"}}, \"type\": \"scatter3d\"}], \"scattercarpet\": [{\"marker\": {\"colorbar\": {\"outlinewidth\": 1, \"tickcolor\": \"rgb(36,36,36)\", \"ticks\": \"outside\"}}, \"type\": \"scattercarpet\"}], \"scattergeo\": [{\"marker\": {\"colorbar\": {\"outlinewidth\": 1, \"tickcolor\": \"rgb(36,36,36)\", \"ticks\": \"outside\"}}, \"type\": \"scattergeo\"}], \"scattergl\": [{\"marker\": {\"colorbar\": {\"outlinewidth\": 1, \"tickcolor\": \"rgb(36,36,36)\", \"ticks\": \"outside\"}}, \"type\": \"scattergl\"}], \"scattermapbox\": [{\"marker\": {\"colorbar\": {\"outlinewidth\": 1, \"tickcolor\": \"rgb(36,36,36)\", \"ticks\": \"outside\"}}, \"type\": \"scattermapbox\"}], \"scatterpolar\": [{\"marker\": {\"colorbar\": {\"outlinewidth\": 1, \"tickcolor\": \"rgb(36,36,36)\", \"ticks\": \"outside\"}}, \"type\": \"scatterpolar\"}], \"scatterpolargl\": [{\"marker\": {\"colorbar\": {\"outlinewidth\": 1, \"tickcolor\": \"rgb(36,36,36)\", \"ticks\": \"outside\"}}, \"type\": \"scatterpolargl\"}], \"scatterternary\": [{\"marker\": {\"colorbar\": {\"outlinewidth\": 1, \"tickcolor\": \"rgb(36,36,36)\", \"ticks\": \"outside\"}}, \"type\": \"scatterternary\"}], \"surface\": [{\"colorbar\": {\"outlinewidth\": 1, \"tickcolor\": \"rgb(36,36,36)\", \"ticks\": \"outside\"}, \"colorscale\": [[0.0, \"#440154\"], [0.1111111111111111, \"#482878\"], [0.2222222222222222, \"#3e4989\"], [0.3333333333333333, \"#31688e\"], [0.4444444444444444, \"#26828e\"], [0.5555555555555556, \"#1f9e89\"], [0.6666666666666666, \"#35b779\"], [0.7777777777777778, \"#6ece58\"], [0.8888888888888888, \"#b5de2b\"], [1.0, \"#fde725\"]], \"type\": \"surface\"}], \"table\": [{\"cells\": {\"fill\": {\"color\": \"rgb(237,237,237)\"}, \"line\": {\"color\": \"white\"}}, \"header\": {\"fill\": {\"color\": \"rgb(217,217,217)\"}, \"line\": {\"color\": \"white\"}}, \"type\": \"table\"}]}, \"layout\": {\"annotationdefaults\": {\"arrowhead\": 0, \"arrowwidth\": 1}, \"autotypenumbers\": \"strict\", \"coloraxis\": {\"colorbar\": {\"outlinewidth\": 1, \"tickcolor\": \"rgb(36,36,36)\", \"ticks\": \"outside\"}}, \"colorscale\": {\"diverging\": [[0.0, \"rgb(103,0,31)\"], [0.1, \"rgb(178,24,43)\"], [0.2, \"rgb(214,96,77)\"], [0.3, \"rgb(244,165,130)\"], [0.4, \"rgb(253,219,199)\"], [0.5, \"rgb(247,247,247)\"], [0.6, \"rgb(209,229,240)\"], [0.7, \"rgb(146,197,222)\"], [0.8, \"rgb(67,147,195)\"], [0.9, \"rgb(33,102,172)\"], [1.0, \"rgb(5,48,97)\"]], \"sequential\": [[0.0, \"#440154\"], [0.1111111111111111, \"#482878\"], [0.2222222222222222, \"#3e4989\"], [0.3333333333333333, \"#31688e\"], [0.4444444444444444, \"#26828e\"], [0.5555555555555556, \"#1f9e89\"], [0.6666666666666666, \"#35b779\"], [0.7777777777777778, \"#6ece58\"], [0.8888888888888888, \"#b5de2b\"], [1.0, \"#fde725\"]], \"sequentialminus\": [[0.0, \"#440154\"], [0.1111111111111111, \"#482878\"], [0.2222222222222222, \"#3e4989\"], [0.3333333333333333, \"#31688e\"], [0.4444444444444444, \"#26828e\"], [0.5555555555555556, \"#1f9e89\"], [0.6666666666666666, \"#35b779\"], [0.7777777777777778, \"#6ece58\"], [0.8888888888888888, \"#b5de2b\"], [1.0, \"#fde725\"]]}, \"colorway\": [\"#1F77B4\", \"#FF7F0E\", \"#2CA02C\", \"#D62728\", \"#9467BD\", \"#8C564B\", \"#E377C2\", \"#7F7F7F\", \"#BCBD22\", \"#17BECF\"], \"font\": {\"color\": \"rgb(36,36,36)\"}, \"geo\": {\"bgcolor\": \"white\", \"lakecolor\": \"white\", \"landcolor\": \"white\", \"showlakes\": true, \"showland\": true, \"subunitcolor\": \"white\"}, \"hoverlabel\": {\"align\": \"left\"}, \"hovermode\": \"closest\", \"mapbox\": {\"style\": \"light\"}, \"paper_bgcolor\": \"white\", \"plot_bgcolor\": \"white\", \"polar\": {\"angularaxis\": {\"gridcolor\": \"rgb(232,232,232)\", \"linecolor\": \"rgb(36,36,36)\", \"showgrid\": false, \"showline\": true, \"ticks\": \"outside\"}, \"bgcolor\": \"white\", \"radialaxis\": {\"gridcolor\": \"rgb(232,232,232)\", \"linecolor\": \"rgb(36,36,36)\", \"showgrid\": false, \"showline\": true, \"ticks\": \"outside\"}}, \"scene\": {\"xaxis\": {\"backgroundcolor\": \"white\", \"gridcolor\": \"rgb(232,232,232)\", \"gridwidth\": 2, \"linecolor\": \"rgb(36,36,36)\", \"showbackground\": true, \"showgrid\": false, \"showline\": true, \"ticks\": \"outside\", \"zeroline\": false, \"zerolinecolor\": \"rgb(36,36,36)\"}, \"yaxis\": {\"backgroundcolor\": \"white\", \"gridcolor\": \"rgb(232,232,232)\", \"gridwidth\": 2, \"linecolor\": \"rgb(36,36,36)\", \"showbackground\": true, \"showgrid\": false, \"showline\": true, \"ticks\": \"outside\", \"zeroline\": false, \"zerolinecolor\": \"rgb(36,36,36)\"}, \"zaxis\": {\"backgroundcolor\": \"white\", \"gridcolor\": \"rgb(232,232,232)\", \"gridwidth\": 2, \"linecolor\": \"rgb(36,36,36)\", \"showbackground\": true, \"showgrid\": false, \"showline\": true, \"ticks\": \"outside\", \"zeroline\": false, \"zerolinecolor\": \"rgb(36,36,36)\"}}, \"shapedefaults\": {\"fillcolor\": \"black\", \"line\": {\"width\": 0}, \"opacity\": 0.3}, \"ternary\": {\"aaxis\": {\"gridcolor\": \"rgb(232,232,232)\", \"linecolor\": \"rgb(36,36,36)\", \"showgrid\": false, \"showline\": true, \"ticks\": \"outside\"}, \"baxis\": {\"gridcolor\": \"rgb(232,232,232)\", \"linecolor\": \"rgb(36,36,36)\", \"showgrid\": false, \"showline\": true, \"ticks\": \"outside\"}, \"bgcolor\": \"white\", \"caxis\": {\"gridcolor\": \"rgb(232,232,232)\", \"linecolor\": \"rgb(36,36,36)\", \"showgrid\": false, \"showline\": true, \"ticks\": \"outside\"}}, \"title\": {\"x\": 0.05}, \"xaxis\": {\"automargin\": true, \"gridcolor\": \"rgb(232,232,232)\", \"linecolor\": \"rgb(36,36,36)\", \"showgrid\": false, \"showline\": true, \"ticks\": \"outside\", \"title\": {\"standoff\": 15}, \"zeroline\": false, \"zerolinecolor\": \"rgb(36,36,36)\"}, \"yaxis\": {\"automargin\": true, \"gridcolor\": \"rgb(232,232,232)\", \"linecolor\": \"rgb(36,36,36)\", \"showgrid\": false, \"showline\": true, \"ticks\": \"outside\", \"title\": {\"standoff\": 15}, \"zeroline\": false, \"zerolinecolor\": \"rgb(36,36,36)\"}}}, \"title\": {\"font\": {\"color\": \"Black\", \"size\": 22}, \"text\": \"<b>Topics over Time\", \"x\": 0.4, \"xanchor\": \"center\", \"y\": 0.95, \"yanchor\": \"top\"}, \"width\": 1250, \"xaxis\": {\"showgrid\": true}, \"yaxis\": {\"showgrid\": true, \"title\": {\"text\": \"Frequency\"}}},                        {\"responsive\": true}                    ).then(function(){\n",
              "                            \n",
              "var gd = document.getElementById('3e897913-1d66-42af-86ca-47d47aad9808');\n",
              "var x = new MutationObserver(function (mutations, observer) {{\n",
              "        var display = window.getComputedStyle(gd).display;\n",
              "        if (!display || display === 'none') {{\n",
              "            console.log([gd, 'removed!']);\n",
              "            Plotly.purge(gd);\n",
              "            observer.disconnect();\n",
              "        }}\n",
              "}});\n",
              "\n",
              "// Listen for the removal of the full notebook cells\n",
              "var notebookContainer = gd.closest('#notebook-container');\n",
              "if (notebookContainer) {{\n",
              "    x.observe(notebookContainer, {childList: true});\n",
              "}}\n",
              "\n",
              "// Listen for the clearing of the current output cell\n",
              "var outputEl = gd.closest('.output');\n",
              "if (outputEl) {{\n",
              "    x.observe(outputEl, {childList: true});\n",
              "}}\n",
              "\n",
              "                        })                };                            </script>        </div>\n",
              "</body>\n",
              "</html>"
            ]
          },
          "metadata": {}
        }
      ]
    },
    {
      "cell_type": "code",
      "metadata": {
        "colab": {
          "base_uri": "https://localhost:8080/",
          "height": 487
        },
        "id": "ZzifKc9wsel7",
        "outputId": "4e3cc3b3-91cd-43a6-bc04-071ae052bcb6"
      },
      "source": [
        "# selecting most interesting topics\n",
        "fig = topic_model.visualize_topics_over_time(topics_over_time, topics=[0,1,3,4,6,8,10,11])\n",
        "fig"
      ],
      "execution_count": null,
      "outputs": [
        {
          "output_type": "display_data",
          "data": {
            "text/html": [
              "<html>\n",
              "<head><meta charset=\"utf-8\" /></head>\n",
              "<body>\n",
              "    <div>            <script src=\"https://cdnjs.cloudflare.com/ajax/libs/mathjax/2.7.5/MathJax.js?config=TeX-AMS-MML_SVG\"></script><script type=\"text/javascript\">if (window.MathJax) {MathJax.Hub.Config({SVG: {font: \"STIX-Web\"}});}</script>                <script type=\"text/javascript\">window.PlotlyConfig = {MathJaxConfig: 'local'};</script>\n",
              "        <script src=\"https://cdn.plot.ly/plotly-latest.min.js\"></script>                <div id=\"9b9858b3-ad5f-445d-939f-8d6fc55df292\" class=\"plotly-graph-div\" style=\"height:450px; width:1250px;\"></div>            <script type=\"text/javascript\">                                    window.PLOTLYENV=window.PLOTLYENV || {};                                    if (document.getElementById(\"9b9858b3-ad5f-445d-939f-8d6fc55df292\")) {                    Plotly.newPlot(                        \"9b9858b3-ad5f-445d-939f-8d6fc55df292\",                        [{\"hoverinfo\": \"text\", \"hovertext\": [\"<b>Topic 1</b><br>Words: euro, monetary, escb, emu, currency\", \"<b>Topic 1</b><br>Words: euro, monetary, area, currency, stability\", \"<b>Topic 1</b><br>Words: euro, currency, international, monetary, policy\", \"<b>Topic 1</b><br>Words: euro, currency, monetary, international, banknotes\", \"<b>Topic 1</b><br>Words: euro, currency, international, monetary, stability\", \"<b>Topic 1</b><br>Words: euro, currency, exchange, countries, international\", \"<b>Topic 1</b><br>Words: euro, monetary, area, policy, currency\", \"<b>Topic 1</b><br>Words: euro, monetary, policy, money, currency\", \"<b>Topic 1</b><br>Words: euro, cyprus, currency, exchange, international\", \"<b>Topic 1</b><br>Words: euro, monetary, stability, currency, international\", \"<b>Topic 1</b><br>Words: euro, countries, cee, crisis, financial\", \"<b>Topic 1</b><br>Words: euro, currency, sepa, monetary, international\", \"<b>Topic 1</b><br>Words: euro, banks, monetary, currency, liquidity\", \"<b>Topic 1</b><br>Words: cash, banknotes, euro, banknote, value\", \"<b>Topic 1</b><br>Words: euro, monetary, european, union, policy\", \"<b>Topic 1</b><br>Words: international, currency, euro, economic, european\", \"<b>Topic 1</b><br>Words: euro, cash, currency, tender, european\", \"<b>Topic 1</b><br>Words: euro, currency, international, monetary, european\", \"<b>Topic 1</b><br>Words: euro, currency, payments, payment, international\"], \"marker\": {\"color\": \"#E69F00\"}, \"mode\": \"lines\", \"name\": \"1_euro_currency_monetary_international\", \"type\": \"scatter\", \"x\": [\"1997-01-29T01:50:52.800000\", \"1998-04-29T03:36:00\", \"1999-07-19T07:12:00\", \"2000-10-07T10:48:00\", \"2001-12-27T14:24:00\", \"2003-03-18T18:00:00\", \"2004-06-06T21:36:00\", \"2005-08-27T01:12:00\", \"2006-11-16T04:48:00\", \"2008-02-05T08:24:00\", \"2009-04-26T12:00:00\", \"2010-07-16T15:36:00\", \"2011-10-05T19:12:00\", \"2012-12-24T22:48:00\", \"2014-03-16T02:24:00\", \"2015-06-05T06:00:00\", \"2017-11-13T13:12:00\", \"2019-02-02T16:48:00\", \"2020-04-23T20:24:00\"], \"y\": [13, 40, 17, 10, 14, 8, 7, 3, 3, 6, 3, 6, 3, 2, 5, 3, 5, 7, 4]}, {\"hoverinfo\": \"text\", \"hovertext\": [\"<b>Topic 4</b><br>Words: emi, emu, european, monetary, integration\", \"<b>Topic 4</b><br>Words: markets, market, capital, euro, financial\", \"<b>Topic 4</b><br>Words: financial, markets, integration, market, euro\", \"<b>Topic 4</b><br>Words: integration, financial, market, markets, european\", \"<b>Topic 4</b><br>Words: integration, financial, market, european, settlement\", \"<b>Topic 4</b><br>Words: integration, financial, market, markets, european\", \"<b>Topic 4</b><br>Words: integration, financial, market, markets, european\", \"<b>Topic 4</b><br>Words: integration, financial, market, countries, european\", \"<b>Topic 4</b><br>Words: financial, integration, market, markets, european\", \"<b>Topic 4</b><br>Words: sovereign, spreads, financial, bond, crisis\", \"<b>Topic 4</b><br>Words: financial, market, institutions, markets, european\", \"<b>Topic 4</b><br>Words: financial, integration, market, european, markets\", \"<b>Topic 4</b><br>Words: integration, financial, market, european, euro\", \"<b>Topic 4</b><br>Words: integration, financial, european, banking, banks\", \"<b>Topic 4</b><br>Words: financial, markets, integration, market, cmu\", \"<b>Topic 4</b><br>Words: union, integration, banking, financial, markets\", \"<b>Topic 4</b><br>Words: financial, european, markets, banking, capital\", \"<b>Topic 4</b><br>Words: financial, integration, european, market, markets\"], \"marker\": {\"color\": \"#56B4E9\"}, \"mode\": \"lines\", \"name\": \"4_financial_integration_market_markets\", \"type\": \"scatter\", \"x\": [\"1997-01-29T01:50:52.800000\", \"1998-04-29T03:36:00\", \"1999-07-19T07:12:00\", \"2001-12-27T14:24:00\", \"2003-03-18T18:00:00\", \"2004-06-06T21:36:00\", \"2005-08-27T01:12:00\", \"2006-11-16T04:48:00\", \"2008-02-05T08:24:00\", \"2009-04-26T12:00:00\", \"2010-07-16T15:36:00\", \"2011-10-05T19:12:00\", \"2012-12-24T22:48:00\", \"2014-03-16T02:24:00\", \"2015-06-05T06:00:00\", \"2016-08-24T09:36:00\", \"2017-11-13T13:12:00\", \"2019-02-02T16:48:00\"], \"y\": [1, 4, 4, 5, 11, 14, 9, 8, 14, 1, 2, 4, 5, 3, 7, 3, 5, 6]}, {\"hoverinfo\": \"text\", \"hovertext\": [\"<b>Topic 0</b><br>Words: money, monetary, hayek, policy, hayeks\", \"<b>Topic 0</b><br>Words: policy, monetary, ecb, forecasts, strategy\", \"<b>Topic 0</b><br>Words: monetary, policy, ecb, markets, central\", \"<b>Topic 0</b><br>Words: policy, monetary, central, inflation, economic\", \"<b>Topic 0</b><br>Words: monetary, policy, inflation, stability, central\", \"<b>Topic 0</b><br>Words: monetary, policy, inflation, expectations, tax\", \"<b>Topic 0</b><br>Words: monetary, policy, inflation, central, at\", \"<b>Topic 0</b><br>Words: policy, monetary, inflation, central, expectations\", \"<b>Topic 0</b><br>Words: monetary, policy, inflation, financial, rates\", \"<b>Topic 0</b><br>Words: policy, monetary, financial, at, banks\", \"<b>Topic 0</b><br>Words: policy, monetary, inflation, central, at\", \"<b>Topic 0</b><br>Words: monetary, policy, financial, inflation, central\", \"<b>Topic 0</b><br>Words: policy, monetary, central, as, at\", \"<b>Topic 0</b><br>Words: policy, monetary, inflation, at, rates\", \"<b>Topic 0</b><br>Words: policy, monetary, inflation, rates, at\", \"<b>Topic 0</b><br>Words: policy, monetary, rates, inflation, rate\", \"<b>Topic 0</b><br>Words: policy, monetary, inflation, rates, at\", \"<b>Topic 0</b><br>Words: policy, monetary, rates, inflation, interest\", \"<b>Topic 0</b><br>Words: policy, monetary, inflation, rates, fiscal\"], \"marker\": {\"color\": \"#009E73\"}, \"mode\": \"lines\", \"name\": \"0_policy_monetary_inflation_rates\", \"type\": \"scatter\", \"x\": [\"1998-04-29T03:36:00\", \"1999-07-19T07:12:00\", \"2000-10-07T10:48:00\", \"2001-12-27T14:24:00\", \"2003-03-18T18:00:00\", \"2004-06-06T21:36:00\", \"2005-08-27T01:12:00\", \"2006-11-16T04:48:00\", \"2008-02-05T08:24:00\", \"2009-04-26T12:00:00\", \"2010-07-16T15:36:00\", \"2011-10-05T19:12:00\", \"2012-12-24T22:48:00\", \"2014-03-16T02:24:00\", \"2015-06-05T06:00:00\", \"2016-08-24T09:36:00\", \"2017-11-13T13:12:00\", \"2019-02-02T16:48:00\", \"2020-04-23T20:24:00\"], \"y\": [2, 1, 5, 5, 10, 5, 9, 8, 7, 10, 11, 11, 18, 23, 18, 28, 20, 11, 12]}, {\"hoverinfo\": \"text\", \"hovertext\": [\"<b>Topic 6</b><br>Words: payment, payments, systems, money, settlement\", \"<b>Topic 6</b><br>Words: payment, payments, consolidation, banking, eurosystem\", \"<b>Topic 6</b><br>Words: payment, payments, bank, system, systems\", \"<b>Topic 6</b><br>Words: payment, payments, card, fraud, cards\", \"<b>Topic 6</b><br>Words: payment, payments, valueadded, electronic, sepa\", \"<b>Topic 6</b><br>Words: payment, payments, sepa, industry, banks\", \"<b>Topic 6</b><br>Words: payment, payments, retail, banking, innovation\", \"<b>Topic 6</b><br>Words: retail, sales, consumption, payments, payment\", \"<b>Topic 6</b><br>Words: payments, payment, services, service, providers\", \"<b>Topic 6</b><br>Words: payments, payment, dbm, services, bank\", \"<b>Topic 6</b><br>Words: payments, payment, vcs, services, retail\", \"<b>Topic 6</b><br>Words: payments, payment, services, retail, european\", \"<b>Topic 6</b><br>Words: payments, payment, cash, bank, retail\"], \"marker\": {\"color\": \"#F0E442\"}, \"mode\": \"lines\", \"name\": \"6_payments_payment_digital_services\", \"type\": \"scatter\", \"x\": [\"1999-07-19T07:12:00\", \"2000-10-07T10:48:00\", \"2003-03-18T18:00:00\", \"2004-06-06T21:36:00\", \"2005-08-27T01:12:00\", \"2006-11-16T04:48:00\", \"2009-04-26T12:00:00\", \"2010-07-16T15:36:00\", \"2015-06-05T06:00:00\", \"2016-08-24T09:36:00\", \"2017-11-13T13:12:00\", \"2019-02-02T16:48:00\", \"2020-04-23T20:24:00\"], \"y\": [2, 1, 1, 2, 1, 2, 1, 1, 4, 8, 9, 7, 8]}, {\"hoverinfo\": \"text\", \"hovertext\": [\"<b>Topic 8</b><br>Words: banking, competition, banks, supervision, system\", \"<b>Topic 8</b><br>Words: supervisory, supervision, banking, regulation, financial\", \"<b>Topic 8</b><br>Words: banking, banks, eu, sector, supervision\", \"<b>Topic 8</b><br>Words: supervisory, groups, banking, banks, financial\", \"<b>Topic 8</b><br>Words: banking, financial, supervision, supervisory, global\", \"<b>Topic 8</b><br>Words: financial, system, banking, banks, global\", \"<b>Topic 8</b><br>Words: financial, macroprudential, banking, supervisory, risk\", \"<b>Topic 8</b><br>Words: financial, supervisory, european, banking, banks\", \"<b>Topic 8</b><br>Words: repo, banking, market, banks, financial\", \"<b>Topic 8</b><br>Words: ssm, banking, supervisory, banks, supervision\", \"<b>Topic 8</b><br>Words: supervision, banks, banking, supervisory, ssm\", \"<b>Topic 8</b><br>Words: banking, banks, supervisory, supervision, ssm\", \"<b>Topic 8</b><br>Words: banks, banking, supervision, rules, european\", \"<b>Topic 8</b><br>Words: supervisory, banks, supervision, banking, npls\", \"<b>Topic 8</b><br>Words: macroprudential, banking, banks, capital, financial\"], \"marker\": {\"color\": \"#D55E00\"}, \"mode\": \"lines\", \"name\": \"8_banking_banks_supervision_supervisory\", \"type\": \"scatter\", \"x\": [\"1999-07-19T07:12:00\", \"2001-12-27T14:24:00\", \"2003-03-18T18:00:00\", \"2004-06-06T21:36:00\", \"2005-08-27T01:12:00\", \"2008-02-05T08:24:00\", \"2009-04-26T12:00:00\", \"2010-07-16T15:36:00\", \"2011-10-05T19:12:00\", \"2012-12-24T22:48:00\", \"2014-03-16T02:24:00\", \"2015-06-05T06:00:00\", \"2016-08-24T09:36:00\", \"2017-11-13T13:12:00\", \"2019-02-02T16:48:00\"], \"y\": [1, 1, 1, 1, 2, 1, 1, 2, 1, 4, 7, 6, 10, 4, 1]}, {\"hoverinfo\": \"text\", \"hovertext\": [\"<b>Topic 11</b><br>Words: financial, stability, banking, banks, market\", \"<b>Topic 11</b><br>Words: financial, standards, regulation, risk, macroprudential\", \"<b>Topic 11</b><br>Words: financial, risk, stability, institutions, banks\", \"<b>Topic 11</b><br>Words: financial, funds, risks, risk, credit\", \"<b>Topic 11</b><br>Words: financial, macroprudential, institutions, systemic, supervision\", \"<b>Topic 11</b><br>Words: financial, risk, macroprudential, system, stability\", \"<b>Topic 11</b><br>Words: financial, macroprudential, risk, systemic, stability\", \"<b>Topic 11</b><br>Words: financial, macroprudential, risk, data, stability\", \"<b>Topic 11</b><br>Words: banking, financial, union, banks, europe\", \"<b>Topic 11</b><br>Words: macroprudential, financial, risk, stability, capital\", \"<b>Topic 11</b><br>Words: macroprudential, financial, risk, leverage, margin\", \"<b>Topic 11</b><br>Words: macroprudential, financial, risk, banking, leverage\", \"<b>Topic 11</b><br>Words: stability, financial, macroprudential, ecb, institutions\", \"<b>Topic 11</b><br>Words: macroprudential, financial, risk, systemic, banks\"], \"marker\": {\"color\": \"#0072B2\"}, \"mode\": \"lines\", \"name\": \"11_financial_macroprudential_risk_system...\", \"type\": \"scatter\", \"x\": [\"1999-07-19T07:12:00\", \"2001-12-27T14:24:00\", \"2003-03-18T18:00:00\", \"2006-11-16T04:48:00\", \"2008-02-05T08:24:00\", \"2009-04-26T12:00:00\", \"2010-07-16T15:36:00\", \"2011-10-05T19:12:00\", \"2012-12-24T22:48:00\", \"2014-03-16T02:24:00\", \"2015-06-05T06:00:00\", \"2016-08-24T09:36:00\", \"2017-11-13T13:12:00\", \"2019-02-02T16:48:00\"], \"y\": [1, 1, 1, 1, 3, 3, 7, 4, 1, 2, 3, 1, 1, 5]}, {\"hoverinfo\": \"text\", \"hovertext\": [\"<b>Topic 3</b><br>Words: financial, markets, market, euro, economic\", \"<b>Topic 3</b><br>Words: volatility, financial, market, markets, are\", \"<b>Topic 3</b><br>Words: exchange, financial, rate, international, crisis\", \"<b>Topic 3</b><br>Words: euro, differentials, countries, statistics, inflation\", \"<b>Topic 3</b><br>Words: financial, market, global, liquidity, at\", \"<b>Topic 3</b><br>Words: financial, liquidity, market, banks, markets\", \"<b>Topic 3</b><br>Words: financial, crisis, banks, market, economic\", \"<b>Topic 3</b><br>Words: financial, crisis, policy, banks, economic\", \"<b>Topic 3</b><br>Words: financial, crisis, banks, fiscal, euro\", \"<b>Topic 3</b><br>Words: financial, crisis, countries, banks, euro\", \"<b>Topic 3</b><br>Words: financial, macroprudential, banks, crisis, banking\", \"<b>Topic 3</b><br>Words: we, banks, greek, money, crisis\", \"<b>Topic 3</b><br>Words: financial, banks, crisis, euro, at\", \"<b>Topic 3</b><br>Words: banks, financial, crisis, bank, have\", \"<b>Topic 3</b><br>Words: market, firms, uncertainty, economic, financial\", \"<b>Topic 3</b><br>Words: sustainable, financial, climate, environmental, for\"], \"marker\": {\"color\": \"#CC79A7\"}, \"mode\": \"lines\", \"name\": \"3_financial_crisis_banks_market\", \"type\": \"scatter\", \"x\": [\"2000-10-07T10:48:00\", \"2003-03-18T18:00:00\", \"2004-06-06T21:36:00\", \"2005-08-27T01:12:00\", \"2006-11-16T04:48:00\", \"2008-02-05T08:24:00\", \"2009-04-26T12:00:00\", \"2010-07-16T15:36:00\", \"2011-10-05T19:12:00\", \"2012-12-24T22:48:00\", \"2014-03-16T02:24:00\", \"2015-06-05T06:00:00\", \"2016-08-24T09:36:00\", \"2017-11-13T13:12:00\", \"2019-02-02T16:48:00\", \"2020-04-23T20:24:00\"], \"y\": [2, 2, 2, 2, 4, 24, 28, 12, 14, 10, 5, 1, 8, 4, 3, 3]}, {\"hoverinfo\": \"text\", \"hovertext\": [\"<b>Topic 10</b><br>Words: inflation, persistence, euro, sample, policy\", \"<b>Topic 10</b><br>Words: climate, green, policy, banks, monetary\", \"<b>Topic 10</b><br>Words: climate, risks, financial, pandemic, climaterelated\", \"<b>Topic 10</b><br>Words: climate, pandemic, 2020, inflation, monetary\"], \"marker\": {\"color\": \"#E69F00\"}, \"mode\": \"lines\", \"name\": \"10_climate_pandemic_2020_inflation\", \"type\": \"scatter\", \"x\": [\"2006-11-16T04:48:00\", \"2017-11-13T13:12:00\", \"2019-02-02T16:48:00\", \"2020-04-23T20:24:00\"], \"y\": [1, 2, 7, 26]}],                        {\"height\": 450, \"hoverlabel\": {\"bgcolor\": \"white\", \"font\": {\"family\": \"Rockwell\", \"size\": 16}}, \"legend\": {\"title\": {\"text\": \"<b>Global Topic Representation\"}}, \"template\": {\"data\": {\"bar\": [{\"error_x\": {\"color\": \"rgb(36,36,36)\"}, \"error_y\": {\"color\": \"rgb(36,36,36)\"}, \"marker\": {\"line\": {\"color\": \"white\", \"width\": 0.5}}, \"type\": \"bar\"}], \"barpolar\": [{\"marker\": {\"line\": {\"color\": \"white\", \"width\": 0.5}}, \"type\": \"barpolar\"}], \"carpet\": [{\"aaxis\": {\"endlinecolor\": \"rgb(36,36,36)\", \"gridcolor\": \"white\", \"linecolor\": \"white\", \"minorgridcolor\": \"white\", \"startlinecolor\": \"rgb(36,36,36)\"}, \"baxis\": {\"endlinecolor\": \"rgb(36,36,36)\", \"gridcolor\": \"white\", \"linecolor\": \"white\", \"minorgridcolor\": \"white\", \"startlinecolor\": \"rgb(36,36,36)\"}, \"type\": \"carpet\"}], \"choropleth\": [{\"colorbar\": {\"outlinewidth\": 1, \"tickcolor\": \"rgb(36,36,36)\", \"ticks\": \"outside\"}, \"type\": \"choropleth\"}], \"contour\": [{\"colorbar\": {\"outlinewidth\": 1, \"tickcolor\": \"rgb(36,36,36)\", \"ticks\": \"outside\"}, \"colorscale\": [[0.0, \"#440154\"], [0.1111111111111111, \"#482878\"], [0.2222222222222222, \"#3e4989\"], [0.3333333333333333, \"#31688e\"], [0.4444444444444444, \"#26828e\"], [0.5555555555555556, \"#1f9e89\"], [0.6666666666666666, \"#35b779\"], [0.7777777777777778, \"#6ece58\"], [0.8888888888888888, \"#b5de2b\"], [1.0, \"#fde725\"]], \"type\": \"contour\"}], \"contourcarpet\": [{\"colorbar\": {\"outlinewidth\": 1, \"tickcolor\": \"rgb(36,36,36)\", \"ticks\": \"outside\"}, \"type\": \"contourcarpet\"}], \"heatmap\": [{\"colorbar\": {\"outlinewidth\": 1, \"tickcolor\": \"rgb(36,36,36)\", \"ticks\": \"outside\"}, \"colorscale\": [[0.0, \"#440154\"], [0.1111111111111111, \"#482878\"], [0.2222222222222222, \"#3e4989\"], [0.3333333333333333, \"#31688e\"], [0.4444444444444444, \"#26828e\"], [0.5555555555555556, \"#1f9e89\"], [0.6666666666666666, \"#35b779\"], [0.7777777777777778, \"#6ece58\"], [0.8888888888888888, \"#b5de2b\"], [1.0, \"#fde725\"]], \"type\": \"heatmap\"}], \"heatmapgl\": [{\"colorbar\": {\"outlinewidth\": 1, \"tickcolor\": \"rgb(36,36,36)\", \"ticks\": \"outside\"}, \"colorscale\": [[0.0, \"#440154\"], [0.1111111111111111, \"#482878\"], [0.2222222222222222, \"#3e4989\"], [0.3333333333333333, \"#31688e\"], [0.4444444444444444, \"#26828e\"], [0.5555555555555556, \"#1f9e89\"], [0.6666666666666666, \"#35b779\"], [0.7777777777777778, \"#6ece58\"], [0.8888888888888888, \"#b5de2b\"], [1.0, \"#fde725\"]], \"type\": \"heatmapgl\"}], \"histogram\": [{\"marker\": {\"line\": {\"color\": \"white\", \"width\": 0.6}}, \"type\": \"histogram\"}], \"histogram2d\": [{\"colorbar\": {\"outlinewidth\": 1, \"tickcolor\": \"rgb(36,36,36)\", \"ticks\": \"outside\"}, \"colorscale\": [[0.0, \"#440154\"], [0.1111111111111111, \"#482878\"], [0.2222222222222222, \"#3e4989\"], [0.3333333333333333, \"#31688e\"], [0.4444444444444444, \"#26828e\"], [0.5555555555555556, \"#1f9e89\"], [0.6666666666666666, \"#35b779\"], [0.7777777777777778, \"#6ece58\"], [0.8888888888888888, \"#b5de2b\"], [1.0, \"#fde725\"]], \"type\": \"histogram2d\"}], \"histogram2dcontour\": [{\"colorbar\": {\"outlinewidth\": 1, \"tickcolor\": \"rgb(36,36,36)\", \"ticks\": \"outside\"}, \"colorscale\": [[0.0, \"#440154\"], [0.1111111111111111, \"#482878\"], [0.2222222222222222, \"#3e4989\"], [0.3333333333333333, \"#31688e\"], [0.4444444444444444, \"#26828e\"], [0.5555555555555556, \"#1f9e89\"], [0.6666666666666666, \"#35b779\"], [0.7777777777777778, \"#6ece58\"], [0.8888888888888888, \"#b5de2b\"], [1.0, \"#fde725\"]], \"type\": \"histogram2dcontour\"}], \"mesh3d\": [{\"colorbar\": {\"outlinewidth\": 1, \"tickcolor\": \"rgb(36,36,36)\", \"ticks\": \"outside\"}, \"type\": \"mesh3d\"}], \"parcoords\": [{\"line\": {\"colorbar\": {\"outlinewidth\": 1, \"tickcolor\": \"rgb(36,36,36)\", \"ticks\": \"outside\"}}, \"type\": \"parcoords\"}], \"pie\": [{\"automargin\": true, \"type\": \"pie\"}], \"scatter\": [{\"marker\": {\"colorbar\": {\"outlinewidth\": 1, \"tickcolor\": \"rgb(36,36,36)\", \"ticks\": \"outside\"}}, \"type\": \"scatter\"}], \"scatter3d\": [{\"line\": {\"colorbar\": {\"outlinewidth\": 1, \"tickcolor\": \"rgb(36,36,36)\", \"ticks\": \"outside\"}}, \"marker\": {\"colorbar\": {\"outlinewidth\": 1, \"tickcolor\": \"rgb(36,36,36)\", \"ticks\": \"outside\"}}, \"type\": \"scatter3d\"}], \"scattercarpet\": [{\"marker\": {\"colorbar\": {\"outlinewidth\": 1, \"tickcolor\": \"rgb(36,36,36)\", \"ticks\": \"outside\"}}, \"type\": \"scattercarpet\"}], \"scattergeo\": [{\"marker\": {\"colorbar\": {\"outlinewidth\": 1, \"tickcolor\": \"rgb(36,36,36)\", \"ticks\": \"outside\"}}, \"type\": \"scattergeo\"}], \"scattergl\": [{\"marker\": {\"colorbar\": {\"outlinewidth\": 1, \"tickcolor\": \"rgb(36,36,36)\", \"ticks\": \"outside\"}}, \"type\": \"scattergl\"}], \"scattermapbox\": [{\"marker\": {\"colorbar\": {\"outlinewidth\": 1, \"tickcolor\": \"rgb(36,36,36)\", \"ticks\": \"outside\"}}, \"type\": \"scattermapbox\"}], \"scatterpolar\": [{\"marker\": {\"colorbar\": {\"outlinewidth\": 1, \"tickcolor\": \"rgb(36,36,36)\", \"ticks\": \"outside\"}}, \"type\": \"scatterpolar\"}], \"scatterpolargl\": [{\"marker\": {\"colorbar\": {\"outlinewidth\": 1, \"tickcolor\": \"rgb(36,36,36)\", \"ticks\": \"outside\"}}, \"type\": \"scatterpolargl\"}], \"scatterternary\": [{\"marker\": {\"colorbar\": {\"outlinewidth\": 1, \"tickcolor\": \"rgb(36,36,36)\", \"ticks\": \"outside\"}}, \"type\": \"scatterternary\"}], \"surface\": [{\"colorbar\": {\"outlinewidth\": 1, \"tickcolor\": \"rgb(36,36,36)\", \"ticks\": \"outside\"}, \"colorscale\": [[0.0, \"#440154\"], [0.1111111111111111, \"#482878\"], [0.2222222222222222, \"#3e4989\"], [0.3333333333333333, \"#31688e\"], [0.4444444444444444, \"#26828e\"], [0.5555555555555556, \"#1f9e89\"], [0.6666666666666666, \"#35b779\"], [0.7777777777777778, \"#6ece58\"], [0.8888888888888888, \"#b5de2b\"], [1.0, \"#fde725\"]], \"type\": \"surface\"}], \"table\": [{\"cells\": {\"fill\": {\"color\": \"rgb(237,237,237)\"}, \"line\": {\"color\": \"white\"}}, \"header\": {\"fill\": {\"color\": \"rgb(217,217,217)\"}, \"line\": {\"color\": \"white\"}}, \"type\": \"table\"}]}, \"layout\": {\"annotationdefaults\": {\"arrowhead\": 0, \"arrowwidth\": 1}, \"autotypenumbers\": \"strict\", \"coloraxis\": {\"colorbar\": {\"outlinewidth\": 1, \"tickcolor\": \"rgb(36,36,36)\", \"ticks\": \"outside\"}}, \"colorscale\": {\"diverging\": [[0.0, \"rgb(103,0,31)\"], [0.1, \"rgb(178,24,43)\"], [0.2, \"rgb(214,96,77)\"], [0.3, \"rgb(244,165,130)\"], [0.4, \"rgb(253,219,199)\"], [0.5, \"rgb(247,247,247)\"], [0.6, \"rgb(209,229,240)\"], [0.7, \"rgb(146,197,222)\"], [0.8, \"rgb(67,147,195)\"], [0.9, \"rgb(33,102,172)\"], [1.0, \"rgb(5,48,97)\"]], \"sequential\": [[0.0, \"#440154\"], [0.1111111111111111, \"#482878\"], [0.2222222222222222, \"#3e4989\"], [0.3333333333333333, \"#31688e\"], [0.4444444444444444, \"#26828e\"], [0.5555555555555556, \"#1f9e89\"], [0.6666666666666666, \"#35b779\"], [0.7777777777777778, \"#6ece58\"], [0.8888888888888888, \"#b5de2b\"], [1.0, \"#fde725\"]], \"sequentialminus\": [[0.0, \"#440154\"], [0.1111111111111111, \"#482878\"], [0.2222222222222222, \"#3e4989\"], [0.3333333333333333, \"#31688e\"], [0.4444444444444444, \"#26828e\"], [0.5555555555555556, \"#1f9e89\"], [0.6666666666666666, \"#35b779\"], [0.7777777777777778, \"#6ece58\"], [0.8888888888888888, \"#b5de2b\"], [1.0, \"#fde725\"]]}, \"colorway\": [\"#1F77B4\", \"#FF7F0E\", \"#2CA02C\", \"#D62728\", \"#9467BD\", \"#8C564B\", \"#E377C2\", \"#7F7F7F\", \"#BCBD22\", \"#17BECF\"], \"font\": {\"color\": \"rgb(36,36,36)\"}, \"geo\": {\"bgcolor\": \"white\", \"lakecolor\": \"white\", \"landcolor\": \"white\", \"showlakes\": true, \"showland\": true, \"subunitcolor\": \"white\"}, \"hoverlabel\": {\"align\": \"left\"}, \"hovermode\": \"closest\", \"mapbox\": {\"style\": \"light\"}, \"paper_bgcolor\": \"white\", \"plot_bgcolor\": \"white\", \"polar\": {\"angularaxis\": {\"gridcolor\": \"rgb(232,232,232)\", \"linecolor\": \"rgb(36,36,36)\", \"showgrid\": false, \"showline\": true, \"ticks\": \"outside\"}, \"bgcolor\": \"white\", \"radialaxis\": {\"gridcolor\": \"rgb(232,232,232)\", \"linecolor\": \"rgb(36,36,36)\", \"showgrid\": false, \"showline\": true, \"ticks\": \"outside\"}}, \"scene\": {\"xaxis\": {\"backgroundcolor\": \"white\", \"gridcolor\": \"rgb(232,232,232)\", \"gridwidth\": 2, \"linecolor\": \"rgb(36,36,36)\", \"showbackground\": true, \"showgrid\": false, \"showline\": true, \"ticks\": \"outside\", \"zeroline\": false, \"zerolinecolor\": \"rgb(36,36,36)\"}, \"yaxis\": {\"backgroundcolor\": \"white\", \"gridcolor\": \"rgb(232,232,232)\", \"gridwidth\": 2, \"linecolor\": \"rgb(36,36,36)\", \"showbackground\": true, \"showgrid\": false, \"showline\": true, \"ticks\": \"outside\", \"zeroline\": false, \"zerolinecolor\": \"rgb(36,36,36)\"}, \"zaxis\": {\"backgroundcolor\": \"white\", \"gridcolor\": \"rgb(232,232,232)\", \"gridwidth\": 2, \"linecolor\": \"rgb(36,36,36)\", \"showbackground\": true, \"showgrid\": false, \"showline\": true, \"ticks\": \"outside\", \"zeroline\": false, \"zerolinecolor\": \"rgb(36,36,36)\"}}, \"shapedefaults\": {\"fillcolor\": \"black\", \"line\": {\"width\": 0}, \"opacity\": 0.3}, \"ternary\": {\"aaxis\": {\"gridcolor\": \"rgb(232,232,232)\", \"linecolor\": \"rgb(36,36,36)\", \"showgrid\": false, \"showline\": true, \"ticks\": \"outside\"}, \"baxis\": {\"gridcolor\": \"rgb(232,232,232)\", \"linecolor\": \"rgb(36,36,36)\", \"showgrid\": false, \"showline\": true, \"ticks\": \"outside\"}, \"bgcolor\": \"white\", \"caxis\": {\"gridcolor\": \"rgb(232,232,232)\", \"linecolor\": \"rgb(36,36,36)\", \"showgrid\": false, \"showline\": true, \"ticks\": \"outside\"}}, \"title\": {\"x\": 0.05}, \"xaxis\": {\"automargin\": true, \"gridcolor\": \"rgb(232,232,232)\", \"linecolor\": \"rgb(36,36,36)\", \"showgrid\": false, \"showline\": true, \"ticks\": \"outside\", \"title\": {\"standoff\": 15}, \"zeroline\": false, \"zerolinecolor\": \"rgb(36,36,36)\"}, \"yaxis\": {\"automargin\": true, \"gridcolor\": \"rgb(232,232,232)\", \"linecolor\": \"rgb(36,36,36)\", \"showgrid\": false, \"showline\": true, \"ticks\": \"outside\", \"title\": {\"standoff\": 15}, \"zeroline\": false, \"zerolinecolor\": \"rgb(36,36,36)\"}}}, \"title\": {\"font\": {\"color\": \"Black\", \"size\": 22}, \"text\": \"<b>Topics over Time\", \"x\": 0.4, \"xanchor\": \"center\", \"y\": 0.95, \"yanchor\": \"top\"}, \"width\": 1250, \"xaxis\": {\"showgrid\": true}, \"yaxis\": {\"showgrid\": true, \"title\": {\"text\": \"Frequency\"}}},                        {\"responsive\": true}                    ).then(function(){\n",
              "                            \n",
              "var gd = document.getElementById('9b9858b3-ad5f-445d-939f-8d6fc55df292');\n",
              "var x = new MutationObserver(function (mutations, observer) {{\n",
              "        var display = window.getComputedStyle(gd).display;\n",
              "        if (!display || display === 'none') {{\n",
              "            console.log([gd, 'removed!']);\n",
              "            Plotly.purge(gd);\n",
              "            observer.disconnect();\n",
              "        }}\n",
              "}});\n",
              "\n",
              "// Listen for the removal of the full notebook cells\n",
              "var notebookContainer = gd.closest('#notebook-container');\n",
              "if (notebookContainer) {{\n",
              "    x.observe(notebookContainer, {childList: true});\n",
              "}}\n",
              "\n",
              "// Listen for the clearing of the current output cell\n",
              "var outputEl = gd.closest('.output');\n",
              "if (outputEl) {{\n",
              "    x.observe(outputEl, {childList: true});\n",
              "}}\n",
              "\n",
              "                        })                };                            </script>        </div>\n",
              "</body>\n",
              "</html>"
            ]
          },
          "metadata": {}
        }
      ]
    },
    {
      "cell_type": "code",
      "metadata": {
        "id": "qsZ3b-mFvZQb"
      },
      "source": [
        "import plotly.express as px\n",
        "\n",
        "fig.write_html(\"/content/DTM.html\")"
      ],
      "execution_count": null,
      "outputs": []
    },
    {
      "cell_type": "code",
      "metadata": {
        "colab": {
          "base_uri": "https://localhost:8080/"
        },
        "id": "iJO_rbU8sAZw",
        "outputId": "38e95965-700a-4596-ecce-5ac1df251057"
      },
      "source": [
        "# extract 3 most representative docs for a specific topic (monetary policy)\n",
        "docs = topic_model.get_representative_docs(topic=0)\n",
        "docs"
      ],
      "execution_count": null,
      "outputs": [
        {
          "output_type": "execute_result",
          "data": {
            "text/plain": [
              "['Hearing at the Committee on Economic and Monetary Affairs of the European Parliament   Introductory statement by Mario Draghi, President of the ECB, Brussels, 8 July 2013 Madam Chair, Honourable members of the Committee on Economic and Monetary Affairs, It is a great pleasure for me to be back with your committee for our last exchange of views before the summer break. At this time, it is worth taking stock of progress over the past 12 months. Clearly, financial conditions in the euro area today are more stable and resilient than they were last summer. This is partly due to our determined monetary policy actions. Governments and parliaments have also played a key role in the relative return of confidence and stability by undertaking courageous reforms, at both the national and European levels.  Yet despite this progress, the euro area still faces considerable challenges. The economy is still weak. Financial fragmentation remains. This challenges the very concept of the Single Market. Small and medium-sized enterprises (SMEs) can find it difficult to access credit, particularly in countries under strain; and several key steps remain to be taken to complete the banking union. These are the three topics that I will address in turn today.  1. Economic and monetary developments  Let me first briefly discuss our recent monetary policy decisions. In May, the Governing Council of the European Central Bank (ECB) decided to lower the interest rate on the main refinancing operations by 25 basis points to 0.50% and the rate on the marginal lending facility by 50 basis points to 1.00%. The rate on the deposit facility was left unchanged at 0%. These policy decisions took account of subdued underlying inflationary pressures over the medium term and they are expected to improve funding conditions across the whole monetary union.  Following its July meeting, the Governing Council stressed that the monetary policy stance is geared towards maintaining the degree of monetary accommodation warranted by the outlook for price stability and promoting stable money market conditions.  It reiterated that its monetary policy stance will remain accommodative for as long as needed. Furthermore, the Governing Council sharpened its communication by announcing that it expects the key ECB interest rates to remain at present or lower levels for an extended period of time. This expectation was based on the overall subdued outlook for inflation extending into the medium term, given the broad-based weakness in the real economy and subdued monetary dynamics. In the period ahead, we will monitor all incoming information on economic and monetary developments and assess any impact on the outlook for price stability. The accommodative stance of our monetary policy, together with the significant improvements in financial markets since mid-2012, should help to support prospects for an economic recovery later in the year and in 2014.  On non-standard measures, the Governing Council decided in May to continue conducting all refinancing operations as fixed-rate tender procedures with full allotment, at least until mid-July 2014. This measure will help to support a smooth transmission of the ECB’s monetary policy stance. In particular, it will ensure that banks’ lending decisions are not impaired by funding constraints. The Governing Council also decided in May to start consultations with other European institutions on initiatives to promote a functioning market for asset-backed securities (ABS) collateralised by loans to non-financial corporations.  Before discussing this issue in more depth, let me briefly comment on the economic outlook. Economic activity in the euro area contracted for a sixth consecutive quarter in the first quarter of 2013. Labour market conditions remain weak. Recent confidence indicators based on survey data have shown some further improvement, albeit from low levels. Overall, euro area economic activity should stabilise and recover over the course of the year, although at a subdued pace.  The risks surrounding the economic outlook for the euro area continue to be on the downside. The recent tightening of global money and financial market conditions and related uncertainties may have the potential to negatively affect economic conditions. Other downside risks include the possibility of weaker than expected domestic and global demand and slow or insufficient implementation of structural reforms in euro area countries.  Annual inflation in the euro area has continued to moderate, falling from 2.5% in 2012 to 1.6% in June. Looking ahead, the underlying price pressures over the medium term are expected to remain subdued, reflecting the broad-based weakness in aggregate demand and the modest pace of the recovery. Inflation expectations nonetheless continue to be firmly anchored in line with the Governing Council’s aim of maintaining inflation rates below, but close to 2%.  Risks to the outlook for price developments are expected to be still broadly balanced over the medium term. Upside risks relate to stronger than expected increases in administered prices and indirect taxes, as well as higher commodity prices. Downside risks stem from weaker than expected economic activity. Consistent with our expectations of low underlying inflationary pressures over the medium term, monetary and, in particular, credit dynamics remain subdued. The annual growth rate of loans to the private sector remains negative. To a large extent, weak loan dynamics continue to reflect primarily the current stage of the business cycle, heightened credit risk and the continuing adjustment of financial and non-financial sector balance sheets.  2. Financial fragmentation and SME financing Let me now turn to the second topic namely the financing of SMEs. It is important to recall that the euro area financial system is mainly bank-based: around 80% of the debt of non-financial corporations consists of bank loans. There can be no sustained recovery without a sound banking system capable of effectively intermediating funds across the whole euro area.  Over the recent past, this intermediation process has suffered from two issues:  First, financial fragmentation, between peripheral and core countries; and  Second, higher challenges for SMEs relative to large firms.  On the first issue, lending rates are very heterogeneous across euro area economies. This reflects divergent bank funding conditions as well as country-specific macroeconomic developments that affect the creditworthiness of borrowers. The ECB took action, within our mandate, to alleviate this fragmentation: explicitly, we took action that alleviated funding constraints and reduced the dispersion of bank funding costs not least through the three-year long-term refinancing operations (LTROs). Still, the dispersion in lending rates across countries and borrowers remains substantial.  As regards the second issue, access to financing is more challenging for SMEs than for large firms. Spreads between bank lending rates for small-sized loans and large loans are still high by historical standards, although they have broadly declined since the last quarter of 2012. Difficult access to credit by SMEs is an issue for investment and growth in parts of the euro area, especially in countries under strain.  In Spain, for instance, the interest rate on small loans is almost 2.3 percentage points greater than interest rates on large loans. In France, by contrast, the difference is only 1 percentage point. Given their high dependence on bank credit, SMEs in countries under strain suffer particularly from financial fragmentation.  In this context, the Commission and the European Investment Bank (EIB) are looking into possible ways to support SME financing, notably in the form of joint risk-sharing instruments. These would combine the lending capacity of the EIB and the European Investment Fund as well as resources from national promotional banks to finance special activities in EU priority areas. A number of options – of both a short- and longer-term nature – are being explored, including the provision of guarantees, credit enhancements of SME loan pools to revive structured credit markets over a longer time horizon; and third, purchases of asset-backed securities (ABS) by the Commission and the EIB. Initiatives to foster the developments of the capital market, including the securitisation market, to complement the role of the banking system are particularly useful in the euro area.  With respect to securitisation, we have to be aware of the numerous constraints on the revival of ABS public issuance. These include in particular some proposed changes to the regulatory framework, which may reduce incentives to invest in certain types of ABS in the long term. Such constraints need to be properly addressed. The regulatory treatment for securitisation should acknowledge the credit performance and ensure an unbiased level playing field with other securities regarding risk, rating and maturity. I would also like to make clear that with regard to the ABS market the ECB now has an advisory role.  3. Banking union Policy-makers have made strong commitments on moving towards banking union – now it is essential to deliver on those commitments. The objective is effectively threefold: reinstating beyond doubt the soundness of the banking system; re-integrating the banking system; and delivering a supervisory and resolution framework that will prevent a repeat of the past risk build-up.  All core elements should fall into place swiftly to reap the full benefits of a banking union. The stakes are too high to afford undue delays. To complete such an essential project, resolute action has to be taken in the months to come – and this Parliament has a key role to play.  First, until the regulation on the single supervisory mechanism (SSM) is adopted, we at the ECB cannot formally take decisions. In this context, it is my understanding that the supervisory accountability arrangements with the Parliament, in line with the SSM regulation, are nearing finalisation on the basis of a constructive stance by both parties.  In view of the adoption of the regulation, we have already launched the process of internal preparations, on which I would like to give you a brief update. We are working in close and constructive cooperation with the national authorities for the establishment of the SSM. This includes five main workstreams: first, mapping the euro area banking system to identify in particular systemic institutions; second, addressing legal issues in the development of the new supervisory processes at SSM level; third, preparing a harmonised supervisory data reporting framework; fourth, developing a supervisory model and manual; and fifth, designing and implementing the balance sheet assessment required by the SSM Regulation.  Let me be clear about the importance of that fifth workstream. A credible and thorough balance sheet assessment is an indispensable step towards restoring full confidence in the banking system. Transparency on asset valuation is necessary to subsequently assess the capital position of banks and also to facilitate market transactions on bank assets.  The balance sheet assessment will be complemented by a stress test, in coordination with the European Banking Authority, that will cover all banks supervised directly by the ECB. We expect to conclude the comprehensive assessment when the SSM becomes operational. It is crucial to have a commitment to ensure that effective backstops are available, in order to ensure that the assessment is duly and timely concluded.  A second cornerstone of banking union is the Bank Recovery and Resolution Directive (BRRD). By providing the tools and powers in national laws, it will form a basis on which to build a single resolution mechanism (SRM). The ECB welcomes the fact that an agreement on BRRD was reached at the last ECOFIN meeting. I trust that this Parliament, together with the Council, will reach an agreement by the end of this year.  This will in turn pave the way for a swift entry into force of the European Stability Mechanism’s direct bank recapitalisation instrument. We welcome the political agreement reached at the last Eurogroup meeting. This instrument will usefully complement the existing European backstop and will contribute to the further decoupling of banks from their respective sovereigns.  A single resolution mechanism is the next crucial pillar of the banking union. It is an indispensable complement to the single supervisor and should ideally be in place once the SSM is operational. The ECB looks forward to the Commission’s proposal for an SRM with a strong single resolution authority at its heart and a single resolution fund at its disposal.  Thank you for your attention. I am now looking forward to your questions.',\n",
              " 'Hearing of the Committee on Economic and Monetary Affairs of the European Parliament   Introductory Statement by Mario Draghi, President of the ECB, at the\\xa0ECON committee of the European Parliament, Brussels, 9 July 2018 Mr Chairman, Honourable members of the Economic and Monetary Affairs Committee, Ladies and gentlemen, It is a pleasure to be back at the European Parliament before your Committee. Since we last met, the ECB’s Governing Council has taken important decisions on the recalibration of our monetary policy stance after September this year. In my remarks today, I will outline these decisions and explain the assessment of the current economic environment on which they were based. Following the recent euro area summit, I will also take this opportunity to discuss the future of our Economic and Monetary Union (EMU), pointing to priorities for the near term from an ECB perspective. Economic and inflation developments The euro area economy grew by 0.4% during the first quarter of 2018, marking five years of continued economic expansion. Underlying economic fundamentals remain solid, notwithstanding some moderation in growth at the beginning of the year.  The labour market has improved notably over recent years. Employment has risen by 8.4 million since mid-2013, and is growing in nearly all euro area countries. The unemployment rate stood at 8.4% in May, its lowest level since December 2008, and labour force participation now stands at an all-time high.  Looking ahead, the latest Eurosystem staff macroeconomic projections foresee average annual growth of 2.1% in 2018, 1.9% in 2019 and 1.7% in 2020. While uncertainties related to global factors, including the threat of increased protectionism, have become more prominent, the risks surrounding the euro area growth outlook remain broadly balanced. Of course, we continue to closely monitor developments.  According to the Eurostat flash estimate, headline inflation increased to 2.0% in June from 1.9% in May, reflecting higher rates of energy and food inflation. Excluding these more volatile items, inflation decreased from 1.1% in May to 1.0% in June. As the economy continues to grow and slack is absorbed, supporting rising wages, underlying inflation is expected to pick up. Recent wage agreements in several countries point to a continuation of these favourable dynamics. I will discuss the inflation outlook in more detail as I explain the monetary policy decisions taken by the Governing Council in June. The ECB’s monetary policy and the phasing-out of non-standard measures  At our last monetary policy meeting, the Governing Council undertook a careful review of the progress made so far towards a sustained adjustment in inflation. Specifically, we assessed inflation developments against the three conditioning criteria for net asset purchases: convergence, confidence and resilience.  As regards convergence, the June 2018 Eurosystem staff projections see headline inflation reaching 1.7% in each of the next three years. These are the latest in a series of projections which foresee inflation converging towards our inflation aim of below, but close to, 2% over the medium term. Our confidence in the inflation path is also rising. First, the range of uncertainty around the inflation projections has narrowed. Second, underlying inflation has increased from the very low levels that prevailed in 2016 and is foreseen to rise as the economy continues to expand, capacity utilisation strengthens and labour markets further tighten.  Finally, on the third criterion, the projected path of inflation appears to be self-sustained, i.e. resilient to a gradual ending of net asset purchases. On the basis of this assessment, the Governing Council concluded that progress towards a sustained adjustment has been substantial so far and should continue in the period ahead, although some uncertainties persist. We therefore anticipate that after September we will reduce our monthly net asset purchases from €30 billion to €15 billion and will end our net asset purchases at the end of December. This is subject to incoming data confirming our medium-term inflation outlook. The expected end of the net asset purchases in December 2018 does not mean that our monetary policy ceases to be expansionary. Monetary policy will have to continue to accompany the economic expansion for some time. We have therefore reaffirmed our reinvestment policy and enhanced our forward guidance on the key interest rates.  We intend to maintain our policy of reinvesting the principal payments from maturing securities purchased under the APP for an extended period of time after the end of our net asset purchases, and in any case for as long as necessary to maintain favourable liquidity conditions and an ample degree of monetary accommodation. And we expect key ECB interest rates to remain at their present levels at least through the summer of 2019 and in any case for as long as necessary to ensure that the evolution of inflation remains aligned with our current expectations of a sustained adjustment path.  EMU governance: taking stock of financial union and the euro area architecture\\xa0 Let me now turn to the governance of Economic and Monetary Union. In times of heightened global uncertainty, it is more important than ever that Europe stands together. The efforts we have made in recent years to strengthen EMU governance have already made EMU more resilient to shocks. However, our monetary union is still incomplete and remains vulnerable. To support confidence and continue the economic expansion, we need further convergence and integration among euro area Member States.  It is almost exactly six years since European leaders decided to launch banking union. This was a major step forward and it has significantly contributed to risk reduction and thus a more stable European banking sector. But banking union is not yet complete. The swift adoption of the banking package will help to further strengthen the resilience of the financial sector. We welcome the Committee’s adoption of the report on the banking package and call for a swift trilogue process. The agreement on the European Stability Mechanism (ESM) as the backstop for the Single Resolution Fund is equally important. It will provide an additional layer of safety for banks in resolution, ensuring that they can be resolved effectively and without endangering financial stability. All this, in turn, will enhance confidence in the banking sector as a whole and make it more stable. The backstop should be made operational as soon as possible and be given swift and efficient decision-making procedures. In the period ahead, including the deliberations on a European deposit insurance scheme (EDIS), we should not be held back by the distinction between risk reduction and risk sharing, for two reasons in particular.  First, substantial risk reduction has already taken place. Common Equity Tier 1 ratios of significant banks – a key indicator of bank health – are now 67% higher than they were ten years ago. Further risk reduction is under way with the reduction of non-performing loans and toxic assets in the portfolios of some large banks.  Second, risk-sharing greatly helps risk reduction. Consider the United States Federal Deposit Insurance Corporation. It successfully resolved 500 banks without causing financial instability, also because it was backstopped by the US government. The corresponding number for the euro area was ten times lower, which is another reason why the euro area banking sector still faces structural challenges. In other words, if risk-sharing were to lead to an orderly management of the financial stability consequences derived from risk reduction, risk reduction would proceed at a much faster pace. Moreover, a European deposit insurance scheme would avoid the risk of destabilising self-fulfilling prophecies in the form of bank runs. It would also reduce the risk of financial fragmentation and thus support the effectiveness of monetary policy throughout EMU, contributing to economic stability. With the right policy framework, risk-sharing and risk reduction are thus mutually reinforcing[1].  A more resilient EMU would also benefit from a bolstered crisis management framework. The commitment to strengthen the ESM made at the recent Euro Summit is therefore very welcome. This should include an increase in its effectiveness and agility in terms of both governance and instruments, while fully respecting the mandates of the Commission and the ECB. To absorb shocks and reduce the risk of full-blown crises, the euro area would also benefit from a common stabilisation function. Such an instrument could provide macroeconomic support in the event of euro area-wide recessions, thereby preserving convergence, supporting stabilising national policies and allowing monetary policy to operate effectively. At the same time, this instrument should not undermine incentives for Member States to pursue sound fiscal and economic policies. We therefore very much welcome the renewed impulse to this discussion. An ambitious agenda for the capital markets union (CMU) can further underpin and facilitate the priorities I have outlined. First, CMU would increase private sector risk-sharing, and thus help to cushion local shocks, reducing the need for using public stabilisation tools. Second, a consistent framework is essential for deep and resilient financial integration. For instance, harmonising and improving insolvency frameworks would make it easier for banks to deal with non-performing assets, which would be beneficial to banks’ health. A genuine capital markets union would also support deeper, integrated and more stable capital markets, improving access to funding for all.  Let me emphasise that none of the measures I have mentioned are possible without trust between Member States, and that requires national governments to play their part in increasing the resilience of their economies and modernising economic structures.  Conclusion  Our monetary policy measures have been very effective. We estimate that the measures we have taken since mid-2014 will have an overall cumulative impact of around 1.9 percentage points on both euro area real GDP growth and inflation for the period between 2016 and 2020.  Our measures are playing a decisive role in bringing inflation back on track to reach a level that is below, but close to, 2% over the medium term. However, we need to be patient, persistent and prudent in our policy to ensure that inflation remains on a sustained adjustment path. As I have said before, downside risks to the outlook mainly relate to the threat of increased protectionism. A strong and united European Union can help reap the benefits of economic openness while protecting its citizens against unchecked globalisation. In leading by example, the EU can lend support to multilateralism and global trade, which have been cornerstones of growing economic prosperity over the past seven decades. But to be successful on the outside, the EU requires strong institutions and sound economic governance at home.  Thank you for your attention. I am now at your disposal for questions.     [1]See “Risk-reducing and risk-sharing in our Monetary Union”, speech by Mario Draghi, President of the European Central Bank, at the European University Institute, Florence, 11 May 2018.       SEE ALSO  Find out more about related content   European Parliament Committee on Economic and Monetary Affairs EuroparlTV',\n",
              " 'Hearing at the Committee on Economic and Monetary Affairs of the European Parliament    Introductory statement by Mario Draghi, President of the ECB,Brussels, 16 December 2013  Madam Chair, Honourable members of the Committee on Economic and Monetary Affairs, It is a pleasure for me to be back in your committee at such a decisive moment. The next days and weeks until the end of this legislature will show whether the euro area will be able to take another key step towards banking union. I believe your institution can play a crucial and constructive role in ensuring that this next step will entail a truly European dimension.  This is also the last time that I will discuss with you in detail matters related to the Single Supervisory Mechanism. Pending the appointment by the Council, Danièle Nouy will become the Chair of the Supervisory Board as of 1 January 2014. She will then also become your primary interlocutor with regard to the SSM. Today, I will first review recent economic and monetary developments in the euro area. I will then explain in greater detail our more recent monetary policy decisions and will present the progress in the preparations of the SSM.  Economic and monetary developments  Since our meeting in September, incoming information has confirmed the ECB’s assessment that underlying price pressures remain subdued over the medium term. The economic recovery in the euro area is fragile. Real GDP in the euro area expanded in the last two quarters: From July to September, it grew by 0.1% – quarter on quarter – following 0.3% in the second quarter of this year. Developments in survey-based confidence indicators up to November point toward a modest growth rate also in the last quarter of the year. At the same time, unemployment remains high. Necessary balance sheet adjustments in financial and non-financial sectors continue to weigh on economic activity. Looking further ahead, we expect output to continue to recover at a slow pace. This is in particular due to some improvement in domestic demand supported by our accommodative monetary policy. Euro area activity should, in addition, benefit from a gradual strengthening of demand for exports. Moreover, the improvement in financial market conditions and reduced uncertainty seems to be gradually transmitted to the real economy. Finally, the progress made in fiscal consolidation has strengthened the confidence of markets in the resilience of the euro area. This should also positively affect the recovery. Nevertheless, the risks to the outlook remain on the downside. They are mainly related to uncertain developments in global money and financial market conditions. Higher commodity prices, weaker than expected domestic demand and export growth, and insufficient structural reforms in euro area countries could also negatively affect economic conditions. Annual HICP inflation increased in November to 0.9%, according to Eurostat’s flash estimate, following an unexpectedly strong decline in October to 0.7%. Underlying price pressures in the euro area are expected to remain subdued over the medium term. We might experience a prolonged period of low inflation to be followed by a gradual upward movement towards inflation rates below, but close to, 2% later on. This reflects the modest pace of the recovery and the fact that medium to long-term inflation expectations continue to be anchored in line with price stability.  Monetary and, in particular, credit dynamics remain subdued. The annual growth rate of loans to the private sector has stabilised at negative levels. Weak loan dynamics continue to reflect primarily the current stage of the business cycle, credit risk and the ongoing adjustment of financial and non-financial sector balance sheets.  Recent monetary policy decisions  Based on this assessment of the current economic outlook, let me now explain in greater detail our more recent monetary policy decisions. In July this year, we introduced forward guidance to clarify the orientation of our monetary policy going forward in an exceptionally uncertain environment: we stated that we expected key interest rates to remain at present or lower levels for an extended period of time. This statement was conditional on an overall subdued outlook for inflation extending into the medium term, which is currently the case, as I have just explained.  In line with our forward guidance, we decided in November to lower the key ECB interest rates further. The interest rate on the main refinancing operations was lowered by 25 basis points to 0.25% and the rate on the marginal lending facility by 25 basis points to 0.75%. The rate on the deposit facility was left unchanged at 0.00%.  Our forward guidance still remains in place: we continue to expect ECB key interest rates to remain at present or lower levels for an extended period of time. Thus, monetary policy will remain accommodative for as long as necessary.  Adjusting interest rates is not always sufficient to maintain price stability. In this crisis, interest rate cuts have been transmitted more slowly and unevenly across euro area countries due to the fragmentation of financial markets. To address this problem, we adopted in recent years a series of non-standard measures. The purpose of these was – and remains – a more effective transmission of the ECB’s interest rate cuts, so that our monetary policy can reach companies and households throughout the euro area. This was also the purpose of our decision in November to continue conducting all our refinancing operations as fixed rate tender procedures with full allotment at least until July 2015. Thus, we have helped to alleviate funding concerns of banks, which are still hesitant to lend to households and firms.  Two years ago, we provided funding support to euro area banks through two Long Term Refinancing Operations with a maturity of three years each. As the funding situation of banks has improved significantly since then, banks have this year opted to repay about 40% of the initially outstanding amount. Accordingly, excess liquidity in overnight money markets has been gradually receding. We are monitoring the potential impact of these developments on our monetary policy stance. We are ready to consider all available instruments. As usual, it takes time before our policy decisions work their way through financial markets and affect the economy. The November decisions on interest rates, on forward guidance and on prolonging full allotment in all refinancing operations are working their way through.  Financial markets have taken up our conditional commitment to an accommodative monetary policy stance for an extended period of time. Money market term interest rates and yields on bank bonds declined.  On the other hand, we are fully aware of the downward risks that a protracted period of low inflation entails. Consistent with its forward guidance, the Governing Council is ready and able to act if needed, as I mentioned at the most recent press conference . Furthermore, we currently see no signs of risks of financial imbalances related to the low interest rate environment. What we observe is still a very subdued trend in monetary and credit developments in the euro area.  Nevertheless, if we were to observe the build-up of such imbalances, this would be the field where macro-prudential authorities would have to intervene with market-specific instruments. Local risks have to be addressed by local instruments. This is why supervisory authorities, including the SSM, are now being equipped with the appropriate micro- and macro-prudential policy tools. I am confident that these will be used if necessary.  State of play of SSM preparations Let me now update you on the latest developments establishing the Single Supervisory Mechanism (SSM), which are well underway.  Our internal preparations aim at ensuring that the ECB will be ready to assume its supervisory responsibilities in November 2014. We will make sure that the ECB’s monetary policy mandate focused on price stability will not be affected by considerations and decisions related to banking supervision. Internal rules are therefore being developed for the separation of monetary policy and supervisory functions: The units involved in decision-making will be clearly separated. We are putting in place an organisational set-up whereby the information flow between the two functions will be limited to a ‘need to know’ basis. However, we will avoid unnecessary duplication of structures not involved in the decision-making process. This is cost-efficient, and I am sure you will appreciate this.  As regards recruitment of staff, I can say that the process for senior and middle managerial positions is well underway. Further recruitment initiatives will start in due course.  An important element of our preparations is the comprehensive assessment, which comprises a supervisory risk assessment, an asset quality review and a stress test performed in cooperation with the European Banking Authority (EBA). This exercise will increase transparency by enhancing the quality of information available. It will facilitate the repair of the sector by identifying the necessary corrective actions. And it will build confidence by assuring all stakeholders that banks are fundamentally sound. It will be concluded shortly before the ECB assumes supervisory responsibilities.  The ECB convened a series of meetings in November in Frankfurt with the banks that will undergo the comprehensive assessment. These meetings were positively received and provided the useful opportunity to have a first exchange of views, to receive feedback on our communication, and respond to questions. We also explained that we would welcome prompt action from the banks, beginning now, to strengthen their balance sheets including profit retention and equity issuances.  Other elements of the comprehensive assessment are on-going. The process for the selection of asset portfolios to be reviewed for the asset quality review was initiated in November, based on specific data collections. Furthermore, we expect to announce the key parameters of the stress test exercise together with the European Banking Authority (EBA) towards the beginning of next year.  In this context, let me explain again the treatment of sovereign bonds: The Asset Quality Review is a valuation exercise where we will apply the current regulatory framework. It is not for us to change this framework – this is a global discussion, and the Basel Committee is the right forum for it. That said, we will of course “stress” a wide range of assets as part of the stress tests: Sovereign bonds will be among them. To ensure the credibility and rigour of the comprehensive assessment, backstops should be well specified and in place as soon as possible. The pecking order should be first private sources, then national public backstops and, as a last resort, European instruments.  Turning now from supervision to resolution, I understand you have reached agreement with the Council on the Bank Recovery and Resolution Directive. Let me again strongly welcome this agreement, as it is an important step towards to the completion of the Banking Union.  However, for the credibility of the Banking Union, another step must be taken too: The SSM needs a strong and credible Single Resolution Mechanism as its counterpart. Responsibilities for supervision and resolution need to be aligned at the European level. Thus, I urge you and the Council to swiftly set-up a robust Single Resolution Mechanism, for which three elements are essential in practice: a single system, a single authority, and a single fund. We should not create a Single Resolution Mechanism that is single in name only. In this respect, I am concerned that decision-making may become overly complex and financing arrangements may not be adequate. I trust that the European Parliament, together with the Council, will succeed in creating a true Banking Union. Thank you for your attention. I am now looking forward to your questions.']"
            ]
          },
          "metadata": {},
          "execution_count": 120
        }
      ]
    },
    {
      "cell_type": "code",
      "metadata": {
        "id": "VJZQ0dewwqxM"
      },
      "source": [
        "with open('docs_monetarypolicy.txt', 'w') as f:\n",
        "    for i in docs:\n",
        "        f.write(\"%s\\n\" % i)"
      ],
      "execution_count": null,
      "outputs": []
    },
    {
      "cell_type": "code",
      "metadata": {
        "colab": {
          "base_uri": "https://localhost:8080/",
          "height": 717
        },
        "id": "yzxsX1Humpve",
        "outputId": "8c8c519f-679e-455c-f6ef-6e6903b24909"
      },
      "source": [
        "topic_model.visualize_barchart(top_n_topics=6, height=700)"
      ],
      "execution_count": null,
      "outputs": [
        {
          "output_type": "display_data",
          "data": {
            "text/html": [
              "<html>\n",
              "<head><meta charset=\"utf-8\" /></head>\n",
              "<body>\n",
              "    <div>            <script src=\"https://cdnjs.cloudflare.com/ajax/libs/mathjax/2.7.5/MathJax.js?config=TeX-AMS-MML_SVG\"></script><script type=\"text/javascript\">if (window.MathJax) {MathJax.Hub.Config({SVG: {font: \"STIX-Web\"}});}</script>                <script type=\"text/javascript\">window.PlotlyConfig = {MathJaxConfig: 'local'};</script>\n",
              "        <script src=\"https://cdn.plot.ly/plotly-latest.min.js\"></script>                <div id=\"3f369e66-f2ad-46a3-a5e7-fac56e002795\" class=\"plotly-graph-div\" style=\"height:700px; width:800px;\"></div>            <script type=\"text/javascript\">                                    window.PLOTLYENV=window.PLOTLYENV || {};                                    if (document.getElementById(\"3f369e66-f2ad-46a3-a5e7-fac56e002795\")) {                    Plotly.newPlot(                        \"3f369e66-f2ad-46a3-a5e7-fac56e002795\",                        [{\"orientation\": \"h\", \"type\": \"bar\", \"x\": [0.010519255988776285, 0.010714848271568825, 0.013864608987224986, 0.018952752584558627, 0.019683718005886378], \"xaxis\": \"x\", \"y\": [\"central  \", \"rates  \", \"inflation  \", \"monetary  \", \"policy  \"], \"yaxis\": \"y\"}, {\"orientation\": \"h\", \"type\": \"bar\", \"x\": [0.01172098353203542, 0.012376575846267888, 0.01508202448969668, 0.0158761693582869, 0.02602440121213778], \"xaxis\": \"x2\", \"y\": [\"policy  \", \"international  \", \"monetary  \", \"currency  \", \"euro  \"], \"yaxis\": \"y2\"}, {\"orientation\": \"h\", \"type\": \"bar\", \"x\": [0.010298147060237146, 0.010505588746366246, 0.010514502650533466, 0.011446293621680098, 0.013006621915188204], \"xaxis\": \"x3\", \"y\": [\"europe  \", \"economic  \", \"euro  \", \"we  \", \"european  \"], \"yaxis\": \"y3\"}, {\"orientation\": \"h\", \"type\": \"bar\", \"x\": [0.010580866156176753, 0.0112169382923978, 0.011831571286129616, 0.012645134656892541, 0.019149425618159237], \"xaxis\": \"x4\", \"y\": [\"liquidity  \", \"market  \", \"banks  \", \"crisis  \", \"financial  \"], \"yaxis\": \"y4\"}, {\"orientation\": \"h\", \"type\": \"bar\", \"x\": [0.013596851452077775, 0.0150624523148051, 0.017211739037170375, 0.022758679340791583, 0.022961411398077468], \"xaxis\": \"x5\", \"y\": [\"european  \", \"markets  \", \"market  \", \"integration  \", \"financial  \"], \"yaxis\": \"y5\"}, {\"orientation\": \"h\", \"type\": \"bar\", \"x\": [0.011514893007851188, 0.011790536166280239, 0.013037371030419213, 0.01599521257949989, 0.019876302037333038], \"xaxis\": \"x6\", \"y\": [\"at  \", \"economic  \", \"euro  \", \"growth  \", \"inflation  \"], \"yaxis\": \"y6\"}],                        {\"annotations\": [{\"font\": {\"size\": 16}, \"showarrow\": false, \"text\": \"Topic 0\", \"x\": 0.11666666666666665, \"xanchor\": \"center\", \"xref\": \"paper\", \"y\": 1.0, \"yanchor\": \"bottom\", \"yref\": \"paper\"}, {\"font\": {\"size\": 16}, \"showarrow\": false, \"text\": \"Topic 1\", \"x\": 0.49999999999999994, \"xanchor\": \"center\", \"xref\": \"paper\", \"y\": 1.0, \"yanchor\": \"bottom\", \"yref\": \"paper\"}, {\"font\": {\"size\": 16}, \"showarrow\": false, \"text\": \"Topic 2\", \"x\": 0.8833333333333333, \"xanchor\": \"center\", \"xref\": \"paper\", \"y\": 1.0, \"yanchor\": \"bottom\", \"yref\": \"paper\"}, {\"font\": {\"size\": 16}, \"showarrow\": false, \"text\": \"Topic 3\", \"x\": 0.11666666666666665, \"xanchor\": \"center\", \"xref\": \"paper\", \"y\": 0.425, \"yanchor\": \"bottom\", \"yref\": \"paper\"}, {\"font\": {\"size\": 16}, \"showarrow\": false, \"text\": \"Topic 4\", \"x\": 0.49999999999999994, \"xanchor\": \"center\", \"xref\": \"paper\", \"y\": 0.425, \"yanchor\": \"bottom\", \"yref\": \"paper\"}, {\"font\": {\"size\": 16}, \"showarrow\": false, \"text\": \"Topic 5\", \"x\": 0.8833333333333333, \"xanchor\": \"center\", \"xref\": \"paper\", \"y\": 0.425, \"yanchor\": \"bottom\", \"yref\": \"paper\"}], \"height\": 700, \"hoverlabel\": {\"bgcolor\": \"white\", \"font\": {\"family\": \"Rockwell\", \"size\": 16}}, \"showlegend\": false, \"template\": {\"data\": {\"bar\": [{\"error_x\": {\"color\": \"#2a3f5f\"}, \"error_y\": {\"color\": \"#2a3f5f\"}, \"marker\": {\"line\": {\"color\": \"white\", \"width\": 0.5}}, \"type\": \"bar\"}], \"barpolar\": [{\"marker\": {\"line\": {\"color\": \"white\", \"width\": 0.5}}, \"type\": \"barpolar\"}], \"carpet\": [{\"aaxis\": {\"endlinecolor\": \"#2a3f5f\", \"gridcolor\": \"#C8D4E3\", \"linecolor\": \"#C8D4E3\", \"minorgridcolor\": \"#C8D4E3\", \"startlinecolor\": \"#2a3f5f\"}, \"baxis\": {\"endlinecolor\": \"#2a3f5f\", \"gridcolor\": \"#C8D4E3\", \"linecolor\": \"#C8D4E3\", \"minorgridcolor\": \"#C8D4E3\", \"startlinecolor\": \"#2a3f5f\"}, \"type\": \"carpet\"}], \"choropleth\": [{\"colorbar\": {\"outlinewidth\": 0, \"ticks\": \"\"}, \"type\": \"choropleth\"}], \"contour\": [{\"colorbar\": {\"outlinewidth\": 0, \"ticks\": \"\"}, \"colorscale\": [[0.0, \"#0d0887\"], [0.1111111111111111, \"#46039f\"], [0.2222222222222222, \"#7201a8\"], [0.3333333333333333, \"#9c179e\"], [0.4444444444444444, \"#bd3786\"], [0.5555555555555556, \"#d8576b\"], [0.6666666666666666, \"#ed7953\"], [0.7777777777777778, \"#fb9f3a\"], [0.8888888888888888, \"#fdca26\"], [1.0, \"#f0f921\"]], \"type\": \"contour\"}], \"contourcarpet\": [{\"colorbar\": {\"outlinewidth\": 0, \"ticks\": \"\"}, \"type\": \"contourcarpet\"}], \"heatmap\": [{\"colorbar\": {\"outlinewidth\": 0, \"ticks\": \"\"}, \"colorscale\": [[0.0, \"#0d0887\"], [0.1111111111111111, \"#46039f\"], [0.2222222222222222, \"#7201a8\"], [0.3333333333333333, \"#9c179e\"], [0.4444444444444444, \"#bd3786\"], [0.5555555555555556, \"#d8576b\"], [0.6666666666666666, \"#ed7953\"], [0.7777777777777778, \"#fb9f3a\"], [0.8888888888888888, \"#fdca26\"], [1.0, \"#f0f921\"]], \"type\": \"heatmap\"}], \"heatmapgl\": [{\"colorbar\": {\"outlinewidth\": 0, \"ticks\": \"\"}, \"colorscale\": [[0.0, \"#0d0887\"], [0.1111111111111111, \"#46039f\"], [0.2222222222222222, \"#7201a8\"], [0.3333333333333333, \"#9c179e\"], [0.4444444444444444, \"#bd3786\"], [0.5555555555555556, \"#d8576b\"], [0.6666666666666666, \"#ed7953\"], [0.7777777777777778, \"#fb9f3a\"], [0.8888888888888888, \"#fdca26\"], [1.0, \"#f0f921\"]], \"type\": \"heatmapgl\"}], \"histogram\": [{\"marker\": {\"colorbar\": {\"outlinewidth\": 0, \"ticks\": \"\"}}, \"type\": \"histogram\"}], \"histogram2d\": [{\"colorbar\": {\"outlinewidth\": 0, \"ticks\": \"\"}, \"colorscale\": [[0.0, \"#0d0887\"], [0.1111111111111111, \"#46039f\"], [0.2222222222222222, \"#7201a8\"], [0.3333333333333333, \"#9c179e\"], [0.4444444444444444, \"#bd3786\"], [0.5555555555555556, \"#d8576b\"], [0.6666666666666666, \"#ed7953\"], [0.7777777777777778, \"#fb9f3a\"], [0.8888888888888888, \"#fdca26\"], [1.0, \"#f0f921\"]], \"type\": \"histogram2d\"}], \"histogram2dcontour\": [{\"colorbar\": {\"outlinewidth\": 0, \"ticks\": \"\"}, \"colorscale\": [[0.0, \"#0d0887\"], [0.1111111111111111, \"#46039f\"], [0.2222222222222222, \"#7201a8\"], [0.3333333333333333, \"#9c179e\"], [0.4444444444444444, \"#bd3786\"], [0.5555555555555556, \"#d8576b\"], [0.6666666666666666, \"#ed7953\"], [0.7777777777777778, \"#fb9f3a\"], [0.8888888888888888, \"#fdca26\"], [1.0, \"#f0f921\"]], \"type\": \"histogram2dcontour\"}], \"mesh3d\": [{\"colorbar\": {\"outlinewidth\": 0, \"ticks\": \"\"}, \"type\": \"mesh3d\"}], \"parcoords\": [{\"line\": {\"colorbar\": {\"outlinewidth\": 0, \"ticks\": \"\"}}, \"type\": \"parcoords\"}], \"pie\": [{\"automargin\": true, \"type\": \"pie\"}], \"scatter\": [{\"marker\": {\"colorbar\": {\"outlinewidth\": 0, \"ticks\": \"\"}}, \"type\": \"scatter\"}], \"scatter3d\": [{\"line\": {\"colorbar\": {\"outlinewidth\": 0, \"ticks\": \"\"}}, \"marker\": {\"colorbar\": {\"outlinewidth\": 0, \"ticks\": \"\"}}, \"type\": \"scatter3d\"}], \"scattercarpet\": [{\"marker\": {\"colorbar\": {\"outlinewidth\": 0, \"ticks\": \"\"}}, \"type\": \"scattercarpet\"}], \"scattergeo\": [{\"marker\": {\"colorbar\": {\"outlinewidth\": 0, \"ticks\": \"\"}}, \"type\": \"scattergeo\"}], \"scattergl\": [{\"marker\": {\"colorbar\": {\"outlinewidth\": 0, \"ticks\": \"\"}}, \"type\": \"scattergl\"}], \"scattermapbox\": [{\"marker\": {\"colorbar\": {\"outlinewidth\": 0, \"ticks\": \"\"}}, \"type\": \"scattermapbox\"}], \"scatterpolar\": [{\"marker\": {\"colorbar\": {\"outlinewidth\": 0, \"ticks\": \"\"}}, \"type\": \"scatterpolar\"}], \"scatterpolargl\": [{\"marker\": {\"colorbar\": {\"outlinewidth\": 0, \"ticks\": \"\"}}, \"type\": \"scatterpolargl\"}], \"scatterternary\": [{\"marker\": {\"colorbar\": {\"outlinewidth\": 0, \"ticks\": \"\"}}, \"type\": \"scatterternary\"}], \"surface\": [{\"colorbar\": {\"outlinewidth\": 0, \"ticks\": \"\"}, \"colorscale\": [[0.0, \"#0d0887\"], [0.1111111111111111, \"#46039f\"], [0.2222222222222222, \"#7201a8\"], [0.3333333333333333, \"#9c179e\"], [0.4444444444444444, \"#bd3786\"], [0.5555555555555556, \"#d8576b\"], [0.6666666666666666, \"#ed7953\"], [0.7777777777777778, \"#fb9f3a\"], [0.8888888888888888, \"#fdca26\"], [1.0, \"#f0f921\"]], \"type\": \"surface\"}], \"table\": [{\"cells\": {\"fill\": {\"color\": \"#EBF0F8\"}, \"line\": {\"color\": \"white\"}}, \"header\": {\"fill\": {\"color\": \"#C8D4E3\"}, \"line\": {\"color\": \"white\"}}, \"type\": \"table\"}]}, \"layout\": {\"annotationdefaults\": {\"arrowcolor\": \"#2a3f5f\", \"arrowhead\": 0, \"arrowwidth\": 1}, \"autotypenumbers\": \"strict\", \"coloraxis\": {\"colorbar\": {\"outlinewidth\": 0, \"ticks\": \"\"}}, \"colorscale\": {\"diverging\": [[0, \"#8e0152\"], [0.1, \"#c51b7d\"], [0.2, \"#de77ae\"], [0.3, \"#f1b6da\"], [0.4, \"#fde0ef\"], [0.5, \"#f7f7f7\"], [0.6, \"#e6f5d0\"], [0.7, \"#b8e186\"], [0.8, \"#7fbc41\"], [0.9, \"#4d9221\"], [1, \"#276419\"]], \"sequential\": [[0.0, \"#0d0887\"], [0.1111111111111111, \"#46039f\"], [0.2222222222222222, \"#7201a8\"], [0.3333333333333333, \"#9c179e\"], [0.4444444444444444, \"#bd3786\"], [0.5555555555555556, \"#d8576b\"], [0.6666666666666666, \"#ed7953\"], [0.7777777777777778, \"#fb9f3a\"], [0.8888888888888888, \"#fdca26\"], [1.0, \"#f0f921\"]], \"sequentialminus\": [[0.0, \"#0d0887\"], [0.1111111111111111, \"#46039f\"], [0.2222222222222222, \"#7201a8\"], [0.3333333333333333, \"#9c179e\"], [0.4444444444444444, \"#bd3786\"], [0.5555555555555556, \"#d8576b\"], [0.6666666666666666, \"#ed7953\"], [0.7777777777777778, \"#fb9f3a\"], [0.8888888888888888, \"#fdca26\"], [1.0, \"#f0f921\"]]}, \"colorway\": [\"#636efa\", \"#EF553B\", \"#00cc96\", \"#ab63fa\", \"#FFA15A\", \"#19d3f3\", \"#FF6692\", \"#B6E880\", \"#FF97FF\", \"#FECB52\"], \"font\": {\"color\": \"#2a3f5f\"}, \"geo\": {\"bgcolor\": \"white\", \"lakecolor\": \"white\", \"landcolor\": \"white\", \"showlakes\": true, \"showland\": true, \"subunitcolor\": \"#C8D4E3\"}, \"hoverlabel\": {\"align\": \"left\"}, \"hovermode\": \"closest\", \"mapbox\": {\"style\": \"light\"}, \"paper_bgcolor\": \"white\", \"plot_bgcolor\": \"white\", \"polar\": {\"angularaxis\": {\"gridcolor\": \"#EBF0F8\", \"linecolor\": \"#EBF0F8\", \"ticks\": \"\"}, \"bgcolor\": \"white\", \"radialaxis\": {\"gridcolor\": \"#EBF0F8\", \"linecolor\": \"#EBF0F8\", \"ticks\": \"\"}}, \"scene\": {\"xaxis\": {\"backgroundcolor\": \"white\", \"gridcolor\": \"#DFE8F3\", \"gridwidth\": 2, \"linecolor\": \"#EBF0F8\", \"showbackground\": true, \"ticks\": \"\", \"zerolinecolor\": \"#EBF0F8\"}, \"yaxis\": {\"backgroundcolor\": \"white\", \"gridcolor\": \"#DFE8F3\", \"gridwidth\": 2, \"linecolor\": \"#EBF0F8\", \"showbackground\": true, \"ticks\": \"\", \"zerolinecolor\": \"#EBF0F8\"}, \"zaxis\": {\"backgroundcolor\": \"white\", \"gridcolor\": \"#DFE8F3\", \"gridwidth\": 2, \"linecolor\": \"#EBF0F8\", \"showbackground\": true, \"ticks\": \"\", \"zerolinecolor\": \"#EBF0F8\"}}, \"shapedefaults\": {\"line\": {\"color\": \"#2a3f5f\"}}, \"ternary\": {\"aaxis\": {\"gridcolor\": \"#DFE8F3\", \"linecolor\": \"#A2B1C6\", \"ticks\": \"\"}, \"baxis\": {\"gridcolor\": \"#DFE8F3\", \"linecolor\": \"#A2B1C6\", \"ticks\": \"\"}, \"bgcolor\": \"white\", \"caxis\": {\"gridcolor\": \"#DFE8F3\", \"linecolor\": \"#A2B1C6\", \"ticks\": \"\"}}, \"title\": {\"x\": 0.05}, \"xaxis\": {\"automargin\": true, \"gridcolor\": \"#EBF0F8\", \"linecolor\": \"#EBF0F8\", \"ticks\": \"\", \"title\": {\"standoff\": 15}, \"zerolinecolor\": \"#EBF0F8\", \"zerolinewidth\": 2}, \"yaxis\": {\"automargin\": true, \"gridcolor\": \"#EBF0F8\", \"linecolor\": \"#EBF0F8\", \"ticks\": \"\", \"title\": {\"standoff\": 15}, \"zerolinecolor\": \"#EBF0F8\", \"zerolinewidth\": 2}}}, \"title\": {\"font\": {\"color\": \"Black\", \"size\": 22}, \"text\": \"<b>Topic Word Scores\", \"x\": 0.15, \"xanchor\": \"center\", \"y\": 0.95, \"yanchor\": \"top\"}, \"width\": 800, \"xaxis\": {\"anchor\": \"y\", \"domain\": [0.0, 0.2333333333333333], \"matches\": \"x4\", \"showgrid\": true, \"showticklabels\": false}, \"xaxis2\": {\"anchor\": \"y2\", \"domain\": [0.3833333333333333, 0.6166666666666666], \"matches\": \"x5\", \"showgrid\": true, \"showticklabels\": false}, \"xaxis3\": {\"anchor\": \"y3\", \"domain\": [0.7666666666666666, 0.9999999999999999], \"matches\": \"x6\", \"showgrid\": true, \"showticklabels\": false}, \"xaxis4\": {\"anchor\": \"y4\", \"domain\": [0.0, 0.2333333333333333], \"showgrid\": true}, \"xaxis5\": {\"anchor\": \"y5\", \"domain\": [0.3833333333333333, 0.6166666666666666], \"showgrid\": true}, \"xaxis6\": {\"anchor\": \"y6\", \"domain\": [0.7666666666666666, 0.9999999999999999], \"showgrid\": true}, \"yaxis\": {\"anchor\": \"x\", \"domain\": [0.575, 1.0], \"showgrid\": true}, \"yaxis2\": {\"anchor\": \"x2\", \"domain\": [0.575, 1.0], \"showgrid\": true}, \"yaxis3\": {\"anchor\": \"x3\", \"domain\": [0.575, 1.0], \"showgrid\": true}, \"yaxis4\": {\"anchor\": \"x4\", \"domain\": [0.0, 0.425], \"showgrid\": true}, \"yaxis5\": {\"anchor\": \"x5\", \"domain\": [0.0, 0.425], \"showgrid\": true}, \"yaxis6\": {\"anchor\": \"x6\", \"domain\": [0.0, 0.425], \"showgrid\": true}},                        {\"responsive\": true}                    ).then(function(){\n",
              "                            \n",
              "var gd = document.getElementById('3f369e66-f2ad-46a3-a5e7-fac56e002795');\n",
              "var x = new MutationObserver(function (mutations, observer) {{\n",
              "        var display = window.getComputedStyle(gd).display;\n",
              "        if (!display || display === 'none') {{\n",
              "            console.log([gd, 'removed!']);\n",
              "            Plotly.purge(gd);\n",
              "            observer.disconnect();\n",
              "        }}\n",
              "}});\n",
              "\n",
              "// Listen for the removal of the full notebook cells\n",
              "var notebookContainer = gd.closest('#notebook-container');\n",
              "if (notebookContainer) {{\n",
              "    x.observe(notebookContainer, {childList: true});\n",
              "}}\n",
              "\n",
              "// Listen for the clearing of the current output cell\n",
              "var outputEl = gd.closest('.output');\n",
              "if (outputEl) {{\n",
              "    x.observe(outputEl, {childList: true});\n",
              "}}\n",
              "\n",
              "                        })                };                            </script>        </div>\n",
              "</body>\n",
              "</html>"
            ]
          },
          "metadata": {}
        }
      ]
    },
    {
      "cell_type": "code",
      "metadata": {
        "id": "zztbjRQOwquk"
      },
      "source": [
        "topic_model.save(\"BERTopic_ECB\")"
      ],
      "execution_count": null,
      "outputs": []
    },
    {
      "cell_type": "code",
      "metadata": {
        "id": "bv5sqWfS0oqD"
      },
      "source": [
        ""
      ],
      "execution_count": null,
      "outputs": []
    }
  ]
}